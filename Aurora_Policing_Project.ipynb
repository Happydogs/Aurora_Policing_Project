{
 "cells": [
  {
   "cell_type": "markdown",
   "metadata": {},
   "source": [
    "# Aurora Policing Project"
   ]
  },
  {
   "cell_type": "markdown",
   "metadata": {},
   "source": [
    "## About the policing data\n",
    "\n",
    "Throughout this project, I will be analyzing a dataset of traffic stops in Aurora Colorado that was collected by the \"Stanford Open Policing Project\". [Stanford Open Policing Project Data](https://openpolicing.stanford.edu/data/)\n",
    "\n",
    "\n",
    "\n",
    "<table>\n",
    "  <tr>\n",
    "    <td>Column name</td>\n",
    "    <td>Column meaning</td>\n",
    "    <td>Example value</td>\n",
    "  </tr>\n",
    "  <tr>\n",
    "    <td>raw_row_number</td>\n",
    "    <td>An number used to join clean data back to the raw data</td>\n",
    "    <td>38299</td>\n",
    "  </tr>\n",
    "  <tr>\n",
    "    <td>date</td>\n",
    "    <td>The date of the stop, in YYYY-MM-DD format. Some states do not provide\n",
    "    the exact stop date: for example, they only provide the year or quarter in\n",
    "    which the stop occurred. For these states, stop_date is set to the date at\n",
    "    the beginning of the period: for example, January 1 if only year is\n",
    "    provided.</td>\n",
    "    <td>\"2017-02-02\"</td>\n",
    "  </tr>\n",
    "  <tr>\n",
    "    <td>time</td>\n",
    "    <td>The 24-hour time of the stop, in HH:MM format.</td>\n",
    "    <td>20:15</td>\n",
    "  </tr>\n",
    "  <tr>\n",
    "    <td>location</td>\n",
    "    <td>The freeform text of the location. Occasionally, this represents the\n",
    "    concatenation of several raw fields, i.e. street_number, street_name</td>\n",
    "    <td>\"248 Stockton Rd.\"</td>\n",
    "  </tr>\n",
    "  <tr>\n",
    "    <td>lat</td>\n",
    "    <td>The latitude of the stop. If not provided by the department, we\n",
    "    attempt to geocode any provided address or location using\n",
    "    Google Maps. Google Maps returns a \"best effort\" response, which may not\n",
    "    be completely accurate if the provided location was malformed or\n",
    "    underspecified. To protect against suprious responses, geocodes more than\n",
    "    4 standard deviations from the median stop lat/lng are set to NA.\n",
    "    <td>72.23545</td>\n",
    "  </tr>\n",
    "  <tr>\n",
    "    <td>lng</td>\n",
    "    <td>The longitude of the stop. If not provided by the department, we\n",
    "    attempt to geocode any provided address or location using\n",
    "    Google Maps. Google Maps returns a \"best effort\" response, which may not\n",
    "    be completely accurate if the provided location was malformed or\n",
    "    underspecified. To protect against suprious responses, geocodes more than\n",
    "    4 standard deviations from the median stop lat/lng are set to NA.\n",
    "    </td>\n",
    "    <td>115.2808</td>\n",
    "  </tr>\n",
    "  \n",
    "  <tr>\n",
    "    <td>district</td>\n",
    "    <td>Police district. If not provided, but we have retrieved police\n",
    "    department shapfiles and the location of the stop, we geocode the stop and\n",
    "    find the district using the shapefiles.</td>\n",
    "    <td>8</td>\n",
    "  </tr>\n",
    "  \n",
    "  <tr>\n",
    "    <td>subject_age</td>\n",
    "    <td>The age of the stopped subject. When date of birth is given, we\n",
    "    calculate the age based on the stop date. Values outside the range of\n",
    "    10-110 are coerced to NA.</td>\n",
    "    <td>54.23</td>\n",
    "  </tr>\n",
    "  <tr>\n",
    "    <td>subject_race</td>\n",
    "    <td>The race of the stopped subject. Values are standardized to white,\n",
    "    black, hispanic, asian/pacific islander, and other/unknown</td>\n",
    "    <td>\"hispanic\"</td>\n",
    "  </tr>\n",
    "  <tr>\n",
    "    <td>subject_sex</td>\n",
    "    <td>The recorded sex of the stopped subject.</td>\n",
    "    <td>\"female\"</td>\n",
    "  </tr>\n",
    " \n",
    "  <tr>\n",
    "    <td>type</td>\n",
    "    <td>Type of stop: vehicular or pedestrian.</td>\n",
    "    <td>\"vehicular\"</td>\n",
    "  </tr>\n",
    "  \n",
    "  <tr>\n",
    "    <td>violation</td>\n",
    "    <td>Specific violation of stop where provided. What is recorded here varies\n",
    "    widely across police departments.</td>\n",
    "    <td>\"SPEEDING 15-20 OVER\"</td>\n",
    "  </tr>\n",
    "  <tr>\n",
    "    <td>citation_issued</td>\n",
    "    <td>Indicates whether a citation was issued.</td>\n",
    "    <td>TRUE</td>\n",
    "  </tr>\n",
    "  \n",
    "  <tr>\n",
    "    <td>outcome</td>\n",
    "    <td>The strictest action taken among arrest, citation, warning, and\n",
    "    summons.</td>\n",
    "    <td>\"citation\"</td>\n",
    "  </tr>\n",
    "  \n",
    "</table>\n",
    "\n"
   ]
  },
  {
   "cell_type": "markdown",
   "metadata": {},
   "source": [
    "## Preparing the Aurora policing data for analysis"
   ]
  },
  {
   "cell_type": "code",
   "execution_count": 61,
   "metadata": {},
   "outputs": [],
   "source": [
    "# Import numpy library\n",
    "import numpy as np"
   ]
  },
  {
   "cell_type": "code",
   "execution_count": 62,
   "metadata": {},
   "outputs": [],
   "source": [
    "# Import pandas library \n",
    "import pandas as pd"
   ]
  },
  {
   "cell_type": "code",
   "execution_count": 63,
   "metadata": {},
   "outputs": [],
   "source": [
    "# Import matplotlib.pyplot library \n",
    "import matplotlib.pyplot as plt"
   ]
  },
  {
   "cell_type": "code",
   "execution_count": 64,
   "metadata": {},
   "outputs": [],
   "source": [
    "# Read file into dataframe named data \n",
    "data = pd.read_csv(\"co_aurora_2019_02_25 copy.csv\")"
   ]
  },
  {
   "cell_type": "markdown",
   "metadata": {},
   "source": [
    "### Examing the dataset"
   ]
  },
  {
   "cell_type": "code",
   "execution_count": 65,
   "metadata": {
    "scrolled": true
   },
   "outputs": [
    {
     "data": {
      "text/html": [
       "<div>\n",
       "<style scoped>\n",
       "    .dataframe tbody tr th:only-of-type {\n",
       "        vertical-align: middle;\n",
       "    }\n",
       "\n",
       "    .dataframe tbody tr th {\n",
       "        vertical-align: top;\n",
       "    }\n",
       "\n",
       "    .dataframe thead th {\n",
       "        text-align: right;\n",
       "    }\n",
       "</style>\n",
       "<table border=\"1\" class=\"dataframe\">\n",
       "  <thead>\n",
       "    <tr style=\"text-align: right;\">\n",
       "      <th></th>\n",
       "      <th>raw_row_number</th>\n",
       "      <th>date</th>\n",
       "      <th>time</th>\n",
       "      <th>location</th>\n",
       "      <th>lat</th>\n",
       "      <th>lng</th>\n",
       "      <th>district</th>\n",
       "      <th>subject_age</th>\n",
       "      <th>subject_race</th>\n",
       "      <th>subject_sex</th>\n",
       "      <th>type</th>\n",
       "      <th>violation</th>\n",
       "      <th>citation_issued</th>\n",
       "      <th>outcome</th>\n",
       "    </tr>\n",
       "  </thead>\n",
       "  <tbody>\n",
       "    <tr>\n",
       "      <th>0</th>\n",
       "      <td>1</td>\n",
       "      <td>2012-01-01</td>\n",
       "      <td>09:14:00</td>\n",
       "      <td>S I225 NB HWY AT E ALAMEDA AVE</td>\n",
       "      <td>NaN</td>\n",
       "      <td>NaN</td>\n",
       "      <td>NaN</td>\n",
       "      <td>27.376370</td>\n",
       "      <td>white</td>\n",
       "      <td>male</td>\n",
       "      <td>vehicular</td>\n",
       "      <td>Speeding (20+ Over) - Muni Statue 1101</td>\n",
       "      <td>True</td>\n",
       "      <td>citation</td>\n",
       "    </tr>\n",
       "    <tr>\n",
       "      <th>1</th>\n",
       "      <td>2</td>\n",
       "      <td>2012-01-01</td>\n",
       "      <td>09:30:00</td>\n",
       "      <td>2600 S I225 NB HWY</td>\n",
       "      <td>NaN</td>\n",
       "      <td>NaN</td>\n",
       "      <td>NaN</td>\n",
       "      <td>23.658287</td>\n",
       "      <td>black</td>\n",
       "      <td>female</td>\n",
       "      <td>vehicular</td>\n",
       "      <td>Speeding (20+ Over) - Muni Statue 1101</td>\n",
       "      <td>True</td>\n",
       "      <td>citation</td>\n",
       "    </tr>\n",
       "    <tr>\n",
       "      <th>2</th>\n",
       "      <td>3</td>\n",
       "      <td>2012-01-01</td>\n",
       "      <td>09:36:00</td>\n",
       "      <td>N I225 SB HWY AT E 6TH AVE</td>\n",
       "      <td>39.725279</td>\n",
       "      <td>-104.821160</td>\n",
       "      <td>2.0</td>\n",
       "      <td>23.088801</td>\n",
       "      <td>white</td>\n",
       "      <td>male</td>\n",
       "      <td>vehicular</td>\n",
       "      <td>Speeding (20+ Over) - Muni Statue 1101</td>\n",
       "      <td>True</td>\n",
       "      <td>citation</td>\n",
       "    </tr>\n",
       "    <tr>\n",
       "      <th>3</th>\n",
       "      <td>4</td>\n",
       "      <td>2012-01-01</td>\n",
       "      <td>09:40:00</td>\n",
       "      <td>2300 BLOCK S I225 NB HWY</td>\n",
       "      <td>NaN</td>\n",
       "      <td>NaN</td>\n",
       "      <td>NaN</td>\n",
       "      <td>38.503239</td>\n",
       "      <td>white</td>\n",
       "      <td>female</td>\n",
       "      <td>vehicular</td>\n",
       "      <td>Speeding (20+ Over) - Muni Statue 1101</td>\n",
       "      <td>True</td>\n",
       "      <td>citation</td>\n",
       "    </tr>\n",
       "    <tr>\n",
       "      <th>4</th>\n",
       "      <td>5</td>\n",
       "      <td>2012-01-01</td>\n",
       "      <td>09:46:00</td>\n",
       "      <td>E VIRGINIA PL AT S PEORIA ST</td>\n",
       "      <td>39.706912</td>\n",
       "      <td>-104.847213</td>\n",
       "      <td>1.0</td>\n",
       "      <td>75.429441</td>\n",
       "      <td>white</td>\n",
       "      <td>male</td>\n",
       "      <td>vehicular</td>\n",
       "      <td>Failed to Present Evidence of Insurance Upon R...</td>\n",
       "      <td>True</td>\n",
       "      <td>citation</td>\n",
       "    </tr>\n",
       "  </tbody>\n",
       "</table>\n",
       "</div>"
      ],
      "text/plain": [
       "   raw_row_number        date      time                        location  \\\n",
       "0               1  2012-01-01  09:14:00  S I225 NB HWY AT E ALAMEDA AVE   \n",
       "1               2  2012-01-01  09:30:00              2600 S I225 NB HWY   \n",
       "2               3  2012-01-01  09:36:00      N I225 SB HWY AT E 6TH AVE   \n",
       "3               4  2012-01-01  09:40:00        2300 BLOCK S I225 NB HWY   \n",
       "4               5  2012-01-01  09:46:00    E VIRGINIA PL AT S PEORIA ST   \n",
       "\n",
       "         lat         lng  district  subject_age subject_race subject_sex  \\\n",
       "0        NaN         NaN       NaN    27.376370        white        male   \n",
       "1        NaN         NaN       NaN    23.658287        black      female   \n",
       "2  39.725279 -104.821160       2.0    23.088801        white        male   \n",
       "3        NaN         NaN       NaN    38.503239        white      female   \n",
       "4  39.706912 -104.847213       1.0    75.429441        white        male   \n",
       "\n",
       "        type                                          violation  \\\n",
       "0  vehicular             Speeding (20+ Over) - Muni Statue 1101   \n",
       "1  vehicular             Speeding (20+ Over) - Muni Statue 1101   \n",
       "2  vehicular             Speeding (20+ Over) - Muni Statue 1101   \n",
       "3  vehicular             Speeding (20+ Over) - Muni Statue 1101   \n",
       "4  vehicular  Failed to Present Evidence of Insurance Upon R...   \n",
       "\n",
       "   citation_issued   outcome  \n",
       "0             True  citation  \n",
       "1             True  citation  \n",
       "2             True  citation  \n",
       "3             True  citation  \n",
       "4             True  citation  "
      ]
     },
     "execution_count": 65,
     "metadata": {},
     "output_type": "execute_result"
    }
   ],
   "source": [
    "# Examine the head of dataframe \n",
    "data.head()"
   ]
  },
  {
   "cell_type": "markdown",
   "metadata": {},
   "source": [
    "#### Aurora District information \n",
    "[Aurora District (1,2,3) Map](https://wiki.radioreference.com/images/3/3b/Aurora_Beat_Map.pdf)"
   ]
  },
  {
   "cell_type": "markdown",
   "metadata": {},
   "source": [
    "## Dropping columns\n",
    "Dropping the columns which are not useful to analysis. "
   ]
  },
  {
   "cell_type": "code",
   "execution_count": 66,
   "metadata": {
    "scrolled": true
   },
   "outputs": [
    {
     "name": "stdout",
     "output_type": "stream",
     "text": [
      "raw_row_number         0\n",
      "date                   0\n",
      "time                 943\n",
      "location              12\n",
      "lat                31629\n",
      "lng                31629\n",
      "district           33838\n",
      "subject_age         5863\n",
      "subject_race           4\n",
      "subject_sex         2006\n",
      "type                4278\n",
      "violation           3571\n",
      "citation_issued        0\n",
      "outcome                0\n",
      "dtype: int64\n"
     ]
    }
   ],
   "source": [
    "# Count the number of missing values in each column\n",
    "print(data.isnull().sum())"
   ]
  },
  {
   "cell_type": "code",
   "execution_count": 67,
   "metadata": {},
   "outputs": [
    {
     "name": "stdout",
     "output_type": "stream",
     "text": [
      "(174363, 14)\n"
     ]
    }
   ],
   "source": [
    "print(data.shape)"
   ]
  },
  {
   "cell_type": "markdown",
   "metadata": {},
   "source": [
    "#### Dropping raw_row_number, because I will not use this number as reference number"
   ]
  },
  {
   "cell_type": "code",
   "execution_count": 68,
   "metadata": {},
   "outputs": [
    {
     "name": "stdout",
     "output_type": "stream",
     "text": [
      "(174363, 13)\n"
     ]
    }
   ],
   "source": [
    "data.drop(['raw_row_number'], axis = 'columns', inplace = True)\n",
    "print(data.shape)"
   ]
  },
  {
   "cell_type": "markdown",
   "metadata": {},
   "source": [
    "#### Dropping lat, lng, and district columns\n",
    "I will use 'location' instead using 'lat' and 'lng'. I will not use police district column."
   ]
  },
  {
   "cell_type": "code",
   "execution_count": 69,
   "metadata": {},
   "outputs": [
    {
     "name": "stdout",
     "output_type": "stream",
     "text": [
      "(174363, 10)\n"
     ]
    }
   ],
   "source": [
    "# Drop 'lat', and 'lng' columns\n",
    "data.drop(['lat','lng', 'district'], axis = 'columns', inplace = True)\n",
    "print(data.shape)"
   ]
  },
  {
   "cell_type": "markdown",
   "metadata": {},
   "source": [
    "I will drop 'type' column because type pedestrian only has 24 rows out of 163803. "
   ]
  },
  {
   "cell_type": "code",
   "execution_count": 70,
   "metadata": {},
   "outputs": [
    {
     "data": {
      "text/plain": [
       "vehicular     170061\n",
       "pedestrian        24\n",
       "Name: type, dtype: int64"
      ]
     },
     "execution_count": 70,
     "metadata": {},
     "output_type": "execute_result"
    }
   ],
   "source": [
    "data.type.value_counts()"
   ]
  },
  {
   "cell_type": "code",
   "execution_count": 71,
   "metadata": {},
   "outputs": [],
   "source": [
    "# Drop 'type' column\n",
    "data.drop(['type'], axis = 'columns', inplace = True)"
   ]
  },
  {
   "cell_type": "markdown",
   "metadata": {},
   "source": [
    "#### Dropping rows\n",
    "I will drop the rows which contain any missing values if the fraction of missing row is small. (less than 5%)"
   ]
  },
  {
   "cell_type": "code",
   "execution_count": 72,
   "metadata": {},
   "outputs": [
    {
     "name": "stdout",
     "output_type": "stream",
     "text": [
      "date               0.000000\n",
      "time               0.005408\n",
      "location           0.000069\n",
      "subject_age        0.033625\n",
      "subject_race       0.000023\n",
      "subject_sex        0.011505\n",
      "violation          0.020480\n",
      "citation_issued    0.000000\n",
      "outcome            0.000000\n",
      "dtype: float64\n"
     ]
    }
   ],
   "source": [
    "# Calculate the percentage of missing data \n",
    "print(data.isnull().sum()/data.shape[0])"
   ]
  },
  {
   "cell_type": "code",
   "execution_count": 73,
   "metadata": {},
   "outputs": [
    {
     "name": "stdout",
     "output_type": "stream",
     "text": [
      "(163978, 9)\n"
     ]
    }
   ],
   "source": [
    "data.dropna(subset=['location', 'time', 'subject_age', 'subject_race', 'subject_sex', 'violation'], inplace = True)\n",
    "print(data.shape)"
   ]
  },
  {
   "cell_type": "code",
   "execution_count": 74,
   "metadata": {},
   "outputs": [
    {
     "name": "stdout",
     "output_type": "stream",
     "text": [
      "date               0\n",
      "time               0\n",
      "location           0\n",
      "subject_age        0\n",
      "subject_race       0\n",
      "subject_sex        0\n",
      "violation          0\n",
      "citation_issued    0\n",
      "outcome            0\n",
      "dtype: int64\n"
     ]
    }
   ],
   "source": [
    "# Count the number of missing values in each column (again)\n",
    "print(data.isnull().sum())"
   ]
  },
  {
   "cell_type": "code",
   "execution_count": 75,
   "metadata": {},
   "outputs": [
    {
     "name": "stdout",
     "output_type": "stream",
     "text": [
      "(163978, 9)\n"
     ]
    }
   ],
   "source": [
    "# Examine the shape of the Dataframe\n",
    "print(data.shape)"
   ]
  },
  {
   "cell_type": "code",
   "execution_count": 76,
   "metadata": {
    "scrolled": true
   },
   "outputs": [
    {
     "data": {
      "text/html": [
       "<div>\n",
       "<style scoped>\n",
       "    .dataframe tbody tr th:only-of-type {\n",
       "        vertical-align: middle;\n",
       "    }\n",
       "\n",
       "    .dataframe tbody tr th {\n",
       "        vertical-align: top;\n",
       "    }\n",
       "\n",
       "    .dataframe thead th {\n",
       "        text-align: right;\n",
       "    }\n",
       "</style>\n",
       "<table border=\"1\" class=\"dataframe\">\n",
       "  <thead>\n",
       "    <tr style=\"text-align: right;\">\n",
       "      <th></th>\n",
       "      <th>date</th>\n",
       "      <th>time</th>\n",
       "      <th>location</th>\n",
       "      <th>subject_age</th>\n",
       "      <th>subject_race</th>\n",
       "      <th>subject_sex</th>\n",
       "      <th>violation</th>\n",
       "      <th>citation_issued</th>\n",
       "      <th>outcome</th>\n",
       "    </tr>\n",
       "  </thead>\n",
       "  <tbody>\n",
       "    <tr>\n",
       "      <th>0</th>\n",
       "      <td>2012-01-01</td>\n",
       "      <td>09:14:00</td>\n",
       "      <td>S I225 NB HWY AT E ALAMEDA AVE</td>\n",
       "      <td>27.376370</td>\n",
       "      <td>white</td>\n",
       "      <td>male</td>\n",
       "      <td>Speeding (20+ Over) - Muni Statue 1101</td>\n",
       "      <td>True</td>\n",
       "      <td>citation</td>\n",
       "    </tr>\n",
       "    <tr>\n",
       "      <th>1</th>\n",
       "      <td>2012-01-01</td>\n",
       "      <td>09:30:00</td>\n",
       "      <td>2600 S I225 NB HWY</td>\n",
       "      <td>23.658287</td>\n",
       "      <td>black</td>\n",
       "      <td>female</td>\n",
       "      <td>Speeding (20+ Over) - Muni Statue 1101</td>\n",
       "      <td>True</td>\n",
       "      <td>citation</td>\n",
       "    </tr>\n",
       "    <tr>\n",
       "      <th>2</th>\n",
       "      <td>2012-01-01</td>\n",
       "      <td>09:36:00</td>\n",
       "      <td>N I225 SB HWY AT E 6TH AVE</td>\n",
       "      <td>23.088801</td>\n",
       "      <td>white</td>\n",
       "      <td>male</td>\n",
       "      <td>Speeding (20+ Over) - Muni Statue 1101</td>\n",
       "      <td>True</td>\n",
       "      <td>citation</td>\n",
       "    </tr>\n",
       "    <tr>\n",
       "      <th>3</th>\n",
       "      <td>2012-01-01</td>\n",
       "      <td>09:40:00</td>\n",
       "      <td>2300 BLOCK S I225 NB HWY</td>\n",
       "      <td>38.503239</td>\n",
       "      <td>white</td>\n",
       "      <td>female</td>\n",
       "      <td>Speeding (20+ Over) - Muni Statue 1101</td>\n",
       "      <td>True</td>\n",
       "      <td>citation</td>\n",
       "    </tr>\n",
       "    <tr>\n",
       "      <th>4</th>\n",
       "      <td>2012-01-01</td>\n",
       "      <td>09:46:00</td>\n",
       "      <td>E VIRGINIA PL AT S PEORIA ST</td>\n",
       "      <td>75.429441</td>\n",
       "      <td>white</td>\n",
       "      <td>male</td>\n",
       "      <td>Failed to Present Evidence of Insurance Upon R...</td>\n",
       "      <td>True</td>\n",
       "      <td>citation</td>\n",
       "    </tr>\n",
       "  </tbody>\n",
       "</table>\n",
       "</div>"
      ],
      "text/plain": [
       "         date      time                        location  subject_age  \\\n",
       "0  2012-01-01  09:14:00  S I225 NB HWY AT E ALAMEDA AVE    27.376370   \n",
       "1  2012-01-01  09:30:00              2600 S I225 NB HWY    23.658287   \n",
       "2  2012-01-01  09:36:00      N I225 SB HWY AT E 6TH AVE    23.088801   \n",
       "3  2012-01-01  09:40:00        2300 BLOCK S I225 NB HWY    38.503239   \n",
       "4  2012-01-01  09:46:00    E VIRGINIA PL AT S PEORIA ST    75.429441   \n",
       "\n",
       "  subject_race subject_sex                                          violation  \\\n",
       "0        white        male             Speeding (20+ Over) - Muni Statue 1101   \n",
       "1        black      female             Speeding (20+ Over) - Muni Statue 1101   \n",
       "2        white        male             Speeding (20+ Over) - Muni Statue 1101   \n",
       "3        white      female             Speeding (20+ Over) - Muni Statue 1101   \n",
       "4        white        male  Failed to Present Evidence of Insurance Upon R...   \n",
       "\n",
       "   citation_issued   outcome  \n",
       "0             True  citation  \n",
       "1             True  citation  \n",
       "2             True  citation  \n",
       "3             True  citation  \n",
       "4             True  citation  "
      ]
     },
     "execution_count": 76,
     "metadata": {},
     "output_type": "execute_result"
    }
   ],
   "source": [
    "data.head()"
   ]
  },
  {
   "cell_type": "code",
   "execution_count": 79,
   "metadata": {},
   "outputs": [
    {
     "data": {
      "text/plain": [
       "S PARKER RD AT S PEORIA ST             3920\n",
       "E I70 HWY EB AT N CHAMBERS RD          2097\n",
       "15300 BLOCK E I70 EB HWY               1608\n",
       "S PARKER RD AT E LEHIGH AVE            1018\n",
       "E COLFAX AVE AT N ALTON ST              962\n",
       "E 10TH AVE AT N AIRPORT BLVD            956\n",
       "3400 BLOCK S PARKER RD                  929\n",
       "E QUINCY AVE AT S GUN CLUB SH 30 RD     903\n",
       "N AIRPORT BLVD AT E 10TH AVE            848\n",
       "S PARKER RD AT E HAMPDEN AVE            803\n",
       "15300 E I70 EB HWY                      730\n",
       "E COLFAX AVE AT N PEORIA ST             687\n",
       "S I225 NB HWY AT E ALAMEDA AVE          675\n",
       "3600 BLOCK S PARKER RD                  663\n",
       "1700 S SABLE BLVD                       634\n",
       "E COLFAX AVE AT N HAVANA ST             630\n",
       "S PARKER RD AT S VAUGHN WAY             617\n",
       "3400 S PARKER RD                        585\n",
       "2400 N AIRPORT BLVD                     582\n",
       "E COLFAX AVE AT N CHAMBERS RD           573\n",
       "S PARKER RD AT E QUINCY AVE             558\n",
       "N I225 HWY NB AT E 6TH AVE              551\n",
       "1400 S TOWER RD                         545\n",
       "3600 S PARKER RD                        543\n",
       "2700 BLOCK S CHAMBERS RD                537\n",
       "E COLFAX AVE AT N ALTURA BLVD           537\n",
       "15300 E I70 HWY EB                      525\n",
       "E QUINCY AVE AT S PARKER RD             520\n",
       "E I70 EB HWY AT N CHAMBERS RD           516\n",
       "1700 BLOCK N I225 NB HWY                512\n",
       "                                       ... \n",
       "S NAPLES WAY AT E WESLEY AVE              1\n",
       "E PRINCETON AVE AT S MARGUERITE PKY       1\n",
       "W ROCKINGHORSE PKWY AT GART               1\n",
       "1095 N HAVANA ST                          1\n",
       "14203 BLOCK E MARINA DR                   1\n",
       "15059 E MEXICO DR                         1\n",
       "1238 S CHAMBERS RD                        1\n",
       "3750 BLOCK S PARKER RD                    1\n",
       "600 I-225 NB                              1\n",
       "12400 BLOCK E SMITH RD                    1\n",
       "E NEVADA AVE AT S XAPARY ST               1\n",
       "MONTVIEW BLVD AT GALENA S                 1\n",
       "16500 BLOCK E YALE AVE                    1\n",
       "1850 E ALAMEDA AVE                        1\n",
       "E 13TH PL AT N MOBILE ST                  1\n",
       "14111 BLOCK E ALAMEDA AVE                 1\n",
       "S NILE WAY AT E KENTUCKY AVE              1\n",
       "1006 S FAIRPLAY WAY                       1\n",
       "E ARAPAHOE RD AT E OTTAWA CT              1\n",
       "E ARAPAHOE RD AT E GLASGOW DR             1\n",
       "148 N DEL MAR CIR                         1\n",
       "N WALDEN ST AT N SALIDA CT                1\n",
       "9801 E MONTVIEW BLVD                      1\n",
       "N IOLA ST AT E 19TH AVE                   1\n",
       "E GUNNISON PL AT S EVANSTON ST            1\n",
       "1175 S HAVANA ST                          1\n",
       "14400 BLK AT E ALAMEDA AVE                1\n",
       "E BETHANY DR AT S PARKER RD               1\n",
       "14661 E 13TH AVE                          1\n",
       "ROCKINGHORSE PKWY AT S GATRELL            1\n",
       "Name: location, Length: 12160, dtype: int64"
      ]
     },
     "execution_count": 79,
     "metadata": {},
     "output_type": "execute_result"
    }
   ],
   "source": [
    "data.location.value_counts()"
   ]
  },
  {
   "cell_type": "markdown",
   "metadata": {},
   "source": [
    "## Preparing Aurora weather data for analysis"
   ]
  },
  {
   "cell_type": "markdown",
   "metadata": {},
   "source": [
    "### About the aurora weather data\n",
    "I added the weather data to analyze whether the policing data is affected by weather or not. I collected \"Denver Centennial International Airport\" weather data since the data of airport's weather station is well recorded than the others'. The duration of weather data is from 01/01/2012 to 12/31/2016. The weather data is from [NOAA](https://www.ncdc.noaa.gov/cdo-web/)"
   ]
  },
  {
   "cell_type": "code",
   "execution_count": 80,
   "metadata": {},
   "outputs": [],
   "source": [
    "weather = pd.read_csv('weather.csv')"
   ]
  },
  {
   "cell_type": "code",
   "execution_count": 81,
   "metadata": {},
   "outputs": [
    {
     "data": {
      "text/html": [
       "<div>\n",
       "<style scoped>\n",
       "    .dataframe tbody tr th:only-of-type {\n",
       "        vertical-align: middle;\n",
       "    }\n",
       "\n",
       "    .dataframe tbody tr th {\n",
       "        vertical-align: top;\n",
       "    }\n",
       "\n",
       "    .dataframe thead th {\n",
       "        text-align: right;\n",
       "    }\n",
       "</style>\n",
       "<table border=\"1\" class=\"dataframe\">\n",
       "  <thead>\n",
       "    <tr style=\"text-align: right;\">\n",
       "      <th></th>\n",
       "      <th>STATION</th>\n",
       "      <th>NAME</th>\n",
       "      <th>DATE</th>\n",
       "      <th>AWND</th>\n",
       "      <th>PRCP</th>\n",
       "      <th>SNOW</th>\n",
       "      <th>SNWD</th>\n",
       "      <th>TAVG</th>\n",
       "      <th>TMAX</th>\n",
       "      <th>TMIN</th>\n",
       "      <th>WT01</th>\n",
       "      <th>WT02</th>\n",
       "      <th>WT03</th>\n",
       "      <th>WT04</th>\n",
       "      <th>WT05</th>\n",
       "      <th>WT06</th>\n",
       "      <th>WT08</th>\n",
       "      <th>WT09</th>\n",
       "    </tr>\n",
       "  </thead>\n",
       "  <tbody>\n",
       "    <tr>\n",
       "      <th>0</th>\n",
       "      <td>USW00093067</td>\n",
       "      <td>DENVER CENTENNIAL AIRPORT, CO US</td>\n",
       "      <td>2012-01-01</td>\n",
       "      <td>6.04</td>\n",
       "      <td>0.0</td>\n",
       "      <td>NaN</td>\n",
       "      <td>NaN</td>\n",
       "      <td>NaN</td>\n",
       "      <td>38.0</td>\n",
       "      <td>18.0</td>\n",
       "      <td>NaN</td>\n",
       "      <td>NaN</td>\n",
       "      <td>NaN</td>\n",
       "      <td>NaN</td>\n",
       "      <td>NaN</td>\n",
       "      <td>NaN</td>\n",
       "      <td>NaN</td>\n",
       "      <td>NaN</td>\n",
       "    </tr>\n",
       "    <tr>\n",
       "      <th>1</th>\n",
       "      <td>USW00093067</td>\n",
       "      <td>DENVER CENTENNIAL AIRPORT, CO US</td>\n",
       "      <td>2012-01-02</td>\n",
       "      <td>6.71</td>\n",
       "      <td>0.0</td>\n",
       "      <td>NaN</td>\n",
       "      <td>NaN</td>\n",
       "      <td>NaN</td>\n",
       "      <td>50.0</td>\n",
       "      <td>16.0</td>\n",
       "      <td>NaN</td>\n",
       "      <td>NaN</td>\n",
       "      <td>NaN</td>\n",
       "      <td>NaN</td>\n",
       "      <td>NaN</td>\n",
       "      <td>NaN</td>\n",
       "      <td>NaN</td>\n",
       "      <td>NaN</td>\n",
       "    </tr>\n",
       "    <tr>\n",
       "      <th>2</th>\n",
       "      <td>USW00093067</td>\n",
       "      <td>DENVER CENTENNIAL AIRPORT, CO US</td>\n",
       "      <td>2012-01-03</td>\n",
       "      <td>6.26</td>\n",
       "      <td>0.0</td>\n",
       "      <td>NaN</td>\n",
       "      <td>NaN</td>\n",
       "      <td>NaN</td>\n",
       "      <td>55.0</td>\n",
       "      <td>31.0</td>\n",
       "      <td>NaN</td>\n",
       "      <td>NaN</td>\n",
       "      <td>NaN</td>\n",
       "      <td>NaN</td>\n",
       "      <td>NaN</td>\n",
       "      <td>NaN</td>\n",
       "      <td>NaN</td>\n",
       "      <td>NaN</td>\n",
       "    </tr>\n",
       "    <tr>\n",
       "      <th>3</th>\n",
       "      <td>USW00093067</td>\n",
       "      <td>DENVER CENTENNIAL AIRPORT, CO US</td>\n",
       "      <td>2012-01-04</td>\n",
       "      <td>6.04</td>\n",
       "      <td>0.0</td>\n",
       "      <td>NaN</td>\n",
       "      <td>NaN</td>\n",
       "      <td>NaN</td>\n",
       "      <td>58.0</td>\n",
       "      <td>27.0</td>\n",
       "      <td>NaN</td>\n",
       "      <td>NaN</td>\n",
       "      <td>NaN</td>\n",
       "      <td>NaN</td>\n",
       "      <td>NaN</td>\n",
       "      <td>NaN</td>\n",
       "      <td>NaN</td>\n",
       "      <td>NaN</td>\n",
       "    </tr>\n",
       "    <tr>\n",
       "      <th>4</th>\n",
       "      <td>USW00093067</td>\n",
       "      <td>DENVER CENTENNIAL AIRPORT, CO US</td>\n",
       "      <td>2012-01-05</td>\n",
       "      <td>4.92</td>\n",
       "      <td>0.0</td>\n",
       "      <td>NaN</td>\n",
       "      <td>NaN</td>\n",
       "      <td>NaN</td>\n",
       "      <td>66.0</td>\n",
       "      <td>35.0</td>\n",
       "      <td>NaN</td>\n",
       "      <td>NaN</td>\n",
       "      <td>NaN</td>\n",
       "      <td>NaN</td>\n",
       "      <td>NaN</td>\n",
       "      <td>NaN</td>\n",
       "      <td>NaN</td>\n",
       "      <td>NaN</td>\n",
       "    </tr>\n",
       "  </tbody>\n",
       "</table>\n",
       "</div>"
      ],
      "text/plain": [
       "       STATION                              NAME        DATE  AWND  PRCP  \\\n",
       "0  USW00093067  DENVER CENTENNIAL AIRPORT, CO US  2012-01-01  6.04   0.0   \n",
       "1  USW00093067  DENVER CENTENNIAL AIRPORT, CO US  2012-01-02  6.71   0.0   \n",
       "2  USW00093067  DENVER CENTENNIAL AIRPORT, CO US  2012-01-03  6.26   0.0   \n",
       "3  USW00093067  DENVER CENTENNIAL AIRPORT, CO US  2012-01-04  6.04   0.0   \n",
       "4  USW00093067  DENVER CENTENNIAL AIRPORT, CO US  2012-01-05  4.92   0.0   \n",
       "\n",
       "   SNOW  SNWD  TAVG  TMAX  TMIN  WT01  WT02  WT03  WT04  WT05  WT06  WT08  \\\n",
       "0   NaN   NaN   NaN  38.0  18.0   NaN   NaN   NaN   NaN   NaN   NaN   NaN   \n",
       "1   NaN   NaN   NaN  50.0  16.0   NaN   NaN   NaN   NaN   NaN   NaN   NaN   \n",
       "2   NaN   NaN   NaN  55.0  31.0   NaN   NaN   NaN   NaN   NaN   NaN   NaN   \n",
       "3   NaN   NaN   NaN  58.0  27.0   NaN   NaN   NaN   NaN   NaN   NaN   NaN   \n",
       "4   NaN   NaN   NaN  66.0  35.0   NaN   NaN   NaN   NaN   NaN   NaN   NaN   \n",
       "\n",
       "   WT09  \n",
       "0   NaN  \n",
       "1   NaN  \n",
       "2   NaN  \n",
       "3   NaN  \n",
       "4   NaN  "
      ]
     },
     "execution_count": 81,
     "metadata": {},
     "output_type": "execute_result"
    }
   ],
   "source": [
    "weather.head()"
   ]
  },
  {
   "cell_type": "code",
   "execution_count": null,
   "metadata": {},
   "outputs": [],
   "source": []
  }
 ],
 "metadata": {
  "kernelspec": {
   "display_name": "Python 3",
   "language": "python",
   "name": "python3"
  },
  "language_info": {
   "codemirror_mode": {
    "name": "ipython",
    "version": 3
   },
   "file_extension": ".py",
   "mimetype": "text/x-python",
   "name": "python",
   "nbconvert_exporter": "python",
   "pygments_lexer": "ipython3",
   "version": "3.7.3"
  }
 },
 "nbformat": 4,
 "nbformat_minor": 2
}
