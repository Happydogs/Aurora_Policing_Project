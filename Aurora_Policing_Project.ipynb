{
 "cells": [
  {
   "cell_type": "markdown",
   "metadata": {},
   "source": [
    "# Aurora Policing Project"
   ]
  },
  {
   "cell_type": "markdown",
   "metadata": {},
   "source": [
    "## About the policing data\n",
    "\n",
    "Throughout this project, I will be analyzing a dataset of traffic stops in Aurora Colorado that was collected by the \"Stanford Open Policing Project\". [Stanford Open Policing Project Data](https://openpolicing.stanford.edu/data/)\n",
    "\n",
    "\n",
    "\n",
    "<table>\n",
    "  <tr>\n",
    "    <td>Column name</td>\n",
    "    <td>Column meaning</td>\n",
    "    <td>Example value</td>\n",
    "  </tr>\n",
    "  <tr>\n",
    "    <td>raw_row_number</td>\n",
    "    <td>An number used to join clean data back to the raw data</td>\n",
    "    <td>38299</td>\n",
    "  </tr>\n",
    "  <tr>\n",
    "    <td>date</td>\n",
    "    <td>The date of the stop, in YYYY-MM-DD format. Some states do not provide\n",
    "    the exact stop date: for example, they only provide the year or quarter in\n",
    "    which the stop occurred. For these states, stop_date is set to the date at\n",
    "    the beginning of the period: for example, January 1 if only year is\n",
    "    provided.</td>\n",
    "    <td>\"2017-02-02\"</td>\n",
    "  </tr>\n",
    "  <tr>\n",
    "    <td>time</td>\n",
    "    <td>The 24-hour time of the stop, in HH:MM format.</td>\n",
    "    <td>20:15</td>\n",
    "  </tr>\n",
    "  <tr>\n",
    "    <td>location</td>\n",
    "    <td>The freeform text of the location. Occasionally, this represents the\n",
    "    concatenation of several raw fields, i.e. street_number, street_name</td>\n",
    "    <td>\"248 Stockton Rd.\"</td>\n",
    "  </tr>\n",
    "  <tr>\n",
    "    <td>lat</td>\n",
    "    <td>The latitude of the stop. If not provided by the department, we\n",
    "    attempt to geocode any provided address or location using\n",
    "    Google Maps. Google Maps returns a \"best effort\" response, which may not\n",
    "    be completely accurate if the provided location was malformed or\n",
    "    underspecified. To protect against suprious responses, geocodes more than\n",
    "    4 standard deviations from the median stop lat/lng are set to NA.\n",
    "    <td>72.23545</td>\n",
    "  </tr>\n",
    "  <tr>\n",
    "    <td>lng</td>\n",
    "    <td>The longitude of the stop. If not provided by the department, we\n",
    "    attempt to geocode any provided address or location using\n",
    "    Google Maps. Google Maps returns a \"best effort\" response, which may not\n",
    "    be completely accurate if the provided location was malformed or\n",
    "    underspecified. To protect against suprious responses, geocodes more than\n",
    "    4 standard deviations from the median stop lat/lng are set to NA.\n",
    "    </td>\n",
    "    <td>115.2808</td>\n",
    "  </tr>\n",
    "  \n",
    "  <tr>\n",
    "    <td>district</td>\n",
    "    <td>Police district. If not provided, but we have retrieved police\n",
    "    department shapfiles and the location of the stop, we geocode the stop and\n",
    "    find the district using the shapefiles.</td>\n",
    "    <td>8</td>\n",
    "  </tr>\n",
    "  \n",
    "  <tr>\n",
    "    <td>subject_age</td>\n",
    "    <td>The age of the stopped subject. When date of birth is given, we\n",
    "    calculate the age based on the stop date. Values outside the range of\n",
    "    10-110 are coerced to NA.</td>\n",
    "    <td>54.23</td>\n",
    "  </tr>\n",
    "  <tr>\n",
    "    <td>subject_race</td>\n",
    "    <td>The race of the stopped subject. Values are standardized to white,\n",
    "    black, hispanic, asian/pacific islander, and other/unknown</td>\n",
    "    <td>\"hispanic\"</td>\n",
    "  </tr>\n",
    "  <tr>\n",
    "    <td>subject_sex</td>\n",
    "    <td>The recorded sex of the stopped subject.</td>\n",
    "    <td>\"female\"</td>\n",
    "  </tr>\n",
    " \n",
    "  <tr>\n",
    "    <td>type</td>\n",
    "    <td>Type of stop: vehicular or pedestrian.</td>\n",
    "    <td>\"vehicular\"</td>\n",
    "  </tr>\n",
    "  \n",
    "  <tr>\n",
    "    <td>violation</td>\n",
    "    <td>Specific violation of stop where provided. What is recorded here varies\n",
    "    widely across police departments.</td>\n",
    "    <td>\"SPEEDING 15-20 OVER\"</td>\n",
    "  </tr>\n",
    "  <tr>\n",
    "    <td>citation_issued</td>\n",
    "    <td>Indicates whether a citation was issued.</td>\n",
    "    <td>TRUE</td>\n",
    "  </tr>\n",
    "  \n",
    "  <tr>\n",
    "    <td>outcome</td>\n",
    "    <td>The strictest action taken among arrest, citation, warning, and\n",
    "    summons.</td>\n",
    "    <td>\"citation\"</td>\n",
    "  </tr>\n",
    "  \n",
    "</table>\n",
    "\n"
   ]
  },
  {
   "cell_type": "markdown",
   "metadata": {},
   "source": [
    "## Preparing the Aurora policing data for analysis"
   ]
  },
  {
   "cell_type": "code",
   "execution_count": 782,
   "metadata": {},
   "outputs": [],
   "source": [
    "# Import numpy library\n",
    "import numpy as np"
   ]
  },
  {
   "cell_type": "code",
   "execution_count": 783,
   "metadata": {},
   "outputs": [],
   "source": [
    "# Import pandas library \n",
    "import pandas as pd"
   ]
  },
  {
   "cell_type": "code",
   "execution_count": 784,
   "metadata": {},
   "outputs": [],
   "source": [
    "# Import matplotlib.pyplot library \n",
    "import matplotlib.pyplot as plt"
   ]
  },
  {
   "cell_type": "code",
   "execution_count": 785,
   "metadata": {},
   "outputs": [],
   "source": [
    "from datetime import datetime"
   ]
  },
  {
   "cell_type": "code",
   "execution_count": 786,
   "metadata": {},
   "outputs": [],
   "source": [
    "import pandas_profiling"
   ]
  },
  {
   "cell_type": "code",
   "execution_count": 787,
   "metadata": {},
   "outputs": [],
   "source": [
    "# Read file into dataframe named data \n",
    "data = pd.read_csv(\"co_aurora_2019_02_25 copy.csv\")"
   ]
  },
  {
   "cell_type": "markdown",
   "metadata": {},
   "source": [
    "### Examing the dataset"
   ]
  },
  {
   "cell_type": "code",
   "execution_count": 788,
   "metadata": {
    "scrolled": true
   },
   "outputs": [
    {
     "data": {
      "text/html": [
       "<div>\n",
       "<style scoped>\n",
       "    .dataframe tbody tr th:only-of-type {\n",
       "        vertical-align: middle;\n",
       "    }\n",
       "\n",
       "    .dataframe tbody tr th {\n",
       "        vertical-align: top;\n",
       "    }\n",
       "\n",
       "    .dataframe thead th {\n",
       "        text-align: right;\n",
       "    }\n",
       "</style>\n",
       "<table border=\"1\" class=\"dataframe\">\n",
       "  <thead>\n",
       "    <tr style=\"text-align: right;\">\n",
       "      <th></th>\n",
       "      <th>raw_row_number</th>\n",
       "      <th>date</th>\n",
       "      <th>time</th>\n",
       "      <th>location</th>\n",
       "      <th>lat</th>\n",
       "      <th>lng</th>\n",
       "      <th>district</th>\n",
       "      <th>subject_age</th>\n",
       "      <th>subject_race</th>\n",
       "      <th>subject_sex</th>\n",
       "      <th>type</th>\n",
       "      <th>violation</th>\n",
       "      <th>citation_issued</th>\n",
       "      <th>outcome</th>\n",
       "    </tr>\n",
       "  </thead>\n",
       "  <tbody>\n",
       "    <tr>\n",
       "      <th>0</th>\n",
       "      <td>1</td>\n",
       "      <td>1/1/12</td>\n",
       "      <td>9:14:00</td>\n",
       "      <td>S I225 NB HWY AT E ALAMEDA AVE</td>\n",
       "      <td>NaN</td>\n",
       "      <td>NaN</td>\n",
       "      <td>NaN</td>\n",
       "      <td>27.376370</td>\n",
       "      <td>white</td>\n",
       "      <td>male</td>\n",
       "      <td>vehicular</td>\n",
       "      <td>Speeding (20+ Over) - Muni Statue 1101</td>\n",
       "      <td>True</td>\n",
       "      <td>citation</td>\n",
       "    </tr>\n",
       "    <tr>\n",
       "      <th>1</th>\n",
       "      <td>2</td>\n",
       "      <td>1/1/12</td>\n",
       "      <td>9:30:00</td>\n",
       "      <td>2600 S I225 NB HWY</td>\n",
       "      <td>NaN</td>\n",
       "      <td>NaN</td>\n",
       "      <td>NaN</td>\n",
       "      <td>23.658287</td>\n",
       "      <td>black</td>\n",
       "      <td>female</td>\n",
       "      <td>vehicular</td>\n",
       "      <td>Speeding (20+ Over) - Muni Statue 1101</td>\n",
       "      <td>True</td>\n",
       "      <td>citation</td>\n",
       "    </tr>\n",
       "    <tr>\n",
       "      <th>2</th>\n",
       "      <td>3</td>\n",
       "      <td>1/1/12</td>\n",
       "      <td>9:36:00</td>\n",
       "      <td>N I225 SB HWY AT E 6TH AVE</td>\n",
       "      <td>39.725279</td>\n",
       "      <td>-104.821160</td>\n",
       "      <td>2.0</td>\n",
       "      <td>23.088801</td>\n",
       "      <td>white</td>\n",
       "      <td>male</td>\n",
       "      <td>vehicular</td>\n",
       "      <td>Speeding (20+ Over) - Muni Statue 1101</td>\n",
       "      <td>True</td>\n",
       "      <td>citation</td>\n",
       "    </tr>\n",
       "    <tr>\n",
       "      <th>3</th>\n",
       "      <td>4</td>\n",
       "      <td>1/1/12</td>\n",
       "      <td>9:40:00</td>\n",
       "      <td>2300 BLOCK S I225 NB HWY</td>\n",
       "      <td>NaN</td>\n",
       "      <td>NaN</td>\n",
       "      <td>NaN</td>\n",
       "      <td>38.503239</td>\n",
       "      <td>white</td>\n",
       "      <td>female</td>\n",
       "      <td>vehicular</td>\n",
       "      <td>Speeding (20+ Over) - Muni Statue 1101</td>\n",
       "      <td>True</td>\n",
       "      <td>citation</td>\n",
       "    </tr>\n",
       "    <tr>\n",
       "      <th>4</th>\n",
       "      <td>5</td>\n",
       "      <td>1/1/12</td>\n",
       "      <td>9:46:00</td>\n",
       "      <td>E VIRGINIA PL AT S PEORIA ST</td>\n",
       "      <td>39.706912</td>\n",
       "      <td>-104.847213</td>\n",
       "      <td>1.0</td>\n",
       "      <td>75.429441</td>\n",
       "      <td>white</td>\n",
       "      <td>male</td>\n",
       "      <td>vehicular</td>\n",
       "      <td>Failed to Present Evidence of Insurance Upon R...</td>\n",
       "      <td>True</td>\n",
       "      <td>citation</td>\n",
       "    </tr>\n",
       "  </tbody>\n",
       "</table>\n",
       "</div>"
      ],
      "text/plain": [
       "   raw_row_number    date     time                        location        lat  \\\n",
       "0               1  1/1/12  9:14:00  S I225 NB HWY AT E ALAMEDA AVE        NaN   \n",
       "1               2  1/1/12  9:30:00              2600 S I225 NB HWY        NaN   \n",
       "2               3  1/1/12  9:36:00      N I225 SB HWY AT E 6TH AVE  39.725279   \n",
       "3               4  1/1/12  9:40:00        2300 BLOCK S I225 NB HWY        NaN   \n",
       "4               5  1/1/12  9:46:00    E VIRGINIA PL AT S PEORIA ST  39.706912   \n",
       "\n",
       "          lng  district  subject_age subject_race subject_sex       type  \\\n",
       "0         NaN       NaN    27.376370        white        male  vehicular   \n",
       "1         NaN       NaN    23.658287        black      female  vehicular   \n",
       "2 -104.821160       2.0    23.088801        white        male  vehicular   \n",
       "3         NaN       NaN    38.503239        white      female  vehicular   \n",
       "4 -104.847213       1.0    75.429441        white        male  vehicular   \n",
       "\n",
       "                                           violation  citation_issued  \\\n",
       "0             Speeding (20+ Over) - Muni Statue 1101             True   \n",
       "1             Speeding (20+ Over) - Muni Statue 1101             True   \n",
       "2             Speeding (20+ Over) - Muni Statue 1101             True   \n",
       "3             Speeding (20+ Over) - Muni Statue 1101             True   \n",
       "4  Failed to Present Evidence of Insurance Upon R...             True   \n",
       "\n",
       "    outcome  \n",
       "0  citation  \n",
       "1  citation  \n",
       "2  citation  \n",
       "3  citation  \n",
       "4  citation  "
      ]
     },
     "execution_count": 788,
     "metadata": {},
     "output_type": "execute_result"
    }
   ],
   "source": [
    "# Examine the head of dataframe \n",
    "data.head()"
   ]
  },
  {
   "cell_type": "code",
   "execution_count": 789,
   "metadata": {},
   "outputs": [
    {
     "data": {
      "text/plain": [
       "raw_row_number       int64\n",
       "date                object\n",
       "time                object\n",
       "location            object\n",
       "lat                float64\n",
       "lng                float64\n",
       "district           float64\n",
       "subject_age        float64\n",
       "subject_race        object\n",
       "subject_sex         object\n",
       "type                object\n",
       "violation           object\n",
       "citation_issued       bool\n",
       "outcome             object\n",
       "dtype: object"
      ]
     },
     "execution_count": 789,
     "metadata": {},
     "output_type": "execute_result"
    }
   ],
   "source": [
    "data.dtypes"
   ]
  },
  {
   "cell_type": "code",
   "execution_count": 790,
   "metadata": {},
   "outputs": [
    {
     "data": {
      "text/plain": [
       "Index(['raw_row_number', 'date', 'time', 'location', 'lat', 'lng', 'district',\n",
       "       'subject_age', 'subject_race', 'subject_sex', 'type', 'violation',\n",
       "       'citation_issued', 'outcome'],\n",
       "      dtype='object')"
      ]
     },
     "execution_count": 790,
     "metadata": {},
     "output_type": "execute_result"
    }
   ],
   "source": [
    "data.columns"
   ]
  },
  {
   "cell_type": "markdown",
   "metadata": {},
   "source": [
    "#### Aurora District information \n",
    "[Aurora District (1,2,3) Map](https://wiki.radioreference.com/images/3/3b/Aurora_Beat_Map.pdf)"
   ]
  },
  {
   "cell_type": "markdown",
   "metadata": {},
   "source": [
    "## Dropping columns\n",
    "Dropping the columns which are not useful to analysis. "
   ]
  },
  {
   "cell_type": "code",
   "execution_count": 791,
   "metadata": {
    "scrolled": true
   },
   "outputs": [
    {
     "name": "stdout",
     "output_type": "stream",
     "text": [
      "raw_row_number         0\n",
      "date                   0\n",
      "time                 943\n",
      "location              12\n",
      "lat                31629\n",
      "lng                31629\n",
      "district           33838\n",
      "subject_age         5863\n",
      "subject_race           4\n",
      "subject_sex         2006\n",
      "type                4278\n",
      "violation           3571\n",
      "citation_issued        0\n",
      "outcome                0\n",
      "dtype: int64\n"
     ]
    }
   ],
   "source": [
    "# Count the number of missing values in each column\n",
    "print(data.isna().sum())"
   ]
  },
  {
   "cell_type": "code",
   "execution_count": 792,
   "metadata": {},
   "outputs": [
    {
     "data": {
      "text/plain": [
       "(174363, 14)"
      ]
     },
     "execution_count": 792,
     "metadata": {},
     "output_type": "execute_result"
    }
   ],
   "source": [
    "data.shape"
   ]
  },
  {
   "cell_type": "markdown",
   "metadata": {},
   "source": [
    "#### Dropping raw_row_number, because I will not use this number as reference number"
   ]
  },
  {
   "cell_type": "code",
   "execution_count": 793,
   "metadata": {},
   "outputs": [
    {
     "name": "stdout",
     "output_type": "stream",
     "text": [
      "(174363, 13)\n"
     ]
    }
   ],
   "source": [
    "data.drop('raw_row_number', axis = 'columns', inplace = True)\n",
    "print(data.shape)"
   ]
  },
  {
   "cell_type": "markdown",
   "metadata": {},
   "source": [
    "#### Comparing 'citation_issued' and 'outcome' columns"
   ]
  },
  {
   "cell_type": "code",
   "execution_count": 794,
   "metadata": {},
   "outputs": [
    {
     "data": {
      "text/plain": [
       "True    174363\n",
       "Name: citation_issued, dtype: int64"
      ]
     },
     "execution_count": 794,
     "metadata": {},
     "output_type": "execute_result"
    }
   ],
   "source": [
    "data.citation_issued.value_counts()"
   ]
  },
  {
   "cell_type": "code",
   "execution_count": 795,
   "metadata": {},
   "outputs": [
    {
     "data": {
      "text/plain": [
       "citation    174363\n",
       "Name: outcome, dtype: int64"
      ]
     },
     "execution_count": 795,
     "metadata": {},
     "output_type": "execute_result"
    }
   ],
   "source": [
    "data.outcome.value_counts()"
   ]
  },
  {
   "cell_type": "code",
   "execution_count": 796,
   "metadata": {},
   "outputs": [
    {
     "data": {
      "text/plain": [
       "(174363, 13)"
      ]
     },
     "execution_count": 796,
     "metadata": {},
     "output_type": "execute_result"
    }
   ],
   "source": [
    "data.shape"
   ]
  },
  {
   "cell_type": "markdown",
   "metadata": {},
   "source": [
    "All drivers were cited I can drop both 'citation_issued' and 'outcome' columns."
   ]
  },
  {
   "cell_type": "code",
   "execution_count": 797,
   "metadata": {},
   "outputs": [],
   "source": [
    "data.drop(['citation_issued','outcome'], axis = 1 , inplace = True)"
   ]
  },
  {
   "cell_type": "markdown",
   "metadata": {},
   "source": [
    "#### Dropping lat, lng, and district columns\n",
    "I will analyze the data for entire Aurora city, so I will not use specific location data."
   ]
  },
  {
   "cell_type": "code",
   "execution_count": 798,
   "metadata": {},
   "outputs": [
    {
     "name": "stdout",
     "output_type": "stream",
     "text": [
      "(174363, 7)\n"
     ]
    }
   ],
   "source": [
    "# Drop 'lat', and 'lng' columns\n",
    "data.drop(['lat','lng', 'district','location'], axis = 'columns', inplace = True)\n",
    "print(data.shape)"
   ]
  },
  {
   "cell_type": "markdown",
   "metadata": {},
   "source": [
    "I will drop 'type' column because type pedestrian only has 24 rows out of 163803. "
   ]
  },
  {
   "cell_type": "code",
   "execution_count": 799,
   "metadata": {},
   "outputs": [
    {
     "data": {
      "text/plain": [
       "vehicular     170061\n",
       "pedestrian        24\n",
       "Name: type, dtype: int64"
      ]
     },
     "execution_count": 799,
     "metadata": {},
     "output_type": "execute_result"
    }
   ],
   "source": [
    "data.type.value_counts()"
   ]
  },
  {
   "cell_type": "markdown",
   "metadata": {},
   "source": [
    "#### Dropping rows having 'type' value 'pedestrian'\n",
    "'type' column has very small portion of 'pedestrian'. I will drop those rows."
   ]
  },
  {
   "cell_type": "code",
   "execution_count": 800,
   "metadata": {},
   "outputs": [
    {
     "data": {
      "text/plain": [
       "(174363, 7)"
      ]
     },
     "execution_count": 800,
     "metadata": {},
     "output_type": "execute_result"
    }
   ],
   "source": [
    "# Check data shape befor dropping\n",
    "data.shape"
   ]
  },
  {
   "cell_type": "code",
   "execution_count": 801,
   "metadata": {},
   "outputs": [],
   "source": [
    "# Drop rows which has pedestrian data\n",
    "data.drop(data[data['type'] == 'pedestrian'].index, inplace = True)"
   ]
  },
  {
   "cell_type": "code",
   "execution_count": 802,
   "metadata": {},
   "outputs": [
    {
     "data": {
      "text/plain": [
       "(174339, 7)"
      ]
     },
     "execution_count": 802,
     "metadata": {},
     "output_type": "execute_result"
    }
   ],
   "source": [
    "data.shape"
   ]
  },
  {
   "cell_type": "code",
   "execution_count": 803,
   "metadata": {},
   "outputs": [],
   "source": [
    "# Drop 'type' column\n",
    "data.drop('type', axis = 'columns', inplace = True)"
   ]
  },
  {
   "cell_type": "code",
   "execution_count": 804,
   "metadata": {},
   "outputs": [
    {
     "data": {
      "text/plain": [
       "(174339, 6)"
      ]
     },
     "execution_count": 804,
     "metadata": {},
     "output_type": "execute_result"
    }
   ],
   "source": [
    "# Check data shape after dropping column 'type'\n",
    "data.shape"
   ]
  },
  {
   "cell_type": "markdown",
   "metadata": {},
   "source": [
    "#### Dropping rows having missing values\n",
    "I will drop the rows which contain any missing values if the fraction of missing row is small. (less than 5%)"
   ]
  },
  {
   "cell_type": "code",
   "execution_count": 805,
   "metadata": {},
   "outputs": [
    {
     "data": {
      "text/plain": [
       "date            0.000000\n",
       "time            0.005409\n",
       "subject_age     0.033630\n",
       "subject_race    0.000023\n",
       "subject_sex     0.011506\n",
       "violation       0.020483\n",
       "dtype: float64"
      ]
     },
     "execution_count": 805,
     "metadata": {},
     "output_type": "execute_result"
    }
   ],
   "source": [
    "# Portion of missing data\n",
    "data.isna().mean()"
   ]
  },
  {
   "cell_type": "code",
   "execution_count": 806,
   "metadata": {},
   "outputs": [
    {
     "name": "stdout",
     "output_type": "stream",
     "text": [
      "(163964, 6)\n"
     ]
    }
   ],
   "source": [
    "data.dropna(subset= ['time', 'subject_age', 'subject_race', 'subject_sex', 'violation'], inplace = True)\n",
    "print(data.shape)"
   ]
  },
  {
   "cell_type": "code",
   "execution_count": 807,
   "metadata": {},
   "outputs": [
    {
     "name": "stdout",
     "output_type": "stream",
     "text": [
      "date            0\n",
      "time            0\n",
      "subject_age     0\n",
      "subject_race    0\n",
      "subject_sex     0\n",
      "violation       0\n",
      "dtype: int64\n"
     ]
    }
   ],
   "source": [
    "# Count the number of missing values in each column (again)\n",
    "print(data.isna().sum())"
   ]
  },
  {
   "cell_type": "code",
   "execution_count": 808,
   "metadata": {},
   "outputs": [
    {
     "data": {
      "text/plain": [
       "(163964, 6)"
      ]
     },
     "execution_count": 808,
     "metadata": {},
     "output_type": "execute_result"
    }
   ],
   "source": [
    "# Examine the shape of the Dataframe\n",
    "data.shape"
   ]
  },
  {
   "cell_type": "code",
   "execution_count": 809,
   "metadata": {},
   "outputs": [],
   "source": [
    "### Age rounded to integer\n",
    "data['subject_age'] = data['subject_age'].round().astype(int)"
   ]
  },
  {
   "cell_type": "code",
   "execution_count": 810,
   "metadata": {},
   "outputs": [
    {
     "data": {
      "text/plain": [
       "0    27\n",
       "1    24\n",
       "2    23\n",
       "3    39\n",
       "4    75\n",
       "Name: subject_age, dtype: int64"
      ]
     },
     "execution_count": 810,
     "metadata": {},
     "output_type": "execute_result"
    }
   ],
   "source": [
    "data['subject_age'].head()"
   ]
  },
  {
   "cell_type": "code",
   "execution_count": 811,
   "metadata": {},
   "outputs": [
    {
     "data": {
      "text/html": [
       "<div>\n",
       "<style scoped>\n",
       "    .dataframe tbody tr th:only-of-type {\n",
       "        vertical-align: middle;\n",
       "    }\n",
       "\n",
       "    .dataframe tbody tr th {\n",
       "        vertical-align: top;\n",
       "    }\n",
       "\n",
       "    .dataframe thead th {\n",
       "        text-align: right;\n",
       "    }\n",
       "</style>\n",
       "<table border=\"1\" class=\"dataframe\">\n",
       "  <thead>\n",
       "    <tr style=\"text-align: right;\">\n",
       "      <th></th>\n",
       "      <th>date</th>\n",
       "      <th>time</th>\n",
       "      <th>subject_age</th>\n",
       "      <th>subject_race</th>\n",
       "      <th>subject_sex</th>\n",
       "      <th>violation</th>\n",
       "    </tr>\n",
       "  </thead>\n",
       "  <tbody>\n",
       "    <tr>\n",
       "      <th>0</th>\n",
       "      <td>1/1/12</td>\n",
       "      <td>9:14:00</td>\n",
       "      <td>27</td>\n",
       "      <td>white</td>\n",
       "      <td>male</td>\n",
       "      <td>Speeding (20+ Over) - Muni Statue 1101</td>\n",
       "    </tr>\n",
       "    <tr>\n",
       "      <th>1</th>\n",
       "      <td>1/1/12</td>\n",
       "      <td>9:30:00</td>\n",
       "      <td>24</td>\n",
       "      <td>black</td>\n",
       "      <td>female</td>\n",
       "      <td>Speeding (20+ Over) - Muni Statue 1101</td>\n",
       "    </tr>\n",
       "    <tr>\n",
       "      <th>2</th>\n",
       "      <td>1/1/12</td>\n",
       "      <td>9:36:00</td>\n",
       "      <td>23</td>\n",
       "      <td>white</td>\n",
       "      <td>male</td>\n",
       "      <td>Speeding (20+ Over) - Muni Statue 1101</td>\n",
       "    </tr>\n",
       "    <tr>\n",
       "      <th>3</th>\n",
       "      <td>1/1/12</td>\n",
       "      <td>9:40:00</td>\n",
       "      <td>39</td>\n",
       "      <td>white</td>\n",
       "      <td>female</td>\n",
       "      <td>Speeding (20+ Over) - Muni Statue 1101</td>\n",
       "    </tr>\n",
       "    <tr>\n",
       "      <th>4</th>\n",
       "      <td>1/1/12</td>\n",
       "      <td>9:46:00</td>\n",
       "      <td>75</td>\n",
       "      <td>white</td>\n",
       "      <td>male</td>\n",
       "      <td>Failed to Present Evidence of Insurance Upon R...</td>\n",
       "    </tr>\n",
       "  </tbody>\n",
       "</table>\n",
       "</div>"
      ],
      "text/plain": [
       "     date     time  subject_age subject_race subject_sex  \\\n",
       "0  1/1/12  9:14:00           27        white        male   \n",
       "1  1/1/12  9:30:00           24        black      female   \n",
       "2  1/1/12  9:36:00           23        white        male   \n",
       "3  1/1/12  9:40:00           39        white      female   \n",
       "4  1/1/12  9:46:00           75        white        male   \n",
       "\n",
       "                                           violation  \n",
       "0             Speeding (20+ Over) - Muni Statue 1101  \n",
       "1             Speeding (20+ Over) - Muni Statue 1101  \n",
       "2             Speeding (20+ Over) - Muni Statue 1101  \n",
       "3             Speeding (20+ Over) - Muni Statue 1101  \n",
       "4  Failed to Present Evidence of Insurance Upon R...  "
      ]
     },
     "execution_count": 811,
     "metadata": {},
     "output_type": "execute_result"
    }
   ],
   "source": [
    "data.head()"
   ]
  },
  {
   "cell_type": "code",
   "execution_count": 812,
   "metadata": {},
   "outputs": [
    {
     "data": {
      "text/plain": [
       "date            object\n",
       "time            object\n",
       "subject_age      int64\n",
       "subject_race    object\n",
       "subject_sex     object\n",
       "violation       object\n",
       "dtype: object"
      ]
     },
     "execution_count": 812,
     "metadata": {},
     "output_type": "execute_result"
    }
   ],
   "source": [
    "data.dtypes"
   ]
  },
  {
   "cell_type": "markdown",
   "metadata": {},
   "source": [
    "### Examining traffic violations"
   ]
  },
  {
   "cell_type": "code",
   "execution_count": 813,
   "metadata": {},
   "outputs": [
    {
     "data": {
      "text/plain": [
       "count                    163964\n",
       "unique                      382\n",
       "top       Speeding (10-19 Over)\n",
       "freq                      67987\n",
       "Name: violation, dtype: object"
      ]
     },
     "execution_count": 813,
     "metadata": {},
     "output_type": "execute_result"
    }
   ],
   "source": [
    "data.violation.describe()"
   ]
  },
  {
   "cell_type": "code",
   "execution_count": 814,
   "metadata": {},
   "outputs": [
    {
     "data": {
      "text/plain": [
       "array(['Speeding (20+ Over) - Muni Statue 1101',\n",
       "       'Failed to Present Evidence of Insurance Upon Request',\n",
       "       'Following Too Closely', 'Drove Veh While License Suspended',\n",
       "       'Speeding (10-19 Over)', 'Headlamps to be Lit',\n",
       "       'Drove Veh Without Valid Drivers License',\n",
       "       'Right Turn from Wrong Position Lane',\n",
       "       'Failure to Signal for Turn',\n",
       "       'Vehicle With Defective/Improper or No Tail Lamps',\n",
       "       'Vehicle with one headlight (Muni 205(1))',\n",
       "       'No License Plate Light - Muni Statute 206(3)',\n",
       "       'Vehicle With Defective or No Stop Lights',\n",
       "       'Expired License Plates', 'Speeding (5-9 Over) - Muni Statue 1101',\n",
       "       'Glass in Vehicle Did Not Permit Norman Vision',\n",
       "       'Failed to Obey Seat Belt Requirements Adult',\n",
       "       'Disregarded Stop Sign',\n",
       "       'Right Turn From Wrong Position - Muni Statute 901(1)(a)',\n",
       "       'Speeding (25++ over)  Muni statute (1101)',\n",
       "       'Left Turn to/from Wrong Position Muni Statute 901(1)(b)',\n",
       "       'Drove a Defective Vehicle', 'Illegal License Plate Cover',\n",
       "       'Failed to signal or gave improper signal',\n",
       "       'Failed to Obey Signal Light (Muni Statute 15-5(c)(1)',\n",
       "       'Right Turn on Red Light When Pro-Muni St 604(1)(c)(I)(A)',\n",
       "       'Driving Around or Through Barricades',\n",
       "       'Tinted Windows - Muni Statute 227(1)',\n",
       "       'Operated Uninsured Vehicle on Public Roadway (Muni 134-8(b)',\n",
       "       'Vehicle Validation Tabs Improperly Attached',\n",
       "       'Driving on Wrong Side of Road',\n",
       "       'Sign Plate Sticker (Reg For Trash Trucks)',\n",
       "       'Failed to Turn From \"Turn Only\" Lane',\n",
       "       'Violation of Green Turn Arrow - Muni Statute 604(1)(a)(II)',\n",
       "       'Failed to Observe or Disregarded Traffic Control Device',\n",
       "       'Made Turn Where Prohibited', 'Expired Temporary Permit',\n",
       "       'Limits on Turning Around U Turn - Local And State Autorities',\n",
       "       'Made U Turn Where Prohibited (Muni Statute 603(1)',\n",
       "       'Safety Hazard (Muni Statute 134-392)',\n",
       "       'Vehicle Had Only One Plate',\n",
       "       'Reckless Driving (Muni Statute 1402)',\n",
       "       'Failed to Yield ROW to Pedestrian at Crosswalk',\n",
       "       'Careless Driving',\n",
       "       'Impeding Normal Flow of Traffic (Muni Statute 42-4-1103(1)',\n",
       "       'Unsafe Backing (Muni Statute 1211(1)',\n",
       "       'Vehicle Did Not Have Signaling Devices - Muni Statute 208(3',\n",
       "       'Vehicle With One Headlight 205(1)', 'Changed Lanes When Unsafe',\n",
       "       'Child Restraint System Required',\n",
       "       'Unlawful Deviation From Designated Route-Muni Statute 106',\n",
       "       'Made Turn Where Prohibited (Muni Statute 901(2)',\n",
       "       'Spilling Loads on Highway - Muni Statute 1407',\n",
       "       'Passed on Left When Left Not Clear - Muni Statute 1005(1)',\n",
       "       'Violation of Motorcycle Safety Law-Goggles',\n",
       "       'Gave Improper Signal for Turn',\n",
       "       'Vehicle With Improper Headlights',\n",
       "       'Failed to Display/Misused Depot Tag', 'Speeding (Special Hazard)',\n",
       "       'Vehicle With Def Improper or No Tail Lamps',\n",
       "       'Veh With Defective or No Stop Lights-Muni Statute 208(1)',\n",
       "       'Owner Permitted Operation of Vehicle Without Insurance',\n",
       "       'Failed to Dim Lights', 'Eluding Police',\n",
       "       'Disregarded Stop Sign at Through Highways',\n",
       "       'Plates Improperly Attached/Plates Not Clearly Legible',\n",
       "       'Failure to Use Turn Signal',\n",
       "       'Failed to Yield ROW to Emergency Veh - Muni Statute 705',\n",
       "       'Failed to Yield ROW When Turning Left in Front of Traffic',\n",
       "       'Display/Possess False/Cancel/Revoke/Suspended/Altered Plate',\n",
       "       'Speeding (1-4 Over)', 'No Registration in Vehicle',\n",
       "       'Vehicle Defective Mufflers - Muni Statute 225',\n",
       "       'Passed on Right When Not Safe/Permitted-Muni Statute 1004',\n",
       "       'Left Turn From Wrong Position/Lane',\n",
       "       'Speeding too Fast for Conditions - Muni Statue 1101(3)',\n",
       "       'Windows obstructed - window tinting',\n",
       "       'Impeding Normal Flow of Traffic',\n",
       "       'Limits on Turning Around U Turn - No Turning Veh At An Inter',\n",
       "       'Vehicle Had Defective Improper or No Mufflers',\n",
       "       'Failed To Display Valid Registration/Improper Registration',\n",
       "       'Prohibited Right Turn on Red Signal Light',\n",
       "       'ROW Exiting Private Drive',\n",
       "       'Violation of Red Signal Light  (muni 604(1)(c)(I)',\n",
       "       'Drove Veh When Lic Expired (Under One Year)',\n",
       "       'Failed to Lock Ignition or remove Key from Vehicle',\n",
       "       'Changed Lanes When Unsafe (Weaving)',\n",
       "       'Blue and red lights - illegal use or possess',\n",
       "       'Driving around or through Barricades',\n",
       "       'Failed to Drive in a single Lane (Weaving)',\n",
       "       'Speeding (25+ Over)', 'Driver Failed to Yield ROW at Stop Sign',\n",
       "       'Failure to Register Veh Within 30 Days After Est. Residency',\n",
       "       'Insufficient Reflectors - Muni Statute 206(5)',\n",
       "       'No License Plates', 'No Registration',\n",
       "       'Wheel and or Axle Loads Exceeded Limit - Muni Statute 507',\n",
       "       'Gross Wgt Of Veh Exceeded Limit - Muni Statute 508',\n",
       "       'Vehicle Weighed/Excess Removed',\n",
       "       'Drove a Defective or Unsafe Vehicle   (IE: headlamp)',\n",
       "       'Violated Instructions on Temp. Instruction Permit',\n",
       "       'Stop When Traffic Obstructed - Muni Statute 709',\n",
       "       'Signal Lamps Failed To Meet Req - Muni Statute 215',\n",
       "       'Weight Over 7000 Lbs',\n",
       "       'Parked Vehicle where Prohibited by Signs/Markings',\n",
       "       'Threw Lighted Burning Matter on Hwy - Muni Statute 1406(2)',\n",
       "       'Speeding - Muni Statue 1101',\n",
       "       'Disregard Police Directing Traffic',\n",
       "       'Drove Vehicle Wrong Way on One-Way Street/Roadway',\n",
       "       'Special Permit Violation - Muni Statute 510',\n",
       "       'Special Permit Violation',\n",
       "       'Failed to Yield ROW to an Emergency Vehicle',\n",
       "       'Speeding 40+ over speed limit', 'Parking Violation- Other',\n",
       "       'Visible Emmissions from Gas Engine',\n",
       "       'Passed While Crossing Within 100ft of Inter-Muni St 1005(1)',\n",
       "       'No License Plate Light',\n",
       "       'Failed to Notify Authorities of Change of Name/Address',\n",
       "       \"Failed to Signal Turn Within 100' in Urban or Metro Area\",\n",
       "       'Stopping on Roadway to Pick up Ped - Muni Statute 805(7)',\n",
       "       'Drove Veh Without Valid License on Person',\n",
       "       'Failure to sign the Registration Affirmation',\n",
       "       'Passed When View Obstructed - Muni Statute 1005(1)',\n",
       "       'Drove Veh While License Denied',\n",
       "       'Passed on Left When Prohibited - Muni Statute 1005(3)',\n",
       "       'Drove Veh Other Then Veh With Approved Interlock Device',\n",
       "       'Failed to Drive Vehicle in Designated Lane',\n",
       "       'Driving on Roadways Laned for Traffic',\n",
       "       'Drove Veh When License Revoked as Habitual Offender',\n",
       "       'FTY ROW When Turning Lft in Front of Approaching Traffic',\n",
       "       'Windshield Obscured',\n",
       "       'Passed on Left in Unsafe Manner - Muni Statute 1003(1)(a)',\n",
       "       \"Failed to Signal turn within 100' in urban or metro area\",\n",
       "       'Failed to Obey Traffic Control Device',\n",
       "       'Drivers Vision Obstructed(snow fogged glass)',\n",
       "       'Other Lamps to Meet State Requirements - Muni Statue 220',\n",
       "       'Lamps and other equipment on Bicycles (Muni code 221)',\n",
       "       'Failed to sign Affirmation of Insurance',\n",
       "       'Passed Stopped School Bus/Flashing Light - Muni St 1903(1)',\n",
       "       'Vio of Motorcycle Safety Law - Muni Statute 232(1)or(2)',\n",
       "       'Reckless Driving', 'Parking on Sidewalk',\n",
       "       'Improper Turn Across Median on Divided Highway',\n",
       "       'Parking in Posted Fire Lane (Acc 134-2 (c) (1) (L))',\n",
       "       'Unlawful Moving Equip Across RR - Muni Statute 708',\n",
       "       'Failed to Yield Right of Way on Right Turn after Red',\n",
       "       'Vio of Lane Direction Control Sig - Muni Statute 604(1)(e)',\n",
       "       'Passed on Shoulder on Rgt of Veh - Muni Statute 1007(1)(b)',\n",
       "       'Failed to Yield Upon Entering Hwy - Muni Statute 704',\n",
       "       'Speed Contest (Muni statute 1105(1)',\n",
       "       'Unlawful Driving on Sidewalk - Muni Statute 710(3)',\n",
       "       'Unsafe Tires - Muni Statute 228(5)',\n",
       "       'Drove Veh W/Obstructed Windows',\n",
       "       'Improper exercising of mobility handicapped parking priv.',\n",
       "       'Legally inoperable Vehicle (ACC 134-2 (c) (5))',\n",
       "       'Speeding (20+ Over 65 Limit)',\n",
       "       'Disregarded Stop Sign or Failed to Yield ROW at Thru Hwy',\n",
       "       'Drove Vehicle while wearing Earphones',\n",
       "       'Permitted Unauthorized Person to drive vehicle',\n",
       "       'Did Not Proceed w/Caution', 'Drove Veh While License Canceled',\n",
       "       'Driving thru Safety Zone Prohibited',\n",
       "       'Seatbelt Violation (passengers 4-16, over 40 lb)',\n",
       "       'Passed on Hill or Curve When View Obs - Muni St 1005(2)(a)',\n",
       "       'Drove Veh While Under F.R.A. Suspension',\n",
       "       'Parked Vehicle on Paved Portion of Highway',\n",
       "       'Improper moving of Parked Vehicle',\n",
       "       'License/ID To Be Exhibited on Demand',\n",
       "       'Permitted Unauthorized Minor to Drive Vehicle',\n",
       "       'Green Turn Arrow Alone', 'Drove Veh While License Revoked',\n",
       "       'Right Turn on Red Light when Prohibited',\n",
       "       'Minor Driver with Unauthorized Passengers',\n",
       "       'Display/Possess False Revoke Suspend/Altered Plate',\n",
       "       'Seatbelt Restraint Violation',\n",
       "       'Misused Spot Light - Muni Statute 212(1)',\n",
       "       'Open Alcoholic Beverage Container in a Motor Vehicle',\n",
       "       'Veh With Windshield Not Safety Glass-Muni Statute 229(4)',\n",
       "       'Speeding (10-14 Over 65 Limit)',\n",
       "       'Over 18 Using Wireless Phone To Text While Oprtng Motor Veh',\n",
       "       'Windshield Obstructed (Muni 227)',\n",
       "       'Driving on roadways laned for traffic',\n",
       "       'Violation of Red Signal Light',\n",
       "       'Alteration of Suspension System.', 'Damage to Highway',\n",
       "       'Load Proj Beyond Headlamps/Frt Wheels-Muni Statute 504(5)',\n",
       "       'Speeding (15-19 Over 65 Limit)', 'Unsafe Tires',\n",
       "       'Drove Motorcycle/Motor Driven Cycle no Valid License',\n",
       "       'Drove a Defective or Unsafe Vehicle',\n",
       "       'Speeding (20 Miles and Over)',\n",
       "       'Unlawful Use Of Flasing Turn Signal - Muni Statute 903(4)',\n",
       "       'Obstruction of view',\n",
       "       \"Rear Mirror Did Not Have Min 200' Vision-Muni Stat 226(1)\",\n",
       "       'Violated Flashing Signal Light', 'Violated Red Signal Arrow',\n",
       "       'Other Vehicles & Eqpt to meet state requirements',\n",
       "       'Child Restraint Systems Required (Under 4 yrs or 40 lb)',\n",
       "       'Drove on Highway with Parking Lights',\n",
       "       'Trailer parked over 24 hours (ACC 134-2 (c)(4))',\n",
       "       'Improper Reflectors',\n",
       "       'Failed to Yield ROW at Intersection (Muni 42-4-703(4)',\n",
       "       'Failed to stop at malfunctioning signal light',\n",
       "       'Other Lamps to Meet State Requirements - Low Power Scooters',\n",
       "       'Limits on Turning Around U Turn - No Veh Shall Be Turned To',\n",
       "       'Violation Flasing Signal Light - Muni Statute 605(1)(a)',\n",
       "       'Skis, Sleds or similar devices on Highway',\n",
       "       'Unlawful Driving on Sidewalk',\n",
       "       'Failure to user Emergency Equipment', 'Speeding (5-9 Over)',\n",
       "       'Discarded on Private Property',\n",
       "       'Disregarded or Failed to Yield at Sign',\n",
       "       'Improper Headlight Distribution - Muni Statute 216',\n",
       "       'Made U Turn Where Prohibited by Sign',\n",
       "       'Made Right Turn From/To Wrong Position', 'Speeding (20-24 Over)',\n",
       "       'Illegal Oper of Veh in a Rec Area - Muni Statute ACC37-73',\n",
       "       'Drove Veh When License Revoked As Habitual Offender',\n",
       "       'Failed to Drive in a Single Lane (Weaving)',\n",
       "       'Vehicle Headlights Failed To Meet Req - Muni Statute 216',\n",
       "       'Passed on Right When Not Safe/Permitted',\n",
       "       'Misuse Of A Wireless Telephone', 'Vehicle had only one plate',\n",
       "       'Improper Headlight Height - Muni Statute 205(3)',\n",
       "       'Vehicle Obstructed intersection crosswalk or RR Crossing',\n",
       "       'Overweight Truck/Trailer (ACC 134-356 (a))',\n",
       "       'Parked on Divided Highway', 'Speeding too Fast for Conditions',\n",
       "       'Hazardous Situation-Hang on veh Statute - 201(6)',\n",
       "       'Person Attach to Outside of Veh - Muni Statute 201(6)',\n",
       "       'Violated Red Signal With Green Arrow',\n",
       "       'Farm Trac Exceeded 10\\'6\" Width - Muni Statute 502(2)(b)',\n",
       "       'Green Straight Thru Arrow Alone',\n",
       "       \"Failed to signal for turn within 200' on highway\",\n",
       "       'Vehicle Did Not Have Rear View Mirror - Muni Statute 226',\n",
       "       'Vision Obstructed - Muni Statute 227(1)',\n",
       "       'Child restraint systems required - booster seat',\n",
       "       'Vehicle With No/Def Horn, Unaut Siren - Muni Statute 224(1)',\n",
       "       'Driving on wrong side of road not passing',\n",
       "       'Ill Operation of Motorcycle on Laned Rd - Muni Statute 1503',\n",
       "       'Failure to Yield ROW to Veh Upon Emer Alley/Driveway/Bldg',\n",
       "       'Passed Stopped School Bus with Flashing Signal Lights',\n",
       "       'Failed to yield ROW to vehicle upon entering alley, etc',\n",
       "       'Drag Racing', 'Improper Riding on Motorcycle - Muni Statute 1502',\n",
       "       'Drove Vehicle in Center Lane when prohibited (MTC 1007(1)(b',\n",
       "       'Permitted Unauthorized peron to drive vehicle',\n",
       "       'Displayed Unauth Traffic Device',\n",
       "       'Left/Deposited/Threw Foreign Matter on Hwy', 'Obstructed Windows',\n",
       "       'Alter Deface Offic Traf Cont Sign Device',\n",
       "       'Improper Left Turn at Double Turn Lanes',\n",
       "       'Passed on Left in Unsafe Manner', 'Vehicle Parked for Sale',\n",
       "       'Spilling Loads on Highway', 'Failure to Stop for School Bus',\n",
       "       'Renting or Loaning a Motor Vehicle to Another Unlicensed',\n",
       "       'TV Viewer Visible To Driver While Operating A Motor Vehicle',\n",
       "       \"Load of Loose Hay Exceeded 12' Width-Muni Statute 502(2)(a)\",\n",
       "       'Signal Lamps or Devices Failed to Meet Requirements',\n",
       "       'Vehicle Failed to Have Turn Signals - Muni Statute 215(2)',\n",
       "       'Passed on Left When Prohibited by Signs and/or Markings',\n",
       "       'Driving on Wrong Side of Road - Left of Center Line On 4 Or',\n",
       "       'No Safety Chain/Cable on Towed Veh - Muni Statute 506(3)',\n",
       "       'Parked Vehicle on Sidewalk or in Crosswalk/Intersection',\n",
       "       'Parked Vehicle on wrong side of Road',\n",
       "       'Improper reflectors on vehicle (cc 617)',\n",
       "       'Improper Lights on Service Vehicle - Muni Statute 214',\n",
       "       'Failed to use turn signal',\n",
       "       'Restrictions on Drivers under 18 (42-2-105(1)',\n",
       "       'Vehicle With One Headlight',\n",
       "       'Failed to Obey Seat Belt Requirements Child',\n",
       "       'Parking within 15 ft of Fire Hydrant (Acc 134-2 (c) (2) (B)',\n",
       "       'Drove Veh Without Valid Drivers License on Person',\n",
       "       \"Unlawful Use of a Driver's License, Displayed Illegal, etc.\",\n",
       "       'Driving on Wrong Side of Divided Highway',\n",
       "       'Insufficient reflectors on vehicle (cc 616)',\n",
       "       'Fail To Pass On Rt Oncome Traffic',\n",
       "       'No Red Light/Flag at Rear - Muni Statute 209',\n",
       "       'Spilling Load on Highway (non-covered loads, blowing gravel',\n",
       "       'Mcycl Oper/Psngr Under 18 no Helmet',\n",
       "       'Failed to Yield ROW at Uncontr Inter (Muni 42-4-701(1)',\n",
       "       'Improper Moving of Parked Vehicle',\n",
       "       'Failed to Turn as Req by Traffic Dev-Muni Statute 901(2)',\n",
       "       'Failed To Yield ROW to an Emergency Vehicle',\n",
       "       'Fail to Display Valid Registration',\n",
       "       'Speeding (5-9 mph over limit)',\n",
       "       'Speeding (10-19 mph over max 75 mph limit)',\n",
       "       'Drivers Vision Obstructed', 'Speeding (1-4 mph over limit)',\n",
       "       'Driving on Roadways Laned for Traffic Improper Passing',\n",
       "       'Speeding (20-24 mph over max 75 mph limit)',\n",
       "       'Failure to Signal for Stop',\n",
       "       'Speeding (40 mph or greater over speed limit)',\n",
       "       'Child Booster Seat Required (4-7 years of age) primary viola',\n",
       "       'Failed To Stop For Red Light At Proper Location',\n",
       "       'Made Left Turn From/To Wrong Position',\n",
       "       'Made Right Turn On Red Light When Prohibited (by sign)',\n",
       "       'Person 18 And Over Engaged In Text Messaging While Operating',\n",
       "       'Stopped Vehicle In (intersection/crosswalk/railroad crossing',\n",
       "       'Vehicle With Defective Or No Stop Lights',\n",
       "       'Failed to Obey Seat Belt Requirements',\n",
       "       'Violation of Lane Direction Control Signal',\n",
       "       'Vehicle with Def Improper or No Tail Light',\n",
       "       'Child Restraining Systems Required Less than 1 year old and',\n",
       "       'Speeding (20-24 mph over limit)',\n",
       "       'Cut Thru Private Property Avoid Redlight',\n",
       "       'Speeding (1-4 mph over max 75 mph limit)',\n",
       "       'Made U-Turn Where Prohibited (by sign)',\n",
       "       'Seatbelt Violation (passengers 8-15 years of age) primary vi',\n",
       "       'Lent/Permitted Unauthorized Use of Number Plate',\n",
       "       'Vehicle Did Not Have Brake Lights as Required',\n",
       "       'Passed On Left When Prohibited By Signs/Markings',\n",
       "       'Left/Deposited/Threw Lighted Burning Matter On Highway',\n",
       "       'Height Of Reflectors Failed To Meet Requirements (height bet',\n",
       "       'Child Restraining Systems Required 1-3 years of age/more tha',\n",
       "       'Reckless',\n",
       "       'Operate Vehicle After Circumventing Interlock Device - Drivi',\n",
       "       'Left/Deposited/Threw Lighted Burning Matter on Highway',\n",
       "       'Parked Vehicle on Grade Without Turning Wheels to Side',\n",
       "       'Littering Prohibited From Vehicle',\n",
       "       'Child Restraining Systems Required 1-3 Years of Age / More t',\n",
       "       'Violation Of Motorcycle Or Motor-Driven Cycle Safety Law (Go',\n",
       "       'Parked Vehicle on Sidewalk',\n",
       "       'Operated Uninsured Vehicle on Public Roadway (driver)',\n",
       "       'Removed/Interfered/Altered/Damaged Traffic Control Sign/Dev',\n",
       "       'Height of Vehicle Exceeded - Muni Statute 504(1)',\n",
       "       'Seatbelt Violation (Passengers 4-16 yrs)',\n",
       "       'Speeding (25-39 mph over limit)',\n",
       "       'TV Visible to Vehicle Operator - Muni Statute 201(3)',\n",
       "       'Improper Headlight Height (24\"?\\x9d-54\"?\\x9d from center of light',\n",
       "       'Failed To Yield ROW To An Emergency Vehicle',\n",
       "       'Passed On Left In Unsafe Manner (must not cut off vehicle be',\n",
       "       'Vehicle License Plate Validation Tabs Improprely Attached',\n",
       "       'No Turn Signal on Vehicle when Required',\n",
       "       'Unauthorized Vehicle Possesion/Displayed Red Or Blue Lights',\n",
       "       'No Red Light Flag at Rear',\n",
       "       'Parking within 30ft of Traffic Signal (Acc 134-2 (c)(2)(D)',\n",
       "       'Parking within 5 ft of Driveway (Acc 134-2 (c) (2) (A))',\n",
       "       'Vehicle Did Not Have Brake Lights As Required',\n",
       "       'Plates Improperly Displayed',\n",
       "       'Failed to Yield ROW at Uncontrolled Intersection',\n",
       "       'Vehicle Had No Or Defective Windshield Wipers',\n",
       "       'Operated Vehicle With Defective/Missing Headlamps',\n",
       "       'Headlamps to be lit',\n",
       "       'Operated Vehicle With Improper/Unsafe Tires (any bump, knot',\n",
       "       'Farm Equip With Improper Lights - Muni Statute 211',\n",
       "       'Failed to Signal for Turn',\n",
       "       'Driver Allowed Passenger To Ride In Unsafe Manner',\n",
       "       'Improper Emergency Light Equip - Muni Statute 230',\n",
       "       'Drove Vehicle when Revoked as Habitual Offender (DWAI)',\n",
       "       'Littering', 'Parked Vehicle Where Signs Prohibit',\n",
       "       'Seatbelt Violation (only one passenger in front seat and bac',\n",
       "       'FTY ROW to Ped at Walk Signal',\n",
       "       'No Turn Signal on Vehicle - Muni Statute 608(2)',\n",
       "       'Vehicle Transporting Trash Or Recyclables Failed To Cover/Pr',\n",
       "       'Open Container Public Place',\n",
       "       'Speed Contest (one or more vehicles time trial, or two vehic',\n",
       "       'Used More Than 4 Lights When Pro - Muni Statute 219',\n",
       "       'Seatbelt Violation (driver under 18 years all occupants in v',\n",
       "       'Unlawful Deviation From Designated Truck Routes',\n",
       "       'Parking Violation',\n",
       "       'Open Alcoholic Beverage Container - Motor Vehicle - Prohibit',\n",
       "       'Failure to Park as Close as Practical to Edge',\n",
       "       'Violation Of Lane Direction Control Signals',\n",
       "       'Illegal Operation of Motorcycle On Laned Roads - No Lane Spl',\n",
       "       'Person Under 18 Used Telephone While Operating A Motor Vehic',\n",
       "       'Drove a Commercial Vehicle Without a Valid Drivers License',\n",
       "       'Made Unsafe U-Turn At Intersection',\n",
       "       'Height Of Reflectors Failed To Meet Requirements ( height be',\n",
       "       'Minor Operated A Motor Vehicle With An Unauthorized Passenge',\n",
       "       'Special Lights and Alarm System - Muni Statute 222',\n",
       "       'Stopping, Standing or Parking In Any Posted Fire Lane',\n",
       "       'Improper Left Turn At Multi-Turn Intersection (not turning f',\n",
       "       'Drove Vehicle while wearing earphones',\n",
       "       'Operation on Public hwys Prohibited (134-219)',\n",
       "       'Lamps And Other Equipment On Bicycles - Front lamp 500 ft',\n",
       "       'Eluding', 'Vehicle Did Not Have Turn Signals as Required',\n",
       "       'Drove Veh While License Revoked (Alcohol)',\n",
       "       'Number of License Plates To Be Attached: Must Display Correc'],\n",
       "      dtype=object)"
      ]
     },
     "execution_count": 814,
     "metadata": {},
     "output_type": "execute_result"
    }
   ],
   "source": [
    "data.violation.unique()"
   ]
  },
  {
   "cell_type": "markdown",
   "metadata": {},
   "source": [
    "There are too many similar categories, I will minimize the number of categories by grouping similar violations."
   ]
  },
  {
   "cell_type": "code",
   "execution_count": 815,
   "metadata": {},
   "outputs": [
    {
     "data": {
      "text/plain": [
       "Speeding (10-19 Over)                                       67987\n",
       "Failed to Present Evidence of Insurance Upon Request        13741\n",
       "Failed to Obey Seat Belt Requirements Adult                  7688\n",
       "Speeding (20+ Over) - Muni Statue 1101                       7134\n",
       "Disregarded Stop Sign                                        6173\n",
       "Expired License Plates                                       3870\n",
       "Right Turn on Red Light When Pro-Muni St 604(1)(c)(I)(A)     3005\n",
       "Failed to Obey Signal Light (Muni Statute 15-5(c)(1)         2953\n",
       "Failed to Observe or Disregarded Traffic Control Device      2943\n",
       "Drove Veh While License Suspended                            2899\n",
       "Name: violation, dtype: int64"
      ]
     },
     "execution_count": 815,
     "metadata": {},
     "output_type": "execute_result"
    }
   ],
   "source": [
    "data.violation.value_counts().head(10)"
   ]
  },
  {
   "cell_type": "code",
   "execution_count": 816,
   "metadata": {},
   "outputs": [
    {
     "data": {
      "text/plain": [
       "Speeding (10-19 Over)                                           67987\n",
       "Speeding (20+ Over) - Muni Statue 1101                           7134\n",
       "Speeding (25++ over)  Muni statute (1101)                        2195\n",
       "Speeding (40 mph or greater over speed limit)                     811\n",
       "Speeding (1-4 Over)                                               373\n",
       "Speeding (5-9 Over) - Muni Statue 1101                            223\n",
       "Speeding 40+ over speed limit                                     151\n",
       "Speeding too Fast for Conditions - Muni Statue 1101(3)             87\n",
       "Speeding (10-14 Over 65 Limit)                                     80\n",
       "Speed Contest (Muni statute 1105(1)                                77\n",
       "Speeding (10-19 mph over max 75 mph limit)                         65\n",
       "Speeding (5-9 mph over limit)                                      65\n",
       "Speeding (20-24 mph over max 75 mph limit)                         62\n",
       "Speeding (20-24 mph over limit)                                    56\n",
       "Speeding (1-4 mph over max 75 mph limit)                           53\n",
       "Speeding (1-4 mph over limit)                                      45\n",
       "Speeding (25+ Over)                                                43\n",
       "Speeding - Muni Statue 1101                                        18\n",
       "Speeding (Special Hazard)                                          10\n",
       "Speeding (20-24 Over)                                               7\n",
       "Speeding (25-39 mph over limit)                                     7\n",
       "Speeding (20+ Over 65 Limit)                                        5\n",
       "Speeding (15-19 Over 65 Limit)                                      3\n",
       "Speeding (5-9 Over)                                                 3\n",
       "Speeding too Fast for Conditions                                    2\n",
       "Speeding (20 Miles and Over)                                        1\n",
       "Speed Contest (one or more vehicles time trial, or two vehic        1\n",
       "Name: violation, dtype: int64"
      ]
     },
     "execution_count": 816,
     "metadata": {},
     "output_type": "execute_result"
    }
   ],
   "source": [
    "data.loc[data['violation'].str.contains(\"Speed\") == True,'violation'].value_counts()"
   ]
  },
  {
   "cell_type": "code",
   "execution_count": 817,
   "metadata": {},
   "outputs": [],
   "source": [
    "# Bring all types of speeding violations into one category \"Speeding\"\n",
    "data.loc[data['violation'].str.contains(\"Speed\") == True,'violation'] = \"Speeding\""
   ]
  },
  {
   "cell_type": "code",
   "execution_count": 818,
   "metadata": {},
   "outputs": [
    {
     "data": {
      "text/plain": [
       "Failed to Obey Seat Belt Requirements Adult    7688\n",
       "Failed to Obey Seat Belt Requirements          2021\n",
       "Failed to Obey Seat Belt Requirements Child       1\n",
       "Name: violation, dtype: int64"
      ]
     },
     "execution_count": 818,
     "metadata": {},
     "output_type": "execute_result"
    }
   ],
   "source": [
    "data.loc[data['violation'].str.contains(\"Seat Belt\")== True, 'violation'].value_counts()"
   ]
  },
  {
   "cell_type": "code",
   "execution_count": 819,
   "metadata": {},
   "outputs": [],
   "source": [
    "# Bring all types of seat belt violations into one category \n",
    "data.loc[data['violation'].str.contains(\"Seat Belt\")== True, 'violation'] = \"Failed to Obey Seat Belt Requirements\""
   ]
  },
  {
   "cell_type": "code",
   "execution_count": 820,
   "metadata": {},
   "outputs": [
    {
     "data": {
      "text/plain": [
       "Disregarded Stop Sign                                       6173\n",
       "Driver Failed to Yield ROW at Stop Sign                      177\n",
       "Disregarded Stop Sign at Through Highways                    169\n",
       "Disregarded Stop Sign or Failed to Yield ROW at Thru Hwy      19\n",
       "Name: violation, dtype: int64"
      ]
     },
     "execution_count": 820,
     "metadata": {},
     "output_type": "execute_result"
    }
   ],
   "source": [
    "data.loc[data['violation'].str.contains(\"Stop Sign\")== True, 'violation'].value_counts()"
   ]
  },
  {
   "cell_type": "code",
   "execution_count": 821,
   "metadata": {},
   "outputs": [],
   "source": [
    "# Bring all types of stop sign violations into one category\n",
    "data.loc[data['violation'].str.contains(\"Stop Sign\")== True, 'violation'] = \"Disregarded Stop Sign\""
   ]
  },
  {
   "cell_type": "code",
   "execution_count": 822,
   "metadata": {},
   "outputs": [
    {
     "data": {
      "text/plain": [
       "Expired License Plates                                          3870\n",
       "Drove Veh While License Suspended                               2899\n",
       "Drove Veh Without Valid Drivers License                         1431\n",
       "Failed To Display Valid Registration/Improper Registration       201\n",
       "No License Plate Light - Muni Statute 206(3)                     165\n",
       "Illegal License Plate Cover                                       90\n",
       "No Registration                                                   86\n",
       "No License Plate Light                                            79\n",
       "Drove Veh When License Revoked as Habitual Offender               79\n",
       "No License Plates                                                 56\n",
       "Drove Veh Without Valid License on Person                         54\n",
       "Drove Veh While License Canceled                                  46\n",
       "Drove Veh While License Denied                                    34\n",
       "Drove Veh While License Revoked                                   25\n",
       "No Registration in Vehicle                                        17\n",
       "Drove Motorcycle/Motor Driven Cycle no Valid License               9\n",
       "Vehicle License Plate Validation Tabs Improprely Attached          5\n",
       "Drove Veh While License Revoked (Alcohol)                          4\n",
       "Fail to Display Valid Registration                                 2\n",
       "License/ID To Be Exhibited on Demand                               1\n",
       "Drove Veh Without Valid Drivers License on Person                  1\n",
       "Drove a Commercial Vehicle Without a Valid Drivers License         1\n",
       "Number of License Plates To Be Attached: Must Display Correc       1\n",
       "Failure to sign the Registration Affirmation                       1\n",
       "Drove Veh When License Revoked As Habitual Offender                1\n",
       "Unlawful Use of a Driver's License, Displayed Illegal, etc.        1\n",
       "Name: violation, dtype: int64"
      ]
     },
     "execution_count": 822,
     "metadata": {},
     "output_type": "execute_result"
    }
   ],
   "source": [
    "data.loc[data['violation'].str.contains(\"License|Registration\")== True, 'violation'].value_counts()"
   ]
  },
  {
   "cell_type": "code",
   "execution_count": 823,
   "metadata": {},
   "outputs": [],
   "source": [
    "# Bring all types of license or registration violations into one category\n",
    "data.loc[data['violation'].str.contains(\"License\")== True, 'violation'] = \"License/Registration Violation\""
   ]
  },
  {
   "cell_type": "code",
   "execution_count": 824,
   "metadata": {},
   "outputs": [
    {
     "data": {
      "text/plain": [
       "Right Turn on Red Light When Pro-Muni St 604(1)(c)(I)(A)       3005\n",
       "Failed to Obey Signal Light (Muni Statute 15-5(c)(1)           2953\n",
       "Violation of Green Turn Arrow - Muni Statute 604(1)(a)(II)     1547\n",
       "Prohibited Right Turn on Red Signal Light                       150\n",
       "Failed To Stop For Red Light At Proper Location                 148\n",
       "Violation of Red Signal Light  (muni 604(1)(c)(I)                37\n",
       "Failed to Yield Right of Way on Right Turn after Red             34\n",
       "Cut Thru Private Property Avoid Redlight                         26\n",
       "Violated Red Signal Arrow                                        22\n",
       "Made Right Turn On Red Light When Prohibited (by sign)           18\n",
       "Right Turn on Red Light when Prohibited                          11\n",
       "No Red Light/Flag at Rear - Muni Statute 209                      5\n",
       "Unauthorized Vehicle Possesion/Displayed Red Or Blue Lights       5\n",
       "Green Straight Thru Arrow Alone                                   4\n",
       "Violation of Red Signal Light                                     4\n",
       "Violation Flasing Signal Light - Muni Statute 605(1)(a)           3\n",
       "Green Turn Arrow Alone                                            2\n",
       "Violated Red Signal With Green Arrow                              2\n",
       "Violated Flashing Signal Light                                    1\n",
       "Passed Stopped School Bus with Flashing Signal Lights             1\n",
       "No Red Light Flag at Rear                                         1\n",
       "Name: violation, dtype: int64"
      ]
     },
     "execution_count": 824,
     "metadata": {},
     "output_type": "execute_result"
    }
   ],
   "source": [
    "data.loc[(data['violation'].str.contains(\"Signal Light|Red|Green\")== True), 'violation'] .value_counts()"
   ]
  },
  {
   "cell_type": "code",
   "execution_count": 825,
   "metadata": {},
   "outputs": [],
   "source": [
    "# Bring all types of signal light violation into one category\n",
    "data.loc[data['violation'].str.contains(\"Signal Light|Red Light|Green\")== True, 'violation'] = \"Failed to Obey Signal Lights\""
   ]
  },
  {
   "cell_type": "code",
   "execution_count": 826,
   "metadata": {},
   "outputs": [
    {
     "data": {
      "text/plain": [
       "Speeding                                                79564\n",
       "Failed to Present Evidence of Insurance Upon Request    13741\n",
       "Failed to Obey Seat Belt Requirements                    9710\n",
       "License/Registration Violation                           8852\n",
       "Failed to Obey Signal Lights                             7892\n",
       "Name: violation, dtype: int64"
      ]
     },
     "execution_count": 826,
     "metadata": {},
     "output_type": "execute_result"
    }
   ],
   "source": [
    "data.violation.value_counts().head()"
   ]
  },
  {
   "cell_type": "code",
   "execution_count": 827,
   "metadata": {},
   "outputs": [
    {
     "data": {
      "text/plain": [
       "Speeding                                                0.485253\n",
       "Failed to Present Evidence of Insurance Upon Request    0.083805\n",
       "Failed to Obey Seat Belt Requirements                   0.059220\n",
       "License/Registration Violation                          0.053987\n",
       "Failed to Obey Signal Lights                            0.048133\n",
       "Name: violation, dtype: float64"
      ]
     },
     "execution_count": 827,
     "metadata": {},
     "output_type": "execute_result"
    }
   ],
   "source": [
    "data.violation.value_counts(normalize = True).head()"
   ]
  },
  {
   "cell_type": "markdown",
   "metadata": {},
   "source": [
    "Almost half of all violations are speeding, followed by insurance violations and seat belt violations."
   ]
  },
  {
   "cell_type": "code",
   "execution_count": 828,
   "metadata": {},
   "outputs": [],
   "source": [
    "# Add 'count_violation' column to analyze 'violation' column more easily by percentage of types\n",
    "data['count_violation(%)'] = data['violation'].map(data['violation'].value_counts(normalize = True))"
   ]
  },
  {
   "cell_type": "code",
   "execution_count": 829,
   "metadata": {},
   "outputs": [],
   "source": [
    "# Change 'violation' type to 'Others' where the 'count_violation'(% of total violations) is less than 1%\n",
    "data.loc[data['count_violation(%)'] < 0.01, 'violation'] = 'Others'"
   ]
  },
  {
   "cell_type": "code",
   "execution_count": 830,
   "metadata": {},
   "outputs": [
    {
     "data": {
      "text/plain": [
       "Speeding                                                   79564\n",
       "Others                                                     24725\n",
       "Failed to Present Evidence of Insurance Upon Request       13741\n",
       "Failed to Obey Seat Belt Requirements                       9710\n",
       "License/Registration Violation                              8852\n",
       "Failed to Obey Signal Lights                                7892\n",
       "Disregarded Stop Sign                                       6538\n",
       "Failed to Observe or Disregarded Traffic Control Device     2943\n",
       "Made U Turn Where Prohibited (Muni Statute 603(1)           2641\n",
       "Vehicle With Defective/Improper or No Tail Lamps            1867\n",
       "Tinted Windows - Muni Statute 227(1)                        1861\n",
       "Glass in Vehicle Did Not Permit Norman Vision               1828\n",
       "Vehicle with one headlight (Muni 205(1))                    1802\n",
       "Name: violation, dtype: int64"
      ]
     },
     "execution_count": 830,
     "metadata": {},
     "output_type": "execute_result"
    }
   ],
   "source": [
    "data.violation.value_counts()"
   ]
  },
  {
   "cell_type": "code",
   "execution_count": 831,
   "metadata": {},
   "outputs": [
    {
     "data": {
      "text/plain": [
       "count       163964\n",
       "unique          13\n",
       "top       Speeding\n",
       "freq         79564\n",
       "Name: violation, dtype: object"
      ]
     },
     "execution_count": 831,
     "metadata": {},
     "output_type": "execute_result"
    }
   ],
   "source": [
    "data.violation.describe()"
   ]
  },
  {
   "cell_type": "code",
   "execution_count": 832,
   "metadata": {},
   "outputs": [
    {
     "data": {
      "text/plain": [
       "array(['Speeding', 'Failed to Present Evidence of Insurance Upon Request',\n",
       "       'Others', 'License/Registration Violation',\n",
       "       'Vehicle With Defective/Improper or No Tail Lamps',\n",
       "       'Vehicle with one headlight (Muni 205(1))',\n",
       "       'Glass in Vehicle Did Not Permit Norman Vision',\n",
       "       'Failed to Obey Seat Belt Requirements', 'Disregarded Stop Sign',\n",
       "       'Failed to Obey Signal Lights',\n",
       "       'Tinted Windows - Muni Statute 227(1)',\n",
       "       'Failed to Observe or Disregarded Traffic Control Device',\n",
       "       'Made U Turn Where Prohibited (Muni Statute 603(1)'], dtype=object)"
      ]
     },
     "execution_count": 832,
     "metadata": {},
     "output_type": "execute_result"
    }
   ],
   "source": [
    "data.violation.unique()"
   ]
  },
  {
   "cell_type": "code",
   "execution_count": 833,
   "metadata": {
    "scrolled": true
   },
   "outputs": [
    {
     "data": {
      "text/html": [
       "<div>\n",
       "<style scoped>\n",
       "    .dataframe tbody tr th:only-of-type {\n",
       "        vertical-align: middle;\n",
       "    }\n",
       "\n",
       "    .dataframe tbody tr th {\n",
       "        vertical-align: top;\n",
       "    }\n",
       "\n",
       "    .dataframe thead th {\n",
       "        text-align: right;\n",
       "    }\n",
       "</style>\n",
       "<table border=\"1\" class=\"dataframe\">\n",
       "  <thead>\n",
       "    <tr style=\"text-align: right;\">\n",
       "      <th></th>\n",
       "      <th>date</th>\n",
       "      <th>time</th>\n",
       "      <th>subject_age</th>\n",
       "      <th>subject_race</th>\n",
       "      <th>subject_sex</th>\n",
       "      <th>violation</th>\n",
       "      <th>count_violation(%)</th>\n",
       "    </tr>\n",
       "  </thead>\n",
       "  <tbody>\n",
       "    <tr>\n",
       "      <th>0</th>\n",
       "      <td>1/1/12</td>\n",
       "      <td>9:14:00</td>\n",
       "      <td>27</td>\n",
       "      <td>white</td>\n",
       "      <td>male</td>\n",
       "      <td>Speeding</td>\n",
       "      <td>0.485253</td>\n",
       "    </tr>\n",
       "    <tr>\n",
       "      <th>1</th>\n",
       "      <td>1/1/12</td>\n",
       "      <td>9:30:00</td>\n",
       "      <td>24</td>\n",
       "      <td>black</td>\n",
       "      <td>female</td>\n",
       "      <td>Speeding</td>\n",
       "      <td>0.485253</td>\n",
       "    </tr>\n",
       "    <tr>\n",
       "      <th>2</th>\n",
       "      <td>1/1/12</td>\n",
       "      <td>9:36:00</td>\n",
       "      <td>23</td>\n",
       "      <td>white</td>\n",
       "      <td>male</td>\n",
       "      <td>Speeding</td>\n",
       "      <td>0.485253</td>\n",
       "    </tr>\n",
       "    <tr>\n",
       "      <th>3</th>\n",
       "      <td>1/1/12</td>\n",
       "      <td>9:40:00</td>\n",
       "      <td>39</td>\n",
       "      <td>white</td>\n",
       "      <td>female</td>\n",
       "      <td>Speeding</td>\n",
       "      <td>0.485253</td>\n",
       "    </tr>\n",
       "    <tr>\n",
       "      <th>4</th>\n",
       "      <td>1/1/12</td>\n",
       "      <td>9:46:00</td>\n",
       "      <td>75</td>\n",
       "      <td>white</td>\n",
       "      <td>male</td>\n",
       "      <td>Failed to Present Evidence of Insurance Upon R...</td>\n",
       "      <td>0.083805</td>\n",
       "    </tr>\n",
       "  </tbody>\n",
       "</table>\n",
       "</div>"
      ],
      "text/plain": [
       "     date     time  subject_age subject_race subject_sex  \\\n",
       "0  1/1/12  9:14:00           27        white        male   \n",
       "1  1/1/12  9:30:00           24        black      female   \n",
       "2  1/1/12  9:36:00           23        white        male   \n",
       "3  1/1/12  9:40:00           39        white      female   \n",
       "4  1/1/12  9:46:00           75        white        male   \n",
       "\n",
       "                                           violation  count_violation(%)  \n",
       "0                                           Speeding            0.485253  \n",
       "1                                           Speeding            0.485253  \n",
       "2                                           Speeding            0.485253  \n",
       "3                                           Speeding            0.485253  \n",
       "4  Failed to Present Evidence of Insurance Upon R...            0.083805  "
      ]
     },
     "execution_count": 833,
     "metadata": {},
     "output_type": "execute_result"
    }
   ],
   "source": [
    "data.head()"
   ]
  },
  {
   "cell_type": "markdown",
   "metadata": {},
   "source": [
    "## About the aurora weather data\n",
    "[NOAA](https://www.ncdc.noaa.gov/cdo-web/)"
   ]
  },
  {
   "cell_type": "markdown",
   "metadata": {},
   "source": [
    "<p style='text-align: justify;'> \n",
    "I added new weather data to determind if whether conditions have impact on police behavior. The weather data was collected by the National Centers for Environmental Information , and the duration of the weather data is from 01/01/2012 to 12/31/2016.\n",
    "One possible hypothesis is that weather conditions impact on police behavior during traffic stop. Even though dataset has specific stop locatioin, I would use the data from one station(\"Centennial International Airpot Station\") near Aurora. This is not ideal, but Aurora is a small city and airport weather statation tends to have more weather dataset than the others, it will give me a general idea of the weather condition thourghout the city. </p> "
   ]
  },
  {
   "cell_type": "markdown",
   "metadata": {},
   "source": [
    "## Preparing Aurora weather data for analysis"
   ]
  },
  {
   "cell_type": "markdown",
   "metadata": {},
   "source": [
    "### Examing the dataset"
   ]
  },
  {
   "cell_type": "code",
   "execution_count": 834,
   "metadata": {},
   "outputs": [],
   "source": [
    "weather = pd.read_csv('weather.csv')"
   ]
  },
  {
   "cell_type": "code",
   "execution_count": 835,
   "metadata": {},
   "outputs": [
    {
     "data": {
      "text/plain": [
       "Index(['STATION', 'NAME', 'DATE', 'AWND', 'PRCP', 'SNOW', 'SNWD', 'TAVG',\n",
       "       'TMAX', 'TMIN', 'WT01', 'WT02', 'WT03', 'WT04', 'WT05', 'WT06', 'WT08',\n",
       "       'WT09'],\n",
       "      dtype='object')"
      ]
     },
     "execution_count": 835,
     "metadata": {},
     "output_type": "execute_result"
    }
   ],
   "source": [
    "weather.columns"
   ]
  },
  {
   "cell_type": "code",
   "execution_count": 836,
   "metadata": {},
   "outputs": [
    {
     "data": {
      "text/html": [
       "<div>\n",
       "<style scoped>\n",
       "    .dataframe tbody tr th:only-of-type {\n",
       "        vertical-align: middle;\n",
       "    }\n",
       "\n",
       "    .dataframe tbody tr th {\n",
       "        vertical-align: top;\n",
       "    }\n",
       "\n",
       "    .dataframe thead th {\n",
       "        text-align: right;\n",
       "    }\n",
       "</style>\n",
       "<table border=\"1\" class=\"dataframe\">\n",
       "  <thead>\n",
       "    <tr style=\"text-align: right;\">\n",
       "      <th></th>\n",
       "      <th>STATION</th>\n",
       "      <th>NAME</th>\n",
       "      <th>DATE</th>\n",
       "      <th>AWND</th>\n",
       "      <th>PRCP</th>\n",
       "      <th>SNOW</th>\n",
       "      <th>SNWD</th>\n",
       "      <th>TAVG</th>\n",
       "      <th>TMAX</th>\n",
       "      <th>TMIN</th>\n",
       "      <th>WT01</th>\n",
       "      <th>WT02</th>\n",
       "      <th>WT03</th>\n",
       "      <th>WT04</th>\n",
       "      <th>WT05</th>\n",
       "      <th>WT06</th>\n",
       "      <th>WT08</th>\n",
       "      <th>WT09</th>\n",
       "    </tr>\n",
       "  </thead>\n",
       "  <tbody>\n",
       "    <tr>\n",
       "      <th>0</th>\n",
       "      <td>USW00093067</td>\n",
       "      <td>DENVER CENTENNIAL AIRPORT, CO US</td>\n",
       "      <td>2012-01-01</td>\n",
       "      <td>6.04</td>\n",
       "      <td>0.0</td>\n",
       "      <td>NaN</td>\n",
       "      <td>NaN</td>\n",
       "      <td>NaN</td>\n",
       "      <td>38.0</td>\n",
       "      <td>18.0</td>\n",
       "      <td>NaN</td>\n",
       "      <td>NaN</td>\n",
       "      <td>NaN</td>\n",
       "      <td>NaN</td>\n",
       "      <td>NaN</td>\n",
       "      <td>NaN</td>\n",
       "      <td>NaN</td>\n",
       "      <td>NaN</td>\n",
       "    </tr>\n",
       "    <tr>\n",
       "      <th>1</th>\n",
       "      <td>USW00093067</td>\n",
       "      <td>DENVER CENTENNIAL AIRPORT, CO US</td>\n",
       "      <td>2012-01-02</td>\n",
       "      <td>6.71</td>\n",
       "      <td>0.0</td>\n",
       "      <td>NaN</td>\n",
       "      <td>NaN</td>\n",
       "      <td>NaN</td>\n",
       "      <td>50.0</td>\n",
       "      <td>16.0</td>\n",
       "      <td>NaN</td>\n",
       "      <td>NaN</td>\n",
       "      <td>NaN</td>\n",
       "      <td>NaN</td>\n",
       "      <td>NaN</td>\n",
       "      <td>NaN</td>\n",
       "      <td>NaN</td>\n",
       "      <td>NaN</td>\n",
       "    </tr>\n",
       "    <tr>\n",
       "      <th>2</th>\n",
       "      <td>USW00093067</td>\n",
       "      <td>DENVER CENTENNIAL AIRPORT, CO US</td>\n",
       "      <td>2012-01-03</td>\n",
       "      <td>6.26</td>\n",
       "      <td>0.0</td>\n",
       "      <td>NaN</td>\n",
       "      <td>NaN</td>\n",
       "      <td>NaN</td>\n",
       "      <td>55.0</td>\n",
       "      <td>31.0</td>\n",
       "      <td>NaN</td>\n",
       "      <td>NaN</td>\n",
       "      <td>NaN</td>\n",
       "      <td>NaN</td>\n",
       "      <td>NaN</td>\n",
       "      <td>NaN</td>\n",
       "      <td>NaN</td>\n",
       "      <td>NaN</td>\n",
       "    </tr>\n",
       "    <tr>\n",
       "      <th>3</th>\n",
       "      <td>USW00093067</td>\n",
       "      <td>DENVER CENTENNIAL AIRPORT, CO US</td>\n",
       "      <td>2012-01-04</td>\n",
       "      <td>6.04</td>\n",
       "      <td>0.0</td>\n",
       "      <td>NaN</td>\n",
       "      <td>NaN</td>\n",
       "      <td>NaN</td>\n",
       "      <td>58.0</td>\n",
       "      <td>27.0</td>\n",
       "      <td>NaN</td>\n",
       "      <td>NaN</td>\n",
       "      <td>NaN</td>\n",
       "      <td>NaN</td>\n",
       "      <td>NaN</td>\n",
       "      <td>NaN</td>\n",
       "      <td>NaN</td>\n",
       "      <td>NaN</td>\n",
       "    </tr>\n",
       "    <tr>\n",
       "      <th>4</th>\n",
       "      <td>USW00093067</td>\n",
       "      <td>DENVER CENTENNIAL AIRPORT, CO US</td>\n",
       "      <td>2012-01-05</td>\n",
       "      <td>4.92</td>\n",
       "      <td>0.0</td>\n",
       "      <td>NaN</td>\n",
       "      <td>NaN</td>\n",
       "      <td>NaN</td>\n",
       "      <td>66.0</td>\n",
       "      <td>35.0</td>\n",
       "      <td>NaN</td>\n",
       "      <td>NaN</td>\n",
       "      <td>NaN</td>\n",
       "      <td>NaN</td>\n",
       "      <td>NaN</td>\n",
       "      <td>NaN</td>\n",
       "      <td>NaN</td>\n",
       "      <td>NaN</td>\n",
       "    </tr>\n",
       "  </tbody>\n",
       "</table>\n",
       "</div>"
      ],
      "text/plain": [
       "       STATION                              NAME        DATE  AWND  PRCP  \\\n",
       "0  USW00093067  DENVER CENTENNIAL AIRPORT, CO US  2012-01-01  6.04   0.0   \n",
       "1  USW00093067  DENVER CENTENNIAL AIRPORT, CO US  2012-01-02  6.71   0.0   \n",
       "2  USW00093067  DENVER CENTENNIAL AIRPORT, CO US  2012-01-03  6.26   0.0   \n",
       "3  USW00093067  DENVER CENTENNIAL AIRPORT, CO US  2012-01-04  6.04   0.0   \n",
       "4  USW00093067  DENVER CENTENNIAL AIRPORT, CO US  2012-01-05  4.92   0.0   \n",
       "\n",
       "   SNOW  SNWD  TAVG  TMAX  TMIN  WT01  WT02  WT03  WT04  WT05  WT06  WT08  \\\n",
       "0   NaN   NaN   NaN  38.0  18.0   NaN   NaN   NaN   NaN   NaN   NaN   NaN   \n",
       "1   NaN   NaN   NaN  50.0  16.0   NaN   NaN   NaN   NaN   NaN   NaN   NaN   \n",
       "2   NaN   NaN   NaN  55.0  31.0   NaN   NaN   NaN   NaN   NaN   NaN   NaN   \n",
       "3   NaN   NaN   NaN  58.0  27.0   NaN   NaN   NaN   NaN   NaN   NaN   NaN   \n",
       "4   NaN   NaN   NaN  66.0  35.0   NaN   NaN   NaN   NaN   NaN   NaN   NaN   \n",
       "\n",
       "   WT09  \n",
       "0   NaN  \n",
       "1   NaN  \n",
       "2   NaN  \n",
       "3   NaN  \n",
       "4   NaN  "
      ]
     },
     "execution_count": 836,
     "metadata": {},
     "output_type": "execute_result"
    }
   ],
   "source": [
    "weather.head()"
   ]
  },
  {
   "cell_type": "markdown",
   "metadata": {},
   "source": [
    "* PRCP :  Precipitation\n",
    "* AWND :  Wind speed\n",
    "* SNOW, SNWD :  Snowfall, Snow depth\n",
    "* TAVG, TAX, TMIN :  Temperature\n",
    "* WT01,WT02, ..., WT09 :  Bad weather conditions \n",
    "  \n",
    "     * 01 = Fog, ice fog, or freezing fog \n",
    "     * 02 = Heavy fog or heaving freezing fog \n",
    "     * 03 = Thunder\n",
    "     * 04 = Ice pellets, sleet, snow pellets, or small hail\n",
    "     * 05 = Hail \n",
    "     * 06 = Glaze or rime\n",
    "     * 08 = Smoke or haze\n",
    "     * 09 = Blowing or drifting snow\n",
    " "
   ]
  },
  {
   "cell_type": "code",
   "execution_count": 837,
   "metadata": {},
   "outputs": [
    {
     "data": {
      "text/plain": [
       "(1826, 18)"
      ]
     },
     "execution_count": 837,
     "metadata": {},
     "output_type": "execute_result"
    }
   ],
   "source": [
    "weather.shape"
   ]
  },
  {
   "cell_type": "code",
   "execution_count": 838,
   "metadata": {},
   "outputs": [
    {
     "data": {
      "text/plain": [
       "STATION       0\n",
       "NAME          0\n",
       "DATE          0\n",
       "AWND          0\n",
       "PRCP          0\n",
       "SNOW       1826\n",
       "SNWD       1826\n",
       "TAVG       1826\n",
       "TMAX          1\n",
       "TMIN          1\n",
       "WT01       1381\n",
       "WT02       1759\n",
       "WT03       1513\n",
       "WT04       1824\n",
       "WT05       1804\n",
       "WT06       1816\n",
       "WT08       1631\n",
       "WT09       1808\n",
       "dtype: int64"
      ]
     },
     "execution_count": 838,
     "metadata": {},
     "output_type": "execute_result"
    }
   ],
   "source": [
    "weather.isna().sum()"
   ]
  },
  {
   "cell_type": "code",
   "execution_count": 839,
   "metadata": {},
   "outputs": [],
   "source": [
    "weather['DATE'] = pd.to_datetime(weather['DATE'])"
   ]
  },
  {
   "cell_type": "code",
   "execution_count": 840,
   "metadata": {},
   "outputs": [],
   "source": [
    "weather.set_index('DATE',inplace=True)"
   ]
  },
  {
   "cell_type": "code",
   "execution_count": 841,
   "metadata": {},
   "outputs": [
    {
     "data": {
      "text/html": [
       "<div>\n",
       "<style scoped>\n",
       "    .dataframe tbody tr th:only-of-type {\n",
       "        vertical-align: middle;\n",
       "    }\n",
       "\n",
       "    .dataframe tbody tr th {\n",
       "        vertical-align: top;\n",
       "    }\n",
       "\n",
       "    .dataframe thead th {\n",
       "        text-align: right;\n",
       "    }\n",
       "</style>\n",
       "<table border=\"1\" class=\"dataframe\">\n",
       "  <thead>\n",
       "    <tr style=\"text-align: right;\">\n",
       "      <th></th>\n",
       "      <th>STATION</th>\n",
       "      <th>NAME</th>\n",
       "      <th>AWND</th>\n",
       "      <th>PRCP</th>\n",
       "      <th>SNOW</th>\n",
       "      <th>SNWD</th>\n",
       "      <th>TAVG</th>\n",
       "      <th>TMAX</th>\n",
       "      <th>TMIN</th>\n",
       "      <th>WT01</th>\n",
       "      <th>WT02</th>\n",
       "      <th>WT03</th>\n",
       "      <th>WT04</th>\n",
       "      <th>WT05</th>\n",
       "      <th>WT06</th>\n",
       "      <th>WT08</th>\n",
       "      <th>WT09</th>\n",
       "    </tr>\n",
       "    <tr>\n",
       "      <th>DATE</th>\n",
       "      <th></th>\n",
       "      <th></th>\n",
       "      <th></th>\n",
       "      <th></th>\n",
       "      <th></th>\n",
       "      <th></th>\n",
       "      <th></th>\n",
       "      <th></th>\n",
       "      <th></th>\n",
       "      <th></th>\n",
       "      <th></th>\n",
       "      <th></th>\n",
       "      <th></th>\n",
       "      <th></th>\n",
       "      <th></th>\n",
       "      <th></th>\n",
       "      <th></th>\n",
       "    </tr>\n",
       "  </thead>\n",
       "  <tbody>\n",
       "    <tr>\n",
       "      <th>2012-01-01</th>\n",
       "      <td>USW00093067</td>\n",
       "      <td>DENVER CENTENNIAL AIRPORT, CO US</td>\n",
       "      <td>6.04</td>\n",
       "      <td>0.0</td>\n",
       "      <td>NaN</td>\n",
       "      <td>NaN</td>\n",
       "      <td>NaN</td>\n",
       "      <td>38.0</td>\n",
       "      <td>18.0</td>\n",
       "      <td>NaN</td>\n",
       "      <td>NaN</td>\n",
       "      <td>NaN</td>\n",
       "      <td>NaN</td>\n",
       "      <td>NaN</td>\n",
       "      <td>NaN</td>\n",
       "      <td>NaN</td>\n",
       "      <td>NaN</td>\n",
       "    </tr>\n",
       "    <tr>\n",
       "      <th>2012-01-02</th>\n",
       "      <td>USW00093067</td>\n",
       "      <td>DENVER CENTENNIAL AIRPORT, CO US</td>\n",
       "      <td>6.71</td>\n",
       "      <td>0.0</td>\n",
       "      <td>NaN</td>\n",
       "      <td>NaN</td>\n",
       "      <td>NaN</td>\n",
       "      <td>50.0</td>\n",
       "      <td>16.0</td>\n",
       "      <td>NaN</td>\n",
       "      <td>NaN</td>\n",
       "      <td>NaN</td>\n",
       "      <td>NaN</td>\n",
       "      <td>NaN</td>\n",
       "      <td>NaN</td>\n",
       "      <td>NaN</td>\n",
       "      <td>NaN</td>\n",
       "    </tr>\n",
       "    <tr>\n",
       "      <th>2012-01-03</th>\n",
       "      <td>USW00093067</td>\n",
       "      <td>DENVER CENTENNIAL AIRPORT, CO US</td>\n",
       "      <td>6.26</td>\n",
       "      <td>0.0</td>\n",
       "      <td>NaN</td>\n",
       "      <td>NaN</td>\n",
       "      <td>NaN</td>\n",
       "      <td>55.0</td>\n",
       "      <td>31.0</td>\n",
       "      <td>NaN</td>\n",
       "      <td>NaN</td>\n",
       "      <td>NaN</td>\n",
       "      <td>NaN</td>\n",
       "      <td>NaN</td>\n",
       "      <td>NaN</td>\n",
       "      <td>NaN</td>\n",
       "      <td>NaN</td>\n",
       "    </tr>\n",
       "    <tr>\n",
       "      <th>2012-01-04</th>\n",
       "      <td>USW00093067</td>\n",
       "      <td>DENVER CENTENNIAL AIRPORT, CO US</td>\n",
       "      <td>6.04</td>\n",
       "      <td>0.0</td>\n",
       "      <td>NaN</td>\n",
       "      <td>NaN</td>\n",
       "      <td>NaN</td>\n",
       "      <td>58.0</td>\n",
       "      <td>27.0</td>\n",
       "      <td>NaN</td>\n",
       "      <td>NaN</td>\n",
       "      <td>NaN</td>\n",
       "      <td>NaN</td>\n",
       "      <td>NaN</td>\n",
       "      <td>NaN</td>\n",
       "      <td>NaN</td>\n",
       "      <td>NaN</td>\n",
       "    </tr>\n",
       "    <tr>\n",
       "      <th>2012-01-05</th>\n",
       "      <td>USW00093067</td>\n",
       "      <td>DENVER CENTENNIAL AIRPORT, CO US</td>\n",
       "      <td>4.92</td>\n",
       "      <td>0.0</td>\n",
       "      <td>NaN</td>\n",
       "      <td>NaN</td>\n",
       "      <td>NaN</td>\n",
       "      <td>66.0</td>\n",
       "      <td>35.0</td>\n",
       "      <td>NaN</td>\n",
       "      <td>NaN</td>\n",
       "      <td>NaN</td>\n",
       "      <td>NaN</td>\n",
       "      <td>NaN</td>\n",
       "      <td>NaN</td>\n",
       "      <td>NaN</td>\n",
       "      <td>NaN</td>\n",
       "    </tr>\n",
       "  </tbody>\n",
       "</table>\n",
       "</div>"
      ],
      "text/plain": [
       "                STATION                              NAME  AWND  PRCP  SNOW  \\\n",
       "DATE                                                                          \n",
       "2012-01-01  USW00093067  DENVER CENTENNIAL AIRPORT, CO US  6.04   0.0   NaN   \n",
       "2012-01-02  USW00093067  DENVER CENTENNIAL AIRPORT, CO US  6.71   0.0   NaN   \n",
       "2012-01-03  USW00093067  DENVER CENTENNIAL AIRPORT, CO US  6.26   0.0   NaN   \n",
       "2012-01-04  USW00093067  DENVER CENTENNIAL AIRPORT, CO US  6.04   0.0   NaN   \n",
       "2012-01-05  USW00093067  DENVER CENTENNIAL AIRPORT, CO US  4.92   0.0   NaN   \n",
       "\n",
       "            SNWD  TAVG  TMAX  TMIN  WT01  WT02  WT03  WT04  WT05  WT06  WT08  \\\n",
       "DATE                                                                           \n",
       "2012-01-01   NaN   NaN  38.0  18.0   NaN   NaN   NaN   NaN   NaN   NaN   NaN   \n",
       "2012-01-02   NaN   NaN  50.0  16.0   NaN   NaN   NaN   NaN   NaN   NaN   NaN   \n",
       "2012-01-03   NaN   NaN  55.0  31.0   NaN   NaN   NaN   NaN   NaN   NaN   NaN   \n",
       "2012-01-04   NaN   NaN  58.0  27.0   NaN   NaN   NaN   NaN   NaN   NaN   NaN   \n",
       "2012-01-05   NaN   NaN  66.0  35.0   NaN   NaN   NaN   NaN   NaN   NaN   NaN   \n",
       "\n",
       "            WT09  \n",
       "DATE              \n",
       "2012-01-01   NaN  \n",
       "2012-01-02   NaN  \n",
       "2012-01-03   NaN  \n",
       "2012-01-04   NaN  \n",
       "2012-01-05   NaN  "
      ]
     },
     "execution_count": 841,
     "metadata": {},
     "output_type": "execute_result"
    }
   ],
   "source": [
    "weather.head()"
   ]
  },
  {
   "cell_type": "markdown",
   "metadata": {},
   "source": [
    "#### Dropping columns 'STATION' , 'NAME', 'SNOW', 'SNOWD'"
   ]
  },
  {
   "cell_type": "code",
   "execution_count": 842,
   "metadata": {},
   "outputs": [
    {
     "data": {
      "text/plain": [
       "USW00093067    1826\n",
       "Name: STATION, dtype: int64"
      ]
     },
     "execution_count": 842,
     "metadata": {},
     "output_type": "execute_result"
    }
   ],
   "source": [
    "weather.STATION.value_counts()"
   ]
  },
  {
   "cell_type": "code",
   "execution_count": 843,
   "metadata": {},
   "outputs": [
    {
     "data": {
      "text/plain": [
       "DENVER CENTENNIAL AIRPORT, CO US    1826\n",
       "Name: NAME, dtype: int64"
      ]
     },
     "execution_count": 843,
     "metadata": {},
     "output_type": "execute_result"
    }
   ],
   "source": [
    "weather.NAME.value_counts()"
   ]
  },
  {
   "cell_type": "markdown",
   "metadata": {},
   "source": [
    "Since columns 'STATION' and 'NAME' have only one value 'USW00093067' and 'CENTENNIAL AIRPORT' each, I will drop those two columns. Columns 'SNOW' and 'SNOWD' only have null values, I will also drop those columns."
   ]
  },
  {
   "cell_type": "code",
   "execution_count": 844,
   "metadata": {},
   "outputs": [],
   "source": [
    "# Drop 'STATION' and 'NAME' columns\n",
    "weather.drop(['STATION','NAME'], axis = 'columns', inplace = True)"
   ]
  },
  {
   "cell_type": "code",
   "execution_count": 845,
   "metadata": {},
   "outputs": [
    {
     "data": {
      "text/plain": [
       "(1826, 15)"
      ]
     },
     "execution_count": 845,
     "metadata": {},
     "output_type": "execute_result"
    }
   ],
   "source": [
    "weather.shape"
   ]
  },
  {
   "cell_type": "code",
   "execution_count": 846,
   "metadata": {},
   "outputs": [],
   "source": [
    "weather.drop(['SNOW','SNWD'], axis = 'columns', inplace = True )"
   ]
  },
  {
   "cell_type": "code",
   "execution_count": 847,
   "metadata": {},
   "outputs": [
    {
     "data": {
      "text/plain": [
       "(1826, 13)"
      ]
     },
     "execution_count": 847,
     "metadata": {},
     "output_type": "execute_result"
    }
   ],
   "source": [
    "weather.shape"
   ]
  },
  {
   "cell_type": "markdown",
   "metadata": {},
   "source": [
    "<p style =  'text-align: justify; '>\n",
    "Columns 'TMAX' and 'TMIN'  have to be filled in because everyday has to have max and min temperature. I will caculate the min and max temperature by using 7 consecutive days excluding the day which has null value. </p>"
   ]
  },
  {
   "cell_type": "code",
   "execution_count": 848,
   "metadata": {},
   "outputs": [
    {
     "data": {
      "text/html": [
       "<div>\n",
       "<style scoped>\n",
       "    .dataframe tbody tr th:only-of-type {\n",
       "        vertical-align: middle;\n",
       "    }\n",
       "\n",
       "    .dataframe tbody tr th {\n",
       "        vertical-align: top;\n",
       "    }\n",
       "\n",
       "    .dataframe thead th {\n",
       "        text-align: right;\n",
       "    }\n",
       "</style>\n",
       "<table border=\"1\" class=\"dataframe\">\n",
       "  <thead>\n",
       "    <tr style=\"text-align: right;\">\n",
       "      <th></th>\n",
       "      <th>AWND</th>\n",
       "      <th>PRCP</th>\n",
       "      <th>TAVG</th>\n",
       "      <th>TMAX</th>\n",
       "      <th>TMIN</th>\n",
       "      <th>WT01</th>\n",
       "      <th>WT02</th>\n",
       "      <th>WT03</th>\n",
       "      <th>WT04</th>\n",
       "      <th>WT05</th>\n",
       "      <th>WT06</th>\n",
       "      <th>WT08</th>\n",
       "      <th>WT09</th>\n",
       "    </tr>\n",
       "    <tr>\n",
       "      <th>DATE</th>\n",
       "      <th></th>\n",
       "      <th></th>\n",
       "      <th></th>\n",
       "      <th></th>\n",
       "      <th></th>\n",
       "      <th></th>\n",
       "      <th></th>\n",
       "      <th></th>\n",
       "      <th></th>\n",
       "      <th></th>\n",
       "      <th></th>\n",
       "      <th></th>\n",
       "      <th></th>\n",
       "    </tr>\n",
       "  </thead>\n",
       "  <tbody>\n",
       "    <tr>\n",
       "      <th>2015-10-02</th>\n",
       "      <td>12.08</td>\n",
       "      <td>0.0</td>\n",
       "      <td>NaN</td>\n",
       "      <td>NaN</td>\n",
       "      <td>NaN</td>\n",
       "      <td>1.0</td>\n",
       "      <td>1.0</td>\n",
       "      <td>NaN</td>\n",
       "      <td>NaN</td>\n",
       "      <td>NaN</td>\n",
       "      <td>NaN</td>\n",
       "      <td>NaN</td>\n",
       "      <td>NaN</td>\n",
       "    </tr>\n",
       "  </tbody>\n",
       "</table>\n",
       "</div>"
      ],
      "text/plain": [
       "             AWND  PRCP  TAVG  TMAX  TMIN  WT01  WT02  WT03  WT04  WT05  WT06  \\\n",
       "DATE                                                                            \n",
       "2015-10-02  12.08   0.0   NaN   NaN   NaN   1.0   1.0   NaN   NaN   NaN   NaN   \n",
       "\n",
       "            WT08  WT09  \n",
       "DATE                    \n",
       "2015-10-02   NaN   NaN  "
      ]
     },
     "execution_count": 848,
     "metadata": {},
     "output_type": "execute_result"
    }
   ],
   "source": [
    "weather[weather['TMIN'].isna()]"
   ]
  },
  {
   "cell_type": "code",
   "execution_count": 849,
   "metadata": {},
   "outputs": [
    {
     "data": {
      "text/html": [
       "<div>\n",
       "<style scoped>\n",
       "    .dataframe tbody tr th:only-of-type {\n",
       "        vertical-align: middle;\n",
       "    }\n",
       "\n",
       "    .dataframe tbody tr th {\n",
       "        vertical-align: top;\n",
       "    }\n",
       "\n",
       "    .dataframe thead th {\n",
       "        text-align: right;\n",
       "    }\n",
       "</style>\n",
       "<table border=\"1\" class=\"dataframe\">\n",
       "  <thead>\n",
       "    <tr style=\"text-align: right;\">\n",
       "      <th></th>\n",
       "      <th>AWND</th>\n",
       "      <th>PRCP</th>\n",
       "      <th>TAVG</th>\n",
       "      <th>TMAX</th>\n",
       "      <th>TMIN</th>\n",
       "      <th>WT01</th>\n",
       "      <th>WT02</th>\n",
       "      <th>WT03</th>\n",
       "      <th>WT04</th>\n",
       "      <th>WT05</th>\n",
       "      <th>WT06</th>\n",
       "      <th>WT08</th>\n",
       "      <th>WT09</th>\n",
       "    </tr>\n",
       "    <tr>\n",
       "      <th>DATE</th>\n",
       "      <th></th>\n",
       "      <th></th>\n",
       "      <th></th>\n",
       "      <th></th>\n",
       "      <th></th>\n",
       "      <th></th>\n",
       "      <th></th>\n",
       "      <th></th>\n",
       "      <th></th>\n",
       "      <th></th>\n",
       "      <th></th>\n",
       "      <th></th>\n",
       "      <th></th>\n",
       "    </tr>\n",
       "  </thead>\n",
       "  <tbody>\n",
       "    <tr>\n",
       "      <th>2015-10-02</th>\n",
       "      <td>12.08</td>\n",
       "      <td>0.0</td>\n",
       "      <td>NaN</td>\n",
       "      <td>NaN</td>\n",
       "      <td>NaN</td>\n",
       "      <td>1.0</td>\n",
       "      <td>1.0</td>\n",
       "      <td>NaN</td>\n",
       "      <td>NaN</td>\n",
       "      <td>NaN</td>\n",
       "      <td>NaN</td>\n",
       "      <td>NaN</td>\n",
       "      <td>NaN</td>\n",
       "    </tr>\n",
       "  </tbody>\n",
       "</table>\n",
       "</div>"
      ],
      "text/plain": [
       "             AWND  PRCP  TAVG  TMAX  TMIN  WT01  WT02  WT03  WT04  WT05  WT06  \\\n",
       "DATE                                                                            \n",
       "2015-10-02  12.08   0.0   NaN   NaN   NaN   1.0   1.0   NaN   NaN   NaN   NaN   \n",
       "\n",
       "            WT08  WT09  \n",
       "DATE                    \n",
       "2015-10-02   NaN   NaN  "
      ]
     },
     "execution_count": 849,
     "metadata": {},
     "output_type": "execute_result"
    }
   ],
   "source": [
    "weather[weather['TMAX'].isna()]"
   ]
  },
  {
   "cell_type": "markdown",
   "metadata": {},
   "source": [
    "Since null values of 'TMAX' and 'TMIN' are in the same row, I will use the same 7 consecutive days to calculate min and max temperatuer on 2015-10-02. (2015-09-29 ~ 2015-10-05) "
   ]
  },
  {
   "cell_type": "code",
   "execution_count": 850,
   "metadata": {},
   "outputs": [
    {
     "data": {
      "text/html": [
       "<div>\n",
       "<style scoped>\n",
       "    .dataframe tbody tr th:only-of-type {\n",
       "        vertical-align: middle;\n",
       "    }\n",
       "\n",
       "    .dataframe tbody tr th {\n",
       "        vertical-align: top;\n",
       "    }\n",
       "\n",
       "    .dataframe thead th {\n",
       "        text-align: right;\n",
       "    }\n",
       "</style>\n",
       "<table border=\"1\" class=\"dataframe\">\n",
       "  <thead>\n",
       "    <tr style=\"text-align: right;\">\n",
       "      <th></th>\n",
       "      <th>AWND</th>\n",
       "      <th>PRCP</th>\n",
       "      <th>TAVG</th>\n",
       "      <th>TMAX</th>\n",
       "      <th>TMIN</th>\n",
       "      <th>WT01</th>\n",
       "      <th>WT02</th>\n",
       "      <th>WT03</th>\n",
       "      <th>WT04</th>\n",
       "      <th>WT05</th>\n",
       "      <th>WT06</th>\n",
       "      <th>WT08</th>\n",
       "      <th>WT09</th>\n",
       "    </tr>\n",
       "    <tr>\n",
       "      <th>DATE</th>\n",
       "      <th></th>\n",
       "      <th></th>\n",
       "      <th></th>\n",
       "      <th></th>\n",
       "      <th></th>\n",
       "      <th></th>\n",
       "      <th></th>\n",
       "      <th></th>\n",
       "      <th></th>\n",
       "      <th></th>\n",
       "      <th></th>\n",
       "      <th></th>\n",
       "      <th></th>\n",
       "    </tr>\n",
       "  </thead>\n",
       "  <tbody>\n",
       "    <tr>\n",
       "      <th>2015-09-29</th>\n",
       "      <td>10.51</td>\n",
       "      <td>0.10</td>\n",
       "      <td>NaN</td>\n",
       "      <td>78.0</td>\n",
       "      <td>53.0</td>\n",
       "      <td>NaN</td>\n",
       "      <td>NaN</td>\n",
       "      <td>1.0</td>\n",
       "      <td>NaN</td>\n",
       "      <td>NaN</td>\n",
       "      <td>NaN</td>\n",
       "      <td>NaN</td>\n",
       "      <td>NaN</td>\n",
       "    </tr>\n",
       "    <tr>\n",
       "      <th>2015-09-30</th>\n",
       "      <td>5.82</td>\n",
       "      <td>0.00</td>\n",
       "      <td>NaN</td>\n",
       "      <td>79.0</td>\n",
       "      <td>55.0</td>\n",
       "      <td>NaN</td>\n",
       "      <td>NaN</td>\n",
       "      <td>NaN</td>\n",
       "      <td>NaN</td>\n",
       "      <td>NaN</td>\n",
       "      <td>NaN</td>\n",
       "      <td>NaN</td>\n",
       "      <td>NaN</td>\n",
       "    </tr>\n",
       "    <tr>\n",
       "      <th>2015-10-01</th>\n",
       "      <td>8.28</td>\n",
       "      <td>0.00</td>\n",
       "      <td>NaN</td>\n",
       "      <td>83.0</td>\n",
       "      <td>55.0</td>\n",
       "      <td>NaN</td>\n",
       "      <td>NaN</td>\n",
       "      <td>NaN</td>\n",
       "      <td>NaN</td>\n",
       "      <td>NaN</td>\n",
       "      <td>NaN</td>\n",
       "      <td>NaN</td>\n",
       "      <td>NaN</td>\n",
       "    </tr>\n",
       "    <tr>\n",
       "      <th>2015-10-02</th>\n",
       "      <td>12.08</td>\n",
       "      <td>0.00</td>\n",
       "      <td>NaN</td>\n",
       "      <td>NaN</td>\n",
       "      <td>NaN</td>\n",
       "      <td>1.0</td>\n",
       "      <td>1.0</td>\n",
       "      <td>NaN</td>\n",
       "      <td>NaN</td>\n",
       "      <td>NaN</td>\n",
       "      <td>NaN</td>\n",
       "      <td>NaN</td>\n",
       "      <td>NaN</td>\n",
       "    </tr>\n",
       "    <tr>\n",
       "      <th>2015-10-03</th>\n",
       "      <td>9.17</td>\n",
       "      <td>0.00</td>\n",
       "      <td>NaN</td>\n",
       "      <td>69.0</td>\n",
       "      <td>49.0</td>\n",
       "      <td>NaN</td>\n",
       "      <td>NaN</td>\n",
       "      <td>1.0</td>\n",
       "      <td>NaN</td>\n",
       "      <td>NaN</td>\n",
       "      <td>NaN</td>\n",
       "      <td>NaN</td>\n",
       "      <td>NaN</td>\n",
       "    </tr>\n",
       "    <tr>\n",
       "      <th>2015-10-04</th>\n",
       "      <td>6.93</td>\n",
       "      <td>0.00</td>\n",
       "      <td>NaN</td>\n",
       "      <td>65.0</td>\n",
       "      <td>46.0</td>\n",
       "      <td>1.0</td>\n",
       "      <td>NaN</td>\n",
       "      <td>1.0</td>\n",
       "      <td>NaN</td>\n",
       "      <td>NaN</td>\n",
       "      <td>NaN</td>\n",
       "      <td>NaN</td>\n",
       "      <td>NaN</td>\n",
       "    </tr>\n",
       "    <tr>\n",
       "      <th>2015-10-05</th>\n",
       "      <td>4.92</td>\n",
       "      <td>0.14</td>\n",
       "      <td>NaN</td>\n",
       "      <td>73.0</td>\n",
       "      <td>43.0</td>\n",
       "      <td>1.0</td>\n",
       "      <td>NaN</td>\n",
       "      <td>1.0</td>\n",
       "      <td>NaN</td>\n",
       "      <td>NaN</td>\n",
       "      <td>NaN</td>\n",
       "      <td>1.0</td>\n",
       "      <td>NaN</td>\n",
       "    </tr>\n",
       "  </tbody>\n",
       "</table>\n",
       "</div>"
      ],
      "text/plain": [
       "             AWND  PRCP  TAVG  TMAX  TMIN  WT01  WT02  WT03  WT04  WT05  WT06  \\\n",
       "DATE                                                                            \n",
       "2015-09-29  10.51  0.10   NaN  78.0  53.0   NaN   NaN   1.0   NaN   NaN   NaN   \n",
       "2015-09-30   5.82  0.00   NaN  79.0  55.0   NaN   NaN   NaN   NaN   NaN   NaN   \n",
       "2015-10-01   8.28  0.00   NaN  83.0  55.0   NaN   NaN   NaN   NaN   NaN   NaN   \n",
       "2015-10-02  12.08  0.00   NaN   NaN   NaN   1.0   1.0   NaN   NaN   NaN   NaN   \n",
       "2015-10-03   9.17  0.00   NaN  69.0  49.0   NaN   NaN   1.0   NaN   NaN   NaN   \n",
       "2015-10-04   6.93  0.00   NaN  65.0  46.0   1.0   NaN   1.0   NaN   NaN   NaN   \n",
       "2015-10-05   4.92  0.14   NaN  73.0  43.0   1.0   NaN   1.0   NaN   NaN   NaN   \n",
       "\n",
       "            WT08  WT09  \n",
       "DATE                    \n",
       "2015-09-29   NaN   NaN  \n",
       "2015-09-30   NaN   NaN  \n",
       "2015-10-01   NaN   NaN  \n",
       "2015-10-02   NaN   NaN  \n",
       "2015-10-03   NaN   NaN  \n",
       "2015-10-04   NaN   NaN  \n",
       "2015-10-05   1.0   NaN  "
      ]
     },
     "execution_count": 850,
     "metadata": {},
     "output_type": "execute_result"
    }
   ],
   "source": [
    "weather.iloc[1366:1373, :]"
   ]
  },
  {
   "cell_type": "code",
   "execution_count": 851,
   "metadata": {},
   "outputs": [],
   "source": [
    "# Get the Pandas Series of max temperature on 2015-09-29 to 2015-10-05\n",
    "max_temp_for_calculation = weather.iloc[1366:1373,4]"
   ]
  },
  {
   "cell_type": "code",
   "execution_count": 852,
   "metadata": {},
   "outputs": [
    {
     "data": {
      "text/plain": [
       "DATE\n",
       "2015-09-29    53.0\n",
       "2015-09-30    55.0\n",
       "2015-10-01    55.0\n",
       "2015-10-02     NaN\n",
       "2015-10-03    49.0\n",
       "2015-10-04    46.0\n",
       "2015-10-05    43.0\n",
       "Name: TMIN, dtype: float64"
      ]
     },
     "execution_count": 852,
     "metadata": {},
     "output_type": "execute_result"
    }
   ],
   "source": [
    "max_temp_for_calculation"
   ]
  },
  {
   "cell_type": "code",
   "execution_count": 853,
   "metadata": {},
   "outputs": [],
   "source": [
    "# Fill in max temperature by mean of 'max_tem_for_calculation' Pandas Series\n",
    "weather.iloc[1369,4] = max_temp_for_calculation.mean(skipna = True)"
   ]
  },
  {
   "cell_type": "code",
   "execution_count": 854,
   "metadata": {},
   "outputs": [],
   "source": [
    "# Get the Pandas Series of min temperature on 2015-09-29 to 2015-10-05\n",
    "min_temp_for_calculation = weather.iloc[1366:1373,5]"
   ]
  },
  {
   "cell_type": "code",
   "execution_count": 855,
   "metadata": {},
   "outputs": [
    {
     "data": {
      "text/plain": [
       "DATE\n",
       "2015-09-29    NaN\n",
       "2015-09-30    NaN\n",
       "2015-10-01    NaN\n",
       "2015-10-02    1.0\n",
       "2015-10-03    NaN\n",
       "2015-10-04    1.0\n",
       "2015-10-05    1.0\n",
       "Name: WT01, dtype: float64"
      ]
     },
     "execution_count": 855,
     "metadata": {},
     "output_type": "execute_result"
    }
   ],
   "source": [
    "# Pandas Series min_tem_for_calculation\n",
    "min_temp_for_calculation"
   ]
  },
  {
   "cell_type": "code",
   "execution_count": 856,
   "metadata": {},
   "outputs": [],
   "source": [
    "# Fill in min temperature by mean of 'min_temp_for_calculation' Pandas Series \n",
    "weather.iloc[1369,5] = min_temp_for_calculation.mean(skipna = True)"
   ]
  },
  {
   "cell_type": "code",
   "execution_count": 857,
   "metadata": {},
   "outputs": [
    {
     "data": {
      "text/html": [
       "<div>\n",
       "<style scoped>\n",
       "    .dataframe tbody tr th:only-of-type {\n",
       "        vertical-align: middle;\n",
       "    }\n",
       "\n",
       "    .dataframe tbody tr th {\n",
       "        vertical-align: top;\n",
       "    }\n",
       "\n",
       "    .dataframe thead th {\n",
       "        text-align: right;\n",
       "    }\n",
       "</style>\n",
       "<table border=\"1\" class=\"dataframe\">\n",
       "  <thead>\n",
       "    <tr style=\"text-align: right;\">\n",
       "      <th></th>\n",
       "      <th>AWND</th>\n",
       "      <th>PRCP</th>\n",
       "      <th>TAVG</th>\n",
       "      <th>TMAX</th>\n",
       "      <th>TMIN</th>\n",
       "      <th>WT01</th>\n",
       "      <th>WT02</th>\n",
       "      <th>WT03</th>\n",
       "      <th>WT04</th>\n",
       "      <th>WT05</th>\n",
       "      <th>WT06</th>\n",
       "      <th>WT08</th>\n",
       "      <th>WT09</th>\n",
       "    </tr>\n",
       "    <tr>\n",
       "      <th>DATE</th>\n",
       "      <th></th>\n",
       "      <th></th>\n",
       "      <th></th>\n",
       "      <th></th>\n",
       "      <th></th>\n",
       "      <th></th>\n",
       "      <th></th>\n",
       "      <th></th>\n",
       "      <th></th>\n",
       "      <th></th>\n",
       "      <th></th>\n",
       "      <th></th>\n",
       "      <th></th>\n",
       "    </tr>\n",
       "  </thead>\n",
       "  <tbody>\n",
       "    <tr>\n",
       "      <th>2015-09-29</th>\n",
       "      <td>10.51</td>\n",
       "      <td>0.10</td>\n",
       "      <td>NaN</td>\n",
       "      <td>78.0</td>\n",
       "      <td>53.000000</td>\n",
       "      <td>NaN</td>\n",
       "      <td>NaN</td>\n",
       "      <td>1.0</td>\n",
       "      <td>NaN</td>\n",
       "      <td>NaN</td>\n",
       "      <td>NaN</td>\n",
       "      <td>NaN</td>\n",
       "      <td>NaN</td>\n",
       "    </tr>\n",
       "    <tr>\n",
       "      <th>2015-09-30</th>\n",
       "      <td>5.82</td>\n",
       "      <td>0.00</td>\n",
       "      <td>NaN</td>\n",
       "      <td>79.0</td>\n",
       "      <td>55.000000</td>\n",
       "      <td>NaN</td>\n",
       "      <td>NaN</td>\n",
       "      <td>NaN</td>\n",
       "      <td>NaN</td>\n",
       "      <td>NaN</td>\n",
       "      <td>NaN</td>\n",
       "      <td>NaN</td>\n",
       "      <td>NaN</td>\n",
       "    </tr>\n",
       "    <tr>\n",
       "      <th>2015-10-01</th>\n",
       "      <td>8.28</td>\n",
       "      <td>0.00</td>\n",
       "      <td>NaN</td>\n",
       "      <td>83.0</td>\n",
       "      <td>55.000000</td>\n",
       "      <td>NaN</td>\n",
       "      <td>NaN</td>\n",
       "      <td>NaN</td>\n",
       "      <td>NaN</td>\n",
       "      <td>NaN</td>\n",
       "      <td>NaN</td>\n",
       "      <td>NaN</td>\n",
       "      <td>NaN</td>\n",
       "    </tr>\n",
       "    <tr>\n",
       "      <th>2015-10-02</th>\n",
       "      <td>12.08</td>\n",
       "      <td>0.00</td>\n",
       "      <td>NaN</td>\n",
       "      <td>NaN</td>\n",
       "      <td>50.166667</td>\n",
       "      <td>1.0</td>\n",
       "      <td>1.0</td>\n",
       "      <td>NaN</td>\n",
       "      <td>NaN</td>\n",
       "      <td>NaN</td>\n",
       "      <td>NaN</td>\n",
       "      <td>NaN</td>\n",
       "      <td>NaN</td>\n",
       "    </tr>\n",
       "    <tr>\n",
       "      <th>2015-10-03</th>\n",
       "      <td>9.17</td>\n",
       "      <td>0.00</td>\n",
       "      <td>NaN</td>\n",
       "      <td>69.0</td>\n",
       "      <td>49.000000</td>\n",
       "      <td>NaN</td>\n",
       "      <td>NaN</td>\n",
       "      <td>1.0</td>\n",
       "      <td>NaN</td>\n",
       "      <td>NaN</td>\n",
       "      <td>NaN</td>\n",
       "      <td>NaN</td>\n",
       "      <td>NaN</td>\n",
       "    </tr>\n",
       "    <tr>\n",
       "      <th>2015-10-04</th>\n",
       "      <td>6.93</td>\n",
       "      <td>0.00</td>\n",
       "      <td>NaN</td>\n",
       "      <td>65.0</td>\n",
       "      <td>46.000000</td>\n",
       "      <td>1.0</td>\n",
       "      <td>NaN</td>\n",
       "      <td>1.0</td>\n",
       "      <td>NaN</td>\n",
       "      <td>NaN</td>\n",
       "      <td>NaN</td>\n",
       "      <td>NaN</td>\n",
       "      <td>NaN</td>\n",
       "    </tr>\n",
       "    <tr>\n",
       "      <th>2015-10-05</th>\n",
       "      <td>4.92</td>\n",
       "      <td>0.14</td>\n",
       "      <td>NaN</td>\n",
       "      <td>73.0</td>\n",
       "      <td>43.000000</td>\n",
       "      <td>1.0</td>\n",
       "      <td>NaN</td>\n",
       "      <td>1.0</td>\n",
       "      <td>NaN</td>\n",
       "      <td>NaN</td>\n",
       "      <td>NaN</td>\n",
       "      <td>1.0</td>\n",
       "      <td>NaN</td>\n",
       "    </tr>\n",
       "  </tbody>\n",
       "</table>\n",
       "</div>"
      ],
      "text/plain": [
       "             AWND  PRCP  TAVG  TMAX       TMIN  WT01  WT02  WT03  WT04  WT05  \\\n",
       "DATE                                                                           \n",
       "2015-09-29  10.51  0.10   NaN  78.0  53.000000   NaN   NaN   1.0   NaN   NaN   \n",
       "2015-09-30   5.82  0.00   NaN  79.0  55.000000   NaN   NaN   NaN   NaN   NaN   \n",
       "2015-10-01   8.28  0.00   NaN  83.0  55.000000   NaN   NaN   NaN   NaN   NaN   \n",
       "2015-10-02  12.08  0.00   NaN   NaN  50.166667   1.0   1.0   NaN   NaN   NaN   \n",
       "2015-10-03   9.17  0.00   NaN  69.0  49.000000   NaN   NaN   1.0   NaN   NaN   \n",
       "2015-10-04   6.93  0.00   NaN  65.0  46.000000   1.0   NaN   1.0   NaN   NaN   \n",
       "2015-10-05   4.92  0.14   NaN  73.0  43.000000   1.0   NaN   1.0   NaN   NaN   \n",
       "\n",
       "            WT06  WT08  WT09  \n",
       "DATE                          \n",
       "2015-09-29   NaN   NaN   NaN  \n",
       "2015-09-30   NaN   NaN   NaN  \n",
       "2015-10-01   NaN   NaN   NaN  \n",
       "2015-10-02   NaN   NaN   NaN  \n",
       "2015-10-03   NaN   NaN   NaN  \n",
       "2015-10-04   NaN   NaN   NaN  \n",
       "2015-10-05   NaN   1.0   NaN  "
      ]
     },
     "execution_count": 857,
     "metadata": {},
     "output_type": "execute_result"
    }
   ],
   "source": [
    "weather.iloc[1366:1373,:]"
   ]
  },
  {
   "cell_type": "markdown",
   "metadata": {},
   "source": [
    "'TMAX' and 'TMIN' on 2015-10-12 are filled in now."
   ]
  },
  {
   "cell_type": "markdown",
   "metadata": {},
   "source": [
    "#### Filliing in average temperature 'TAVG'\n",
    "I will calculate the values of average temperature ('TAVG') column by calculating the mean of min and max temperature."
   ]
  },
  {
   "cell_type": "code",
   "execution_count": 858,
   "metadata": {},
   "outputs": [],
   "source": [
    "weather['TAVG'] = weather[['TMAX','TMIN']].mean(axis=1)"
   ]
  },
  {
   "cell_type": "code",
   "execution_count": 859,
   "metadata": {},
   "outputs": [
    {
     "data": {
      "image/png": "[encoded data removed]",
      "text/plain": [
       "<Figure size 432x288 with 1 Axes>"
      ]
     },
     "metadata": {
      "needs_background": "light"
     },
     "output_type": "display_data"
    }
   ],
   "source": [
    "weather.TAVG.plot()\n",
    "plt.ylabel('Fahrenheit')\n",
    "plt.show()"
   ]
  },
  {
   "cell_type": "code",
   "execution_count": 860,
   "metadata": {},
   "outputs": [
    {
     "data": {
      "text/html": [
       "<div>\n",
       "<style scoped>\n",
       "    .dataframe tbody tr th:only-of-type {\n",
       "        vertical-align: middle;\n",
       "    }\n",
       "\n",
       "    .dataframe tbody tr th {\n",
       "        vertical-align: top;\n",
       "    }\n",
       "\n",
       "    .dataframe thead th {\n",
       "        text-align: right;\n",
       "    }\n",
       "</style>\n",
       "<table border=\"1\" class=\"dataframe\">\n",
       "  <thead>\n",
       "    <tr style=\"text-align: right;\">\n",
       "      <th></th>\n",
       "      <th>AWND</th>\n",
       "      <th>PRCP</th>\n",
       "      <th>TAVG</th>\n",
       "      <th>TMAX</th>\n",
       "      <th>TMIN</th>\n",
       "      <th>WT01</th>\n",
       "      <th>WT02</th>\n",
       "      <th>WT03</th>\n",
       "      <th>WT04</th>\n",
       "      <th>WT05</th>\n",
       "      <th>WT06</th>\n",
       "      <th>WT08</th>\n",
       "      <th>WT09</th>\n",
       "    </tr>\n",
       "    <tr>\n",
       "      <th>DATE</th>\n",
       "      <th></th>\n",
       "      <th></th>\n",
       "      <th></th>\n",
       "      <th></th>\n",
       "      <th></th>\n",
       "      <th></th>\n",
       "      <th></th>\n",
       "      <th></th>\n",
       "      <th></th>\n",
       "      <th></th>\n",
       "      <th></th>\n",
       "      <th></th>\n",
       "      <th></th>\n",
       "    </tr>\n",
       "  </thead>\n",
       "  <tbody>\n",
       "    <tr>\n",
       "      <th>2012-01-01</th>\n",
       "      <td>6.04</td>\n",
       "      <td>0.0</td>\n",
       "      <td>28.0</td>\n",
       "      <td>38.0</td>\n",
       "      <td>18.0</td>\n",
       "      <td>NaN</td>\n",
       "      <td>NaN</td>\n",
       "      <td>NaN</td>\n",
       "      <td>NaN</td>\n",
       "      <td>NaN</td>\n",
       "      <td>NaN</td>\n",
       "      <td>NaN</td>\n",
       "      <td>NaN</td>\n",
       "    </tr>\n",
       "    <tr>\n",
       "      <th>2012-01-02</th>\n",
       "      <td>6.71</td>\n",
       "      <td>0.0</td>\n",
       "      <td>33.0</td>\n",
       "      <td>50.0</td>\n",
       "      <td>16.0</td>\n",
       "      <td>NaN</td>\n",
       "      <td>NaN</td>\n",
       "      <td>NaN</td>\n",
       "      <td>NaN</td>\n",
       "      <td>NaN</td>\n",
       "      <td>NaN</td>\n",
       "      <td>NaN</td>\n",
       "      <td>NaN</td>\n",
       "    </tr>\n",
       "    <tr>\n",
       "      <th>2012-01-03</th>\n",
       "      <td>6.26</td>\n",
       "      <td>0.0</td>\n",
       "      <td>43.0</td>\n",
       "      <td>55.0</td>\n",
       "      <td>31.0</td>\n",
       "      <td>NaN</td>\n",
       "      <td>NaN</td>\n",
       "      <td>NaN</td>\n",
       "      <td>NaN</td>\n",
       "      <td>NaN</td>\n",
       "      <td>NaN</td>\n",
       "      <td>NaN</td>\n",
       "      <td>NaN</td>\n",
       "    </tr>\n",
       "    <tr>\n",
       "      <th>2012-01-04</th>\n",
       "      <td>6.04</td>\n",
       "      <td>0.0</td>\n",
       "      <td>42.5</td>\n",
       "      <td>58.0</td>\n",
       "      <td>27.0</td>\n",
       "      <td>NaN</td>\n",
       "      <td>NaN</td>\n",
       "      <td>NaN</td>\n",
       "      <td>NaN</td>\n",
       "      <td>NaN</td>\n",
       "      <td>NaN</td>\n",
       "      <td>NaN</td>\n",
       "      <td>NaN</td>\n",
       "    </tr>\n",
       "    <tr>\n",
       "      <th>2012-01-05</th>\n",
       "      <td>4.92</td>\n",
       "      <td>0.0</td>\n",
       "      <td>50.5</td>\n",
       "      <td>66.0</td>\n",
       "      <td>35.0</td>\n",
       "      <td>NaN</td>\n",
       "      <td>NaN</td>\n",
       "      <td>NaN</td>\n",
       "      <td>NaN</td>\n",
       "      <td>NaN</td>\n",
       "      <td>NaN</td>\n",
       "      <td>NaN</td>\n",
       "      <td>NaN</td>\n",
       "    </tr>\n",
       "  </tbody>\n",
       "</table>\n",
       "</div>"
      ],
      "text/plain": [
       "            AWND  PRCP  TAVG  TMAX  TMIN  WT01  WT02  WT03  WT04  WT05  WT06  \\\n",
       "DATE                                                                           \n",
       "2012-01-01  6.04   0.0  28.0  38.0  18.0   NaN   NaN   NaN   NaN   NaN   NaN   \n",
       "2012-01-02  6.71   0.0  33.0  50.0  16.0   NaN   NaN   NaN   NaN   NaN   NaN   \n",
       "2012-01-03  6.26   0.0  43.0  55.0  31.0   NaN   NaN   NaN   NaN   NaN   NaN   \n",
       "2012-01-04  6.04   0.0  42.5  58.0  27.0   NaN   NaN   NaN   NaN   NaN   NaN   \n",
       "2012-01-05  4.92   0.0  50.5  66.0  35.0   NaN   NaN   NaN   NaN   NaN   NaN   \n",
       "\n",
       "            WT08  WT09  \n",
       "DATE                    \n",
       "2012-01-01   NaN   NaN  \n",
       "2012-01-02   NaN   NaN  \n",
       "2012-01-03   NaN   NaN  \n",
       "2012-01-04   NaN   NaN  \n",
       "2012-01-05   NaN   NaN  "
      ]
     },
     "execution_count": 860,
     "metadata": {},
     "output_type": "execute_result"
    }
   ],
   "source": [
    "weather.head()"
   ]
  },
  {
   "cell_type": "code",
   "execution_count": 861,
   "metadata": {},
   "outputs": [
    {
     "data": {
      "text/plain": [
       "AWND       0\n",
       "PRCP       0\n",
       "TAVG       0\n",
       "TMAX       1\n",
       "TMIN       0\n",
       "WT01    1381\n",
       "WT02    1759\n",
       "WT03    1513\n",
       "WT04    1824\n",
       "WT05    1804\n",
       "WT06    1816\n",
       "WT08    1631\n",
       "WT09    1808\n",
       "dtype: int64"
      ]
     },
     "execution_count": 861,
     "metadata": {},
     "output_type": "execute_result"
    }
   ],
   "source": [
    "weather.isna().sum()"
   ]
  },
  {
   "cell_type": "markdown",
   "metadata": {},
   "source": [
    "### Examing wind speed\n",
    "Explore the wind data to check for reliability."
   ]
  },
  {
   "cell_type": "code",
   "execution_count": 862,
   "metadata": {},
   "outputs": [
    {
     "data": {
      "text/plain": [
       "DATE\n",
       "2012-01-01    6.04\n",
       "2012-01-02    6.71\n",
       "2012-01-03    6.26\n",
       "2012-01-04    6.04\n",
       "2012-01-05    4.92\n",
       "Name: AWND, dtype: float64"
      ]
     },
     "execution_count": 862,
     "metadata": {},
     "output_type": "execute_result"
    }
   ],
   "source": [
    "weather['AWND'].head()"
   ]
  },
  {
   "cell_type": "code",
   "execution_count": 863,
   "metadata": {},
   "outputs": [
    {
     "name": "stdout",
     "output_type": "stream",
     "text": [
      "count    1826.000000\n",
      "mean        7.847306\n",
      "std         2.735757\n",
      "min         0.670000\n",
      "25%         6.040000\n",
      "50%         7.380000\n",
      "75%         9.170000\n",
      "max        22.820000\n",
      "Name: AWND, dtype: float64\n"
     ]
    }
   ],
   "source": [
    "print(weather['AWND'].describe())"
   ]
  },
  {
   "cell_type": "markdown",
   "metadata": {},
   "source": [
    "Minimum value is above zero, and average value is greter than min and less than max. Also, the numbers are reasonable miles per hour value."
   ]
  },
  {
   "cell_type": "markdown",
   "metadata": {},
   "source": [
    "#### Creating a box plot"
   ]
  },
  {
   "cell_type": "code",
   "execution_count": 864,
   "metadata": {},
   "outputs": [
    {
     "data": {
      "image/png": "[encoded data removed]",
      "text/plain": [
       "<Figure size 432x288 with 1 Axes>"
      ]
     },
     "metadata": {
      "needs_background": "light"
     },
     "output_type": "display_data"
    }
   ],
   "source": [
    "weather['AWND'].plot(kind='box')\n",
    "plt.ylabel('mile / h')\n",
    "plt.xlabel('(wind speed)')\n",
    "plt.show()"
   ]
  },
  {
   "cell_type": "code",
   "execution_count": 865,
   "metadata": {},
   "outputs": [
    {
     "data": {
      "image/png": "[encoded data removed]",
      "text/plain": [
       "<Figure size 432x288 with 1 Axes>"
      ]
     },
     "metadata": {
      "needs_background": "light"
     },
     "output_type": "display_data"
    }
   ],
   "source": [
    "weather['AWND'].plot(kind = 'hist', bins=30)\n",
    "plt.xlabel('mile / hour')\n",
    "plt.show()"
   ]
  },
  {
   "cell_type": "markdown",
   "metadata": {},
   "source": [
    "### Examing temperature\n",
    "Explore the temperature data to check for reliability. Temperature is measured in degrees Fahrenheit."
   ]
  },
  {
   "cell_type": "code",
   "execution_count": 866,
   "metadata": {},
   "outputs": [
    {
     "name": "stdout",
     "output_type": "stream",
     "text": [
      "            TAVG  TMAX  TMIN\n",
      "DATE                        \n",
      "2012-01-01  28.0  38.0  18.0\n",
      "2012-01-02  33.0  50.0  16.0\n",
      "2012-01-03  43.0  55.0  31.0\n",
      "2012-01-04  42.5  58.0  27.0\n",
      "2012-01-05  50.5  66.0  35.0\n"
     ]
    }
   ],
   "source": [
    "print(weather[['TAVG','TMAX','TMIN']].head())"
   ]
  },
  {
   "cell_type": "code",
   "execution_count": 867,
   "metadata": {},
   "outputs": [],
   "source": [
    "# Create data frame 'weather_temp' only contains temperature data.\n",
    "weather_temp = weather[['TAVG','TMAX', 'TMIN']]"
   ]
  },
  {
   "cell_type": "code",
   "execution_count": 868,
   "metadata": {},
   "outputs": [
    {
     "data": {
      "text/html": [
       "<div>\n",
       "<style scoped>\n",
       "    .dataframe tbody tr th:only-of-type {\n",
       "        vertical-align: middle;\n",
       "    }\n",
       "\n",
       "    .dataframe tbody tr th {\n",
       "        vertical-align: top;\n",
       "    }\n",
       "\n",
       "    .dataframe thead th {\n",
       "        text-align: right;\n",
       "    }\n",
       "</style>\n",
       "<table border=\"1\" class=\"dataframe\">\n",
       "  <thead>\n",
       "    <tr style=\"text-align: right;\">\n",
       "      <th></th>\n",
       "      <th>TAVG</th>\n",
       "      <th>TMAX</th>\n",
       "      <th>TMIN</th>\n",
       "    </tr>\n",
       "    <tr>\n",
       "      <th>DATE</th>\n",
       "      <th></th>\n",
       "      <th></th>\n",
       "      <th></th>\n",
       "    </tr>\n",
       "  </thead>\n",
       "  <tbody>\n",
       "    <tr>\n",
       "      <th>2012-01-01</th>\n",
       "      <td>28.0</td>\n",
       "      <td>38.0</td>\n",
       "      <td>18.0</td>\n",
       "    </tr>\n",
       "    <tr>\n",
       "      <th>2012-01-02</th>\n",
       "      <td>33.0</td>\n",
       "      <td>50.0</td>\n",
       "      <td>16.0</td>\n",
       "    </tr>\n",
       "    <tr>\n",
       "      <th>2012-01-03</th>\n",
       "      <td>43.0</td>\n",
       "      <td>55.0</td>\n",
       "      <td>31.0</td>\n",
       "    </tr>\n",
       "    <tr>\n",
       "      <th>2012-01-04</th>\n",
       "      <td>42.5</td>\n",
       "      <td>58.0</td>\n",
       "      <td>27.0</td>\n",
       "    </tr>\n",
       "    <tr>\n",
       "      <th>2012-01-05</th>\n",
       "      <td>50.5</td>\n",
       "      <td>66.0</td>\n",
       "      <td>35.0</td>\n",
       "    </tr>\n",
       "  </tbody>\n",
       "</table>\n",
       "</div>"
      ],
      "text/plain": [
       "            TAVG  TMAX  TMIN\n",
       "DATE                        \n",
       "2012-01-01  28.0  38.0  18.0\n",
       "2012-01-02  33.0  50.0  16.0\n",
       "2012-01-03  43.0  55.0  31.0\n",
       "2012-01-04  42.5  58.0  27.0\n",
       "2012-01-05  50.5  66.0  35.0"
      ]
     },
     "execution_count": 868,
     "metadata": {},
     "output_type": "execute_result"
    }
   ],
   "source": [
    "weather_temp.head()"
   ]
  },
  {
   "cell_type": "code",
   "execution_count": 869,
   "metadata": {},
   "outputs": [
    {
     "data": {
      "text/plain": [
       "(1826, 3)"
      ]
     },
     "execution_count": 869,
     "metadata": {},
     "output_type": "execute_result"
    }
   ],
   "source": [
    "weather_temp.shape"
   ]
  },
  {
   "cell_type": "code",
   "execution_count": 870,
   "metadata": {},
   "outputs": [
    {
     "name": "stdout",
     "output_type": "stream",
     "text": [
      "              TAVG         TMAX         TMIN\n",
      "count  1826.000000  1825.000000  1826.000000\n",
      "mean     50.923969    64.482740    37.373038\n",
      "std      17.796639    19.339841    17.032978\n",
      "min      -7.500000     0.000000   -17.000000\n",
      "25%      38.000000    51.000000    25.000000\n",
      "50%      51.500000    66.000000    37.000000\n",
      "75%      66.500000    81.000000    53.000000\n",
      "max      82.000000   100.000000    67.000000\n"
     ]
    }
   ],
   "source": [
    "print(weather[['TAVG','TMAX','TMIN']].describe())"
   ]
  },
  {
   "cell_type": "code",
   "execution_count": 871,
   "metadata": {},
   "outputs": [
    {
     "data": {
      "image/png": "[encoded data removed]",
      "text/plain": [
       "<Figure size 432x288 with 1 Axes>"
      ]
     },
     "metadata": {
      "needs_background": "light"
     },
     "output_type": "display_data"
    }
   ],
   "source": [
    "weather[['TAVG', 'TMAX', 'TMIN']].plot(kind = 'box')\n",
    "plt.ylabel('Fahrenheit')\n",
    "plt.show()"
   ]
  },
  {
   "cell_type": "markdown",
   "metadata": {},
   "source": [
    "### Counting bad weather conditions\n",
    "The weather dataframe contains 8 columns that start with 'WT'. Each of those represents a bad weather condition. For example, \"WT05\" indicates \"Hail\" and \"WT09\" indicates \"Blowing or Drifting Snow\". For every row in the dataset, each WT column contains either 1 or NaN meaning the weather condition is not obsereved. I will quantify \"how bad\" the weather was each day by summing the number of 1s in each row."
   ]
  },
  {
   "cell_type": "code",
   "execution_count": 872,
   "metadata": {},
   "outputs": [],
   "source": [
    "# New dataframe 'WT' contains only weather conditions\n",
    "WT = weather.loc[:,'WT01':'WT09']"
   ]
  },
  {
   "cell_type": "code",
   "execution_count": 873,
   "metadata": {},
   "outputs": [
    {
     "data": {
      "text/plain": [
       "WT01    1826\n",
       "WT02    1826\n",
       "WT03    1826\n",
       "WT04    1826\n",
       "WT05    1826\n",
       "WT06    1826\n",
       "WT08    1826\n",
       "WT09    1826\n",
       "dtype: int64"
      ]
     },
     "execution_count": 873,
     "metadata": {},
     "output_type": "execute_result"
    }
   ],
   "source": [
    "WT.isna().count()"
   ]
  },
  {
   "cell_type": "code",
   "execution_count": 874,
   "metadata": {},
   "outputs": [],
   "source": [
    "# Replace the missing values with 0.\n",
    "WT = WT.fillna(0).astype('int')"
   ]
  },
  {
   "cell_type": "code",
   "execution_count": 875,
   "metadata": {},
   "outputs": [],
   "source": [
    "# Calculate the total number of 1s in each row.\n",
    "weather['bad_weather'] = WT.sum(axis = 1)"
   ]
  },
  {
   "cell_type": "code",
   "execution_count": 876,
   "metadata": {},
   "outputs": [
    {
     "data": {
      "text/plain": [
       "DATE\n",
       "2012-01-01    0\n",
       "2012-01-02    0\n",
       "2012-01-03    0\n",
       "2012-01-04    0\n",
       "2012-01-05    0\n",
       "2012-01-06    0\n",
       "2012-01-07    2\n",
       "2012-01-08    0\n",
       "2012-01-09    0\n",
       "2012-01-10    0\n",
       "Name: bad_weather, dtype: int64"
      ]
     },
     "execution_count": 876,
     "metadata": {},
     "output_type": "execute_result"
    }
   ],
   "source": [
    "weather['bad_weather'].head(10)"
   ]
  },
  {
   "cell_type": "code",
   "execution_count": 877,
   "metadata": {},
   "outputs": [
    {
     "data": {
      "image/png": "[encoded data removed]",
      "text/plain": [
       "<Figure size 432x288 with 1 Axes>"
      ]
     },
     "metadata": {
      "needs_background": "light"
     },
     "output_type": "display_data"
    }
   ],
   "source": [
    "# Create a histogram to visulize\n",
    "weather.bad_weather.plot(kind = 'hist')\n",
    "plt.xlabel('Weather condition    0:Good, 1-2:Bad, 3-4:Worse')\n",
    "plt.show()"
   ]
  },
  {
   "cell_type": "markdown",
   "metadata": {},
   "source": [
    "It looks like many days did not have any bad weather conditions and only a small portion of days had more than two bad weather conditions."
   ]
  },
  {
   "cell_type": "markdown",
   "metadata": {},
   "source": [
    "### Rating the weather conditions\n",
    "I used the counts to create rating system for bad weather. I counted the unique values in the bad_weather column and sort the index and create a dictioinary called 'mapping' that maps the bad_weather integers to strings. Then I converted the bad_weather integers to strings by using the 'mapping' dictionary and stored the results in the new column called 'rating'."
   ]
  },
  {
   "cell_type": "markdown",
   "metadata": {},
   "source": [
    "* Convert 0 to 'Good'\n",
    "* Convert 1 through 2 to 'Bad'\n",
    "* Convert 3 through 4 to 'Worse'"
   ]
  },
  {
   "cell_type": "code",
   "execution_count": 878,
   "metadata": {},
   "outputs": [
    {
     "data": {
      "text/plain": [
       "0    1118\n",
       "1     420\n",
       "2     220\n",
       "3      61\n",
       "4       6\n",
       "5       1\n",
       "Name: bad_weather, dtype: int64"
      ]
     },
     "execution_count": 878,
     "metadata": {},
     "output_type": "execute_result"
    }
   ],
   "source": [
    "weather.bad_weather.value_counts().sort_index()"
   ]
  },
  {
   "cell_type": "code",
   "execution_count": 879,
   "metadata": {},
   "outputs": [],
   "source": [
    "# Create a dictionary that maps integers to string\n",
    "mapping = {0:'Good', 1:'Bad', 2:'Bad', 3: 'Worse', 4: 'Worse'}"
   ]
  },
  {
   "cell_type": "code",
   "execution_count": 880,
   "metadata": {},
   "outputs": [],
   "source": [
    "# Convert the 'bad_weather' integers to string using 'mapping'\n",
    "weather['weather_rating'] = weather.bad_weather.map(mapping).astype('str')"
   ]
  },
  {
   "cell_type": "code",
   "execution_count": 881,
   "metadata": {},
   "outputs": [
    {
     "data": {
      "text/plain": [
       "DATE\n",
       "2012-01-01    Good\n",
       "2012-01-02    Good\n",
       "2012-01-03    Good\n",
       "2012-01-04    Good\n",
       "2012-01-05    Good\n",
       "Name: weather_rating, dtype: object"
      ]
     },
     "execution_count": 881,
     "metadata": {},
     "output_type": "execute_result"
    }
   ],
   "source": [
    "weather['weather_rating'].head()"
   ]
  },
  {
   "cell_type": "code",
   "execution_count": 882,
   "metadata": {},
   "outputs": [
    {
     "data": {
      "text/plain": [
       "Good     1118\n",
       "Bad       640\n",
       "Worse      67\n",
       "nan         1\n",
       "Name: weather_rating, dtype: int64"
      ]
     },
     "execution_count": 882,
     "metadata": {},
     "output_type": "execute_result"
    }
   ],
   "source": [
    "weather['weather_rating'].value_counts()"
   ]
  },
  {
   "cell_type": "markdown",
   "metadata": {},
   "source": [
    "#### Changing the data type to category\n",
    "There is a few poosible values, so for efficiency, I changed the data type to category and gave it a logical order."
   ]
  },
  {
   "cell_type": "code",
   "execution_count": 883,
   "metadata": {},
   "outputs": [],
   "source": [
    "cats = ['Good', 'Bad', 'Worse']"
   ]
  },
  {
   "cell_type": "code",
   "execution_count": 884,
   "metadata": {},
   "outputs": [],
   "source": [
    "# Change the data type of 'rating' to category\n",
    "weather['weather_rating'] = weather.weather_rating.astype(pd.api.types.CategoricalDtype(ordered = True, categories = cats))\n"
   ]
  },
  {
   "cell_type": "code",
   "execution_count": 885,
   "metadata": {},
   "outputs": [
    {
     "data": {
      "text/html": [
       "<div>\n",
       "<style scoped>\n",
       "    .dataframe tbody tr th:only-of-type {\n",
       "        vertical-align: middle;\n",
       "    }\n",
       "\n",
       "    .dataframe tbody tr th {\n",
       "        vertical-align: top;\n",
       "    }\n",
       "\n",
       "    .dataframe thead th {\n",
       "        text-align: right;\n",
       "    }\n",
       "</style>\n",
       "<table border=\"1\" class=\"dataframe\">\n",
       "  <thead>\n",
       "    <tr style=\"text-align: right;\">\n",
       "      <th></th>\n",
       "      <th>AWND</th>\n",
       "      <th>PRCP</th>\n",
       "      <th>TAVG</th>\n",
       "      <th>TMAX</th>\n",
       "      <th>TMIN</th>\n",
       "      <th>WT01</th>\n",
       "      <th>WT02</th>\n",
       "      <th>WT03</th>\n",
       "      <th>WT04</th>\n",
       "      <th>WT05</th>\n",
       "      <th>WT06</th>\n",
       "      <th>WT08</th>\n",
       "      <th>WT09</th>\n",
       "      <th>bad_weather</th>\n",
       "      <th>weather_rating</th>\n",
       "    </tr>\n",
       "    <tr>\n",
       "      <th>DATE</th>\n",
       "      <th></th>\n",
       "      <th></th>\n",
       "      <th></th>\n",
       "      <th></th>\n",
       "      <th></th>\n",
       "      <th></th>\n",
       "      <th></th>\n",
       "      <th></th>\n",
       "      <th></th>\n",
       "      <th></th>\n",
       "      <th></th>\n",
       "      <th></th>\n",
       "      <th></th>\n",
       "      <th></th>\n",
       "      <th></th>\n",
       "    </tr>\n",
       "  </thead>\n",
       "  <tbody>\n",
       "    <tr>\n",
       "      <th>2012-01-01</th>\n",
       "      <td>6.04</td>\n",
       "      <td>0.0</td>\n",
       "      <td>28.0</td>\n",
       "      <td>38.0</td>\n",
       "      <td>18.0</td>\n",
       "      <td>NaN</td>\n",
       "      <td>NaN</td>\n",
       "      <td>NaN</td>\n",
       "      <td>NaN</td>\n",
       "      <td>NaN</td>\n",
       "      <td>NaN</td>\n",
       "      <td>NaN</td>\n",
       "      <td>NaN</td>\n",
       "      <td>0</td>\n",
       "      <td>Good</td>\n",
       "    </tr>\n",
       "    <tr>\n",
       "      <th>2012-01-02</th>\n",
       "      <td>6.71</td>\n",
       "      <td>0.0</td>\n",
       "      <td>33.0</td>\n",
       "      <td>50.0</td>\n",
       "      <td>16.0</td>\n",
       "      <td>NaN</td>\n",
       "      <td>NaN</td>\n",
       "      <td>NaN</td>\n",
       "      <td>NaN</td>\n",
       "      <td>NaN</td>\n",
       "      <td>NaN</td>\n",
       "      <td>NaN</td>\n",
       "      <td>NaN</td>\n",
       "      <td>0</td>\n",
       "      <td>Good</td>\n",
       "    </tr>\n",
       "    <tr>\n",
       "      <th>2012-01-03</th>\n",
       "      <td>6.26</td>\n",
       "      <td>0.0</td>\n",
       "      <td>43.0</td>\n",
       "      <td>55.0</td>\n",
       "      <td>31.0</td>\n",
       "      <td>NaN</td>\n",
       "      <td>NaN</td>\n",
       "      <td>NaN</td>\n",
       "      <td>NaN</td>\n",
       "      <td>NaN</td>\n",
       "      <td>NaN</td>\n",
       "      <td>NaN</td>\n",
       "      <td>NaN</td>\n",
       "      <td>0</td>\n",
       "      <td>Good</td>\n",
       "    </tr>\n",
       "    <tr>\n",
       "      <th>2012-01-04</th>\n",
       "      <td>6.04</td>\n",
       "      <td>0.0</td>\n",
       "      <td>42.5</td>\n",
       "      <td>58.0</td>\n",
       "      <td>27.0</td>\n",
       "      <td>NaN</td>\n",
       "      <td>NaN</td>\n",
       "      <td>NaN</td>\n",
       "      <td>NaN</td>\n",
       "      <td>NaN</td>\n",
       "      <td>NaN</td>\n",
       "      <td>NaN</td>\n",
       "      <td>NaN</td>\n",
       "      <td>0</td>\n",
       "      <td>Good</td>\n",
       "    </tr>\n",
       "    <tr>\n",
       "      <th>2012-01-05</th>\n",
       "      <td>4.92</td>\n",
       "      <td>0.0</td>\n",
       "      <td>50.5</td>\n",
       "      <td>66.0</td>\n",
       "      <td>35.0</td>\n",
       "      <td>NaN</td>\n",
       "      <td>NaN</td>\n",
       "      <td>NaN</td>\n",
       "      <td>NaN</td>\n",
       "      <td>NaN</td>\n",
       "      <td>NaN</td>\n",
       "      <td>NaN</td>\n",
       "      <td>NaN</td>\n",
       "      <td>0</td>\n",
       "      <td>Good</td>\n",
       "    </tr>\n",
       "  </tbody>\n",
       "</table>\n",
       "</div>"
      ],
      "text/plain": [
       "            AWND  PRCP  TAVG  TMAX  TMIN  WT01  WT02  WT03  WT04  WT05  WT06  \\\n",
       "DATE                                                                           \n",
       "2012-01-01  6.04   0.0  28.0  38.0  18.0   NaN   NaN   NaN   NaN   NaN   NaN   \n",
       "2012-01-02  6.71   0.0  33.0  50.0  16.0   NaN   NaN   NaN   NaN   NaN   NaN   \n",
       "2012-01-03  6.26   0.0  43.0  55.0  31.0   NaN   NaN   NaN   NaN   NaN   NaN   \n",
       "2012-01-04  6.04   0.0  42.5  58.0  27.0   NaN   NaN   NaN   NaN   NaN   NaN   \n",
       "2012-01-05  4.92   0.0  50.5  66.0  35.0   NaN   NaN   NaN   NaN   NaN   NaN   \n",
       "\n",
       "            WT08  WT09  bad_weather weather_rating  \n",
       "DATE                                                \n",
       "2012-01-01   NaN   NaN            0           Good  \n",
       "2012-01-02   NaN   NaN            0           Good  \n",
       "2012-01-03   NaN   NaN            0           Good  \n",
       "2012-01-04   NaN   NaN            0           Good  \n",
       "2012-01-05   NaN   NaN            0           Good  "
      ]
     },
     "execution_count": 885,
     "metadata": {},
     "output_type": "execute_result"
    }
   ],
   "source": [
    "weather.head()"
   ]
  },
  {
   "cell_type": "markdown",
   "metadata": {},
   "source": [
    "I will use 'rating' column to analyze the effects of weather on police behavior."
   ]
  },
  {
   "cell_type": "markdown",
   "metadata": {},
   "source": [
    "### Creating a dataframe 'weather_rating' from 'weather' dataframe for merging\n",
    "I will take only 'DATE' and 'rating' columns to create 'weather_rating' dataframe and I will merge 'data' and 'weather_rating' dataframes to analyze."
   ]
  },
  {
   "cell_type": "code",
   "execution_count": 886,
   "metadata": {},
   "outputs": [],
   "source": [
    "weather = weather.loc[:,['weather_rating']]"
   ]
  },
  {
   "cell_type": "code",
   "execution_count": 887,
   "metadata": {},
   "outputs": [
    {
     "data": {
      "text/html": [
       "<div>\n",
       "<style scoped>\n",
       "    .dataframe tbody tr th:only-of-type {\n",
       "        vertical-align: middle;\n",
       "    }\n",
       "\n",
       "    .dataframe tbody tr th {\n",
       "        vertical-align: top;\n",
       "    }\n",
       "\n",
       "    .dataframe thead th {\n",
       "        text-align: right;\n",
       "    }\n",
       "</style>\n",
       "<table border=\"1\" class=\"dataframe\">\n",
       "  <thead>\n",
       "    <tr style=\"text-align: right;\">\n",
       "      <th></th>\n",
       "      <th>weather_rating</th>\n",
       "    </tr>\n",
       "    <tr>\n",
       "      <th>DATE</th>\n",
       "      <th></th>\n",
       "    </tr>\n",
       "  </thead>\n",
       "  <tbody>\n",
       "    <tr>\n",
       "      <th>2012-01-01</th>\n",
       "      <td>Good</td>\n",
       "    </tr>\n",
       "    <tr>\n",
       "      <th>2012-01-02</th>\n",
       "      <td>Good</td>\n",
       "    </tr>\n",
       "    <tr>\n",
       "      <th>2012-01-03</th>\n",
       "      <td>Good</td>\n",
       "    </tr>\n",
       "    <tr>\n",
       "      <th>2012-01-04</th>\n",
       "      <td>Good</td>\n",
       "    </tr>\n",
       "    <tr>\n",
       "      <th>2012-01-05</th>\n",
       "      <td>Good</td>\n",
       "    </tr>\n",
       "  </tbody>\n",
       "</table>\n",
       "</div>"
      ],
      "text/plain": [
       "           weather_rating\n",
       "DATE                     \n",
       "2012-01-01           Good\n",
       "2012-01-02           Good\n",
       "2012-01-03           Good\n",
       "2012-01-04           Good\n",
       "2012-01-05           Good"
      ]
     },
     "execution_count": 887,
     "metadata": {},
     "output_type": "execute_result"
    }
   ],
   "source": [
    "weather.head()"
   ]
  },
  {
   "cell_type": "markdown",
   "metadata": {},
   "source": [
    "## Merging datasets"
   ]
  },
  {
   "cell_type": "code",
   "execution_count": 888,
   "metadata": {},
   "outputs": [
    {
     "data": {
      "text/html": [
       "<div>\n",
       "<style scoped>\n",
       "    .dataframe tbody tr th:only-of-type {\n",
       "        vertical-align: middle;\n",
       "    }\n",
       "\n",
       "    .dataframe tbody tr th {\n",
       "        vertical-align: top;\n",
       "    }\n",
       "\n",
       "    .dataframe thead th {\n",
       "        text-align: right;\n",
       "    }\n",
       "</style>\n",
       "<table border=\"1\" class=\"dataframe\">\n",
       "  <thead>\n",
       "    <tr style=\"text-align: right;\">\n",
       "      <th></th>\n",
       "      <th>date</th>\n",
       "      <th>time</th>\n",
       "      <th>subject_age</th>\n",
       "      <th>subject_race</th>\n",
       "      <th>subject_sex</th>\n",
       "      <th>violation</th>\n",
       "      <th>count_violation(%)</th>\n",
       "    </tr>\n",
       "  </thead>\n",
       "  <tbody>\n",
       "    <tr>\n",
       "      <th>0</th>\n",
       "      <td>1/1/12</td>\n",
       "      <td>9:14:00</td>\n",
       "      <td>27</td>\n",
       "      <td>white</td>\n",
       "      <td>male</td>\n",
       "      <td>Speeding</td>\n",
       "      <td>0.485253</td>\n",
       "    </tr>\n",
       "    <tr>\n",
       "      <th>1</th>\n",
       "      <td>1/1/12</td>\n",
       "      <td>9:30:00</td>\n",
       "      <td>24</td>\n",
       "      <td>black</td>\n",
       "      <td>female</td>\n",
       "      <td>Speeding</td>\n",
       "      <td>0.485253</td>\n",
       "    </tr>\n",
       "    <tr>\n",
       "      <th>2</th>\n",
       "      <td>1/1/12</td>\n",
       "      <td>9:36:00</td>\n",
       "      <td>23</td>\n",
       "      <td>white</td>\n",
       "      <td>male</td>\n",
       "      <td>Speeding</td>\n",
       "      <td>0.485253</td>\n",
       "    </tr>\n",
       "    <tr>\n",
       "      <th>3</th>\n",
       "      <td>1/1/12</td>\n",
       "      <td>9:40:00</td>\n",
       "      <td>39</td>\n",
       "      <td>white</td>\n",
       "      <td>female</td>\n",
       "      <td>Speeding</td>\n",
       "      <td>0.485253</td>\n",
       "    </tr>\n",
       "    <tr>\n",
       "      <th>4</th>\n",
       "      <td>1/1/12</td>\n",
       "      <td>9:46:00</td>\n",
       "      <td>75</td>\n",
       "      <td>white</td>\n",
       "      <td>male</td>\n",
       "      <td>Failed to Present Evidence of Insurance Upon R...</td>\n",
       "      <td>0.083805</td>\n",
       "    </tr>\n",
       "  </tbody>\n",
       "</table>\n",
       "</div>"
      ],
      "text/plain": [
       "     date     time  subject_age subject_race subject_sex  \\\n",
       "0  1/1/12  9:14:00           27        white        male   \n",
       "1  1/1/12  9:30:00           24        black      female   \n",
       "2  1/1/12  9:36:00           23        white        male   \n",
       "3  1/1/12  9:40:00           39        white      female   \n",
       "4  1/1/12  9:46:00           75        white        male   \n",
       "\n",
       "                                           violation  count_violation(%)  \n",
       "0                                           Speeding            0.485253  \n",
       "1                                           Speeding            0.485253  \n",
       "2                                           Speeding            0.485253  \n",
       "3                                           Speeding            0.485253  \n",
       "4  Failed to Present Evidence of Insurance Upon R...            0.083805  "
      ]
     },
     "execution_count": 888,
     "metadata": {},
     "output_type": "execute_result"
    }
   ],
   "source": [
    "data.head()"
   ]
  },
  {
   "cell_type": "code",
   "execution_count": 889,
   "metadata": {},
   "outputs": [],
   "source": [
    "data['date'] = pd.to_datetime(data['date'])"
   ]
  },
  {
   "cell_type": "code",
   "execution_count": 890,
   "metadata": {},
   "outputs": [
    {
     "data": {
      "text/html": [
       "<div>\n",
       "<style scoped>\n",
       "    .dataframe tbody tr th:only-of-type {\n",
       "        vertical-align: middle;\n",
       "    }\n",
       "\n",
       "    .dataframe tbody tr th {\n",
       "        vertical-align: top;\n",
       "    }\n",
       "\n",
       "    .dataframe thead th {\n",
       "        text-align: right;\n",
       "    }\n",
       "</style>\n",
       "<table border=\"1\" class=\"dataframe\">\n",
       "  <thead>\n",
       "    <tr style=\"text-align: right;\">\n",
       "      <th></th>\n",
       "      <th>weather_rating</th>\n",
       "    </tr>\n",
       "    <tr>\n",
       "      <th>DATE</th>\n",
       "      <th></th>\n",
       "    </tr>\n",
       "  </thead>\n",
       "  <tbody>\n",
       "    <tr>\n",
       "      <th>2012-01-01</th>\n",
       "      <td>Good</td>\n",
       "    </tr>\n",
       "    <tr>\n",
       "      <th>2012-01-02</th>\n",
       "      <td>Good</td>\n",
       "    </tr>\n",
       "    <tr>\n",
       "      <th>2012-01-03</th>\n",
       "      <td>Good</td>\n",
       "    </tr>\n",
       "    <tr>\n",
       "      <th>2012-01-04</th>\n",
       "      <td>Good</td>\n",
       "    </tr>\n",
       "    <tr>\n",
       "      <th>2012-01-05</th>\n",
       "      <td>Good</td>\n",
       "    </tr>\n",
       "  </tbody>\n",
       "</table>\n",
       "</div>"
      ],
      "text/plain": [
       "           weather_rating\n",
       "DATE                     \n",
       "2012-01-01           Good\n",
       "2012-01-02           Good\n",
       "2012-01-03           Good\n",
       "2012-01-04           Good\n",
       "2012-01-05           Good"
      ]
     },
     "execution_count": 890,
     "metadata": {},
     "output_type": "execute_result"
    }
   ],
   "source": [
    "weather.head()"
   ]
  },
  {
   "cell_type": "code",
   "execution_count": 891,
   "metadata": {},
   "outputs": [],
   "source": [
    "police_weather_data = pd.merge(left = data, right = weather, left_on = 'date', right_on = 'DATE', how = 'left')"
   ]
  },
  {
   "cell_type": "code",
   "execution_count": 892,
   "metadata": {},
   "outputs": [
    {
     "data": {
      "text/html": [
       "<div>\n",
       "<style scoped>\n",
       "    .dataframe tbody tr th:only-of-type {\n",
       "        vertical-align: middle;\n",
       "    }\n",
       "\n",
       "    .dataframe tbody tr th {\n",
       "        vertical-align: top;\n",
       "    }\n",
       "\n",
       "    .dataframe thead th {\n",
       "        text-align: right;\n",
       "    }\n",
       "</style>\n",
       "<table border=\"1\" class=\"dataframe\">\n",
       "  <thead>\n",
       "    <tr style=\"text-align: right;\">\n",
       "      <th></th>\n",
       "      <th>date</th>\n",
       "      <th>time</th>\n",
       "      <th>subject_age</th>\n",
       "      <th>subject_race</th>\n",
       "      <th>subject_sex</th>\n",
       "      <th>violation</th>\n",
       "      <th>count_violation(%)</th>\n",
       "      <th>weather_rating</th>\n",
       "    </tr>\n",
       "  </thead>\n",
       "  <tbody>\n",
       "    <tr>\n",
       "      <th>0</th>\n",
       "      <td>2012-01-01</td>\n",
       "      <td>9:14:00</td>\n",
       "      <td>27</td>\n",
       "      <td>white</td>\n",
       "      <td>male</td>\n",
       "      <td>Speeding</td>\n",
       "      <td>0.485253</td>\n",
       "      <td>Good</td>\n",
       "    </tr>\n",
       "    <tr>\n",
       "      <th>1</th>\n",
       "      <td>2012-01-01</td>\n",
       "      <td>9:30:00</td>\n",
       "      <td>24</td>\n",
       "      <td>black</td>\n",
       "      <td>female</td>\n",
       "      <td>Speeding</td>\n",
       "      <td>0.485253</td>\n",
       "      <td>Good</td>\n",
       "    </tr>\n",
       "    <tr>\n",
       "      <th>2</th>\n",
       "      <td>2012-01-01</td>\n",
       "      <td>9:36:00</td>\n",
       "      <td>23</td>\n",
       "      <td>white</td>\n",
       "      <td>male</td>\n",
       "      <td>Speeding</td>\n",
       "      <td>0.485253</td>\n",
       "      <td>Good</td>\n",
       "    </tr>\n",
       "    <tr>\n",
       "      <th>3</th>\n",
       "      <td>2012-01-01</td>\n",
       "      <td>9:40:00</td>\n",
       "      <td>39</td>\n",
       "      <td>white</td>\n",
       "      <td>female</td>\n",
       "      <td>Speeding</td>\n",
       "      <td>0.485253</td>\n",
       "      <td>Good</td>\n",
       "    </tr>\n",
       "    <tr>\n",
       "      <th>4</th>\n",
       "      <td>2012-01-01</td>\n",
       "      <td>9:46:00</td>\n",
       "      <td>75</td>\n",
       "      <td>white</td>\n",
       "      <td>male</td>\n",
       "      <td>Failed to Present Evidence of Insurance Upon R...</td>\n",
       "      <td>0.083805</td>\n",
       "      <td>Good</td>\n",
       "    </tr>\n",
       "  </tbody>\n",
       "</table>\n",
       "</div>"
      ],
      "text/plain": [
       "        date     time  subject_age subject_race subject_sex  \\\n",
       "0 2012-01-01  9:14:00           27        white        male   \n",
       "1 2012-01-01  9:30:00           24        black      female   \n",
       "2 2012-01-01  9:36:00           23        white        male   \n",
       "3 2012-01-01  9:40:00           39        white      female   \n",
       "4 2012-01-01  9:46:00           75        white        male   \n",
       "\n",
       "                                           violation  count_violation(%)  \\\n",
       "0                                           Speeding            0.485253   \n",
       "1                                           Speeding            0.485253   \n",
       "2                                           Speeding            0.485253   \n",
       "3                                           Speeding            0.485253   \n",
       "4  Failed to Present Evidence of Insurance Upon R...            0.083805   \n",
       "\n",
       "  weather_rating  \n",
       "0           Good  \n",
       "1           Good  \n",
       "2           Good  \n",
       "3           Good  \n",
       "4           Good  "
      ]
     },
     "execution_count": 892,
     "metadata": {},
     "output_type": "execute_result"
    }
   ],
   "source": [
    "police_weather_data.head()"
   ]
  },
  {
   "cell_type": "markdown",
   "metadata": {},
   "source": [
    "### Creating new DatetimeIndex\n",
    "I combined 'date' column and 'time' column to convert datetime format."
   ]
  },
  {
   "cell_type": "code",
   "execution_count": 893,
   "metadata": {},
   "outputs": [],
   "source": [
    "data.date = data.date.astype(str) "
   ]
  },
  {
   "cell_type": "code",
   "execution_count": 894,
   "metadata": {},
   "outputs": [
    {
     "data": {
      "text/plain": [
       "0    2012-01-01\n",
       "1    2012-01-01\n",
       "2    2012-01-01\n",
       "3    2012-01-01\n",
       "4    2012-01-01\n",
       "Name: date, dtype: object"
      ]
     },
     "execution_count": 894,
     "metadata": {},
     "output_type": "execute_result"
    }
   ],
   "source": [
    "data.date.head()"
   ]
  },
  {
   "cell_type": "code",
   "execution_count": 895,
   "metadata": {},
   "outputs": [],
   "source": [
    "combine = data.date.str.cat(data.time.astype(str), sep = ' ' )"
   ]
  },
  {
   "cell_type": "code",
   "execution_count": 896,
   "metadata": {},
   "outputs": [],
   "source": [
    "police_weather_data['datetime'] = pd.to_datetime(combine)"
   ]
  },
  {
   "cell_type": "code",
   "execution_count": 897,
   "metadata": {},
   "outputs": [],
   "source": [
    "police_weather_data.set_index('datetime', inplace = True)"
   ]
  },
  {
   "cell_type": "code",
   "execution_count": 898,
   "metadata": {
    "scrolled": true
   },
   "outputs": [
    {
     "data": {
      "text/html": [
       "<div>\n",
       "<style scoped>\n",
       "    .dataframe tbody tr th:only-of-type {\n",
       "        vertical-align: middle;\n",
       "    }\n",
       "\n",
       "    .dataframe tbody tr th {\n",
       "        vertical-align: top;\n",
       "    }\n",
       "\n",
       "    .dataframe thead th {\n",
       "        text-align: right;\n",
       "    }\n",
       "</style>\n",
       "<table border=\"1\" class=\"dataframe\">\n",
       "  <thead>\n",
       "    <tr style=\"text-align: right;\">\n",
       "      <th></th>\n",
       "      <th>date</th>\n",
       "      <th>time</th>\n",
       "      <th>subject_age</th>\n",
       "      <th>subject_race</th>\n",
       "      <th>subject_sex</th>\n",
       "      <th>violation</th>\n",
       "      <th>count_violation(%)</th>\n",
       "      <th>weather_rating</th>\n",
       "    </tr>\n",
       "    <tr>\n",
       "      <th>datetime</th>\n",
       "      <th></th>\n",
       "      <th></th>\n",
       "      <th></th>\n",
       "      <th></th>\n",
       "      <th></th>\n",
       "      <th></th>\n",
       "      <th></th>\n",
       "      <th></th>\n",
       "    </tr>\n",
       "  </thead>\n",
       "  <tbody>\n",
       "    <tr>\n",
       "      <th>2012-01-01 09:14:00</th>\n",
       "      <td>2012-01-01</td>\n",
       "      <td>9:14:00</td>\n",
       "      <td>27</td>\n",
       "      <td>white</td>\n",
       "      <td>male</td>\n",
       "      <td>Speeding</td>\n",
       "      <td>0.485253</td>\n",
       "      <td>Good</td>\n",
       "    </tr>\n",
       "    <tr>\n",
       "      <th>2012-01-01 09:30:00</th>\n",
       "      <td>2012-01-01</td>\n",
       "      <td>9:30:00</td>\n",
       "      <td>24</td>\n",
       "      <td>black</td>\n",
       "      <td>female</td>\n",
       "      <td>Speeding</td>\n",
       "      <td>0.485253</td>\n",
       "      <td>Good</td>\n",
       "    </tr>\n",
       "    <tr>\n",
       "      <th>2012-01-01 09:36:00</th>\n",
       "      <td>2012-01-01</td>\n",
       "      <td>9:36:00</td>\n",
       "      <td>23</td>\n",
       "      <td>white</td>\n",
       "      <td>male</td>\n",
       "      <td>Speeding</td>\n",
       "      <td>0.485253</td>\n",
       "      <td>Good</td>\n",
       "    </tr>\n",
       "    <tr>\n",
       "      <th>2012-01-01 09:40:00</th>\n",
       "      <td>2012-01-01</td>\n",
       "      <td>9:40:00</td>\n",
       "      <td>39</td>\n",
       "      <td>white</td>\n",
       "      <td>female</td>\n",
       "      <td>Speeding</td>\n",
       "      <td>0.485253</td>\n",
       "      <td>Good</td>\n",
       "    </tr>\n",
       "    <tr>\n",
       "      <th>2012-01-01 09:46:00</th>\n",
       "      <td>2012-01-01</td>\n",
       "      <td>9:46:00</td>\n",
       "      <td>75</td>\n",
       "      <td>white</td>\n",
       "      <td>male</td>\n",
       "      <td>Failed to Present Evidence of Insurance Upon R...</td>\n",
       "      <td>0.083805</td>\n",
       "      <td>Good</td>\n",
       "    </tr>\n",
       "  </tbody>\n",
       "</table>\n",
       "</div>"
      ],
      "text/plain": [
       "                          date     time  subject_age subject_race subject_sex  \\\n",
       "datetime                                                                        \n",
       "2012-01-01 09:14:00 2012-01-01  9:14:00           27        white        male   \n",
       "2012-01-01 09:30:00 2012-01-01  9:30:00           24        black      female   \n",
       "2012-01-01 09:36:00 2012-01-01  9:36:00           23        white        male   \n",
       "2012-01-01 09:40:00 2012-01-01  9:40:00           39        white      female   \n",
       "2012-01-01 09:46:00 2012-01-01  9:46:00           75        white        male   \n",
       "\n",
       "                                                             violation  \\\n",
       "datetime                                                                 \n",
       "2012-01-01 09:14:00                                           Speeding   \n",
       "2012-01-01 09:30:00                                           Speeding   \n",
       "2012-01-01 09:36:00                                           Speeding   \n",
       "2012-01-01 09:40:00                                           Speeding   \n",
       "2012-01-01 09:46:00  Failed to Present Evidence of Insurance Upon R...   \n",
       "\n",
       "                     count_violation(%) weather_rating  \n",
       "datetime                                                \n",
       "2012-01-01 09:14:00            0.485253           Good  \n",
       "2012-01-01 09:30:00            0.485253           Good  \n",
       "2012-01-01 09:36:00            0.485253           Good  \n",
       "2012-01-01 09:40:00            0.485253           Good  \n",
       "2012-01-01 09:46:00            0.083805           Good  "
      ]
     },
     "execution_count": 898,
     "metadata": {},
     "output_type": "execute_result"
    }
   ],
   "source": [
    "# Examine the index\n",
    "police_weather_data.head()"
   ]
  },
  {
   "cell_type": "code",
   "execution_count": 899,
   "metadata": {},
   "outputs": [],
   "source": [
    "# Dropping unnecessary date or time columns\n",
    "police_weather_data.drop(['date', 'time'], axis = 1, inplace = True)"
   ]
  },
  {
   "cell_type": "code",
   "execution_count": 900,
   "metadata": {},
   "outputs": [
    {
     "data": {
      "text/html": [
       "<div>\n",
       "<style scoped>\n",
       "    .dataframe tbody tr th:only-of-type {\n",
       "        vertical-align: middle;\n",
       "    }\n",
       "\n",
       "    .dataframe tbody tr th {\n",
       "        vertical-align: top;\n",
       "    }\n",
       "\n",
       "    .dataframe thead th {\n",
       "        text-align: right;\n",
       "    }\n",
       "</style>\n",
       "<table border=\"1\" class=\"dataframe\">\n",
       "  <thead>\n",
       "    <tr style=\"text-align: right;\">\n",
       "      <th></th>\n",
       "      <th>subject_age</th>\n",
       "      <th>subject_race</th>\n",
       "      <th>subject_sex</th>\n",
       "      <th>violation</th>\n",
       "      <th>count_violation(%)</th>\n",
       "      <th>weather_rating</th>\n",
       "    </tr>\n",
       "    <tr>\n",
       "      <th>datetime</th>\n",
       "      <th></th>\n",
       "      <th></th>\n",
       "      <th></th>\n",
       "      <th></th>\n",
       "      <th></th>\n",
       "      <th></th>\n",
       "    </tr>\n",
       "  </thead>\n",
       "  <tbody>\n",
       "    <tr>\n",
       "      <th>2012-01-01 09:14:00</th>\n",
       "      <td>27</td>\n",
       "      <td>white</td>\n",
       "      <td>male</td>\n",
       "      <td>Speeding</td>\n",
       "      <td>0.485253</td>\n",
       "      <td>Good</td>\n",
       "    </tr>\n",
       "    <tr>\n",
       "      <th>2012-01-01 09:30:00</th>\n",
       "      <td>24</td>\n",
       "      <td>black</td>\n",
       "      <td>female</td>\n",
       "      <td>Speeding</td>\n",
       "      <td>0.485253</td>\n",
       "      <td>Good</td>\n",
       "    </tr>\n",
       "    <tr>\n",
       "      <th>2012-01-01 09:36:00</th>\n",
       "      <td>23</td>\n",
       "      <td>white</td>\n",
       "      <td>male</td>\n",
       "      <td>Speeding</td>\n",
       "      <td>0.485253</td>\n",
       "      <td>Good</td>\n",
       "    </tr>\n",
       "    <tr>\n",
       "      <th>2012-01-01 09:40:00</th>\n",
       "      <td>39</td>\n",
       "      <td>white</td>\n",
       "      <td>female</td>\n",
       "      <td>Speeding</td>\n",
       "      <td>0.485253</td>\n",
       "      <td>Good</td>\n",
       "    </tr>\n",
       "    <tr>\n",
       "      <th>2012-01-01 09:46:00</th>\n",
       "      <td>75</td>\n",
       "      <td>white</td>\n",
       "      <td>male</td>\n",
       "      <td>Failed to Present Evidence of Insurance Upon R...</td>\n",
       "      <td>0.083805</td>\n",
       "      <td>Good</td>\n",
       "    </tr>\n",
       "  </tbody>\n",
       "</table>\n",
       "</div>"
      ],
      "text/plain": [
       "                     subject_age subject_race subject_sex  \\\n",
       "datetime                                                    \n",
       "2012-01-01 09:14:00           27        white        male   \n",
       "2012-01-01 09:30:00           24        black      female   \n",
       "2012-01-01 09:36:00           23        white        male   \n",
       "2012-01-01 09:40:00           39        white      female   \n",
       "2012-01-01 09:46:00           75        white        male   \n",
       "\n",
       "                                                             violation  \\\n",
       "datetime                                                                 \n",
       "2012-01-01 09:14:00                                           Speeding   \n",
       "2012-01-01 09:30:00                                           Speeding   \n",
       "2012-01-01 09:36:00                                           Speeding   \n",
       "2012-01-01 09:40:00                                           Speeding   \n",
       "2012-01-01 09:46:00  Failed to Present Evidence of Insurance Upon R...   \n",
       "\n",
       "                     count_violation(%) weather_rating  \n",
       "datetime                                                \n",
       "2012-01-01 09:14:00            0.485253           Good  \n",
       "2012-01-01 09:30:00            0.485253           Good  \n",
       "2012-01-01 09:36:00            0.485253           Good  \n",
       "2012-01-01 09:40:00            0.485253           Good  \n",
       "2012-01-01 09:46:00            0.083805           Good  "
      ]
     },
     "execution_count": 900,
     "metadata": {},
     "output_type": "execute_result"
    }
   ],
   "source": [
    "police_weather_data.head()"
   ]
  },
  {
   "cell_type": "markdown",
   "metadata": {},
   "source": [
    "## Does driver gender affect the violation type \"Speeding\"?\n",
    "The question I am trying to answer is whether male and female drivers tend to commit different types of traffic violations."
   ]
  },
  {
   "cell_type": "code",
   "execution_count": 901,
   "metadata": {},
   "outputs": [],
   "source": [
    "# Create a dataframe of female driver\n",
    "female_driver = police_weather_data[police_weather_data.subject_sex == 'female']"
   ]
  },
  {
   "cell_type": "code",
   "execution_count": 902,
   "metadata": {},
   "outputs": [],
   "source": [
    "# create a dataframe of male drivers\n",
    "male_driver = police_weather_data[police_weather_data.subject_sex == 'male']"
   ]
  },
  {
   "cell_type": "code",
   "execution_count": 903,
   "metadata": {},
   "outputs": [
    {
     "data": {
      "text/plain": [
       "Speeding                                                0.516581\n",
       "Others                                                  0.133224\n",
       "Failed to Present Evidence of Insurance Upon Request    0.080892\n",
       "License/Registration Violation                          0.051926\n",
       "Failed to Obey Seat Belt Requirements                   0.049399\n",
       "Name: violation, dtype: float64"
      ]
     },
     "execution_count": 903,
     "metadata": {},
     "output_type": "execute_result"
    }
   ],
   "source": [
    "# Count the unique violation values of female driver\n",
    "female_driver.violation.value_counts(normalize = True).head(5)"
   ]
  },
  {
   "cell_type": "code",
   "execution_count": 904,
   "metadata": {},
   "outputs": [
    {
     "data": {
      "text/plain": [
       "Speeding                                                0.465139\n",
       "Others                                                  0.162077\n",
       "Failed to Present Evidence of Insurance Upon Request    0.085675\n",
       "Failed to Obey Seat Belt Requirements                   0.065526\n",
       "License/Registration Violation                          0.055311\n",
       "Name: violation, dtype: float64"
      ]
     },
     "execution_count": 904,
     "metadata": {},
     "output_type": "execute_result"
    }
   ],
   "source": [
    "# Count unique values of violation of male driver\n",
    "male_driver.violation.value_counts(normalize = True).head(5)"
   ]
  },
  {
   "cell_type": "markdown",
   "metadata": {},
   "source": [
    "In Aurora city, women are about 5 percent more likely to speed up than men, other than that, all the other categories of women and men seem pretty much similar. We usually assume that \"Men are more likely to drive fast\", but it is hard to tell in Aurora city data.\n"
   ]
  },
  {
   "cell_type": "markdown",
   "metadata": {},
   "source": [
    "## Does driver race affect the violation types?\n",
    "The question I am trying to answer is whether the race types drivers tend to commit different types of traffic violations. I will analyze top 5 violations."
   ]
  },
  {
   "cell_type": "code",
   "execution_count": 905,
   "metadata": {},
   "outputs": [],
   "source": [
    "# Create a dataframe of white drivers\n",
    "white = police_weather_data[police_weather_data.subject_race == 'white']"
   ]
  },
  {
   "cell_type": "code",
   "execution_count": 906,
   "metadata": {},
   "outputs": [],
   "source": [
    "# Create a dataframe of African/American drivers\n",
    "black = police_weather_data[police_weather_data.subject_race == 'black']"
   ]
  },
  {
   "cell_type": "code",
   "execution_count": 907,
   "metadata": {},
   "outputs": [],
   "source": [
    "# Create a dataframe of Asian/Pacific drivers\n",
    "asian_pacific = police_weather_data[police_weather_data.subject_race == 'asian/pacific islander']"
   ]
  },
  {
   "cell_type": "code",
   "execution_count": 908,
   "metadata": {},
   "outputs": [],
   "source": [
    "# Create a dataframe of all the other drivers\n",
    "other = police_weather_data[police_weather_data.subject_race == 'other/unknown']"
   ]
  },
  {
   "cell_type": "code",
   "execution_count": 909,
   "metadata": {},
   "outputs": [
    {
     "data": {
      "text/plain": [
       "Speeding                                                   0.523847\n",
       "Others                                                     0.136139\n",
       "Failed to Present Evidence of Insurance Upon Request       0.075653\n",
       "Failed to Obey Seat Belt Requirements                      0.057074\n",
       "Failed to Obey Signal Lights                               0.052252\n",
       "Disregarded Stop Sign                                      0.040824\n",
       "License/Registration Violation                             0.039414\n",
       "Failed to Observe or Disregarded Traffic Control Device    0.017751\n",
       "Name: violation, dtype: float64"
      ]
     },
     "execution_count": 909,
     "metadata": {},
     "output_type": "execute_result"
    }
   ],
   "source": [
    "# Compute the violations by white drivers as portioin\n",
    "white.violation.value_counts(normalize=True).head(8)"
   ]
  },
  {
   "cell_type": "code",
   "execution_count": 910,
   "metadata": {},
   "outputs": [
    {
     "data": {
      "text/plain": [
       "Speeding                                                0.415191\n",
       "Others                                                  0.171782\n",
       "Failed to Present Evidence of Insurance Upon Request    0.109666\n",
       "Failed to Obey Seat Belt Requirements                   0.071677\n",
       "License/Registration Violation                          0.069865\n",
       "Failed to Obey Signal Lights                            0.035801\n",
       "Disregarded Stop Sign                                   0.035046\n",
       "Made U Turn Where Prohibited (Muni Statute 603(1)       0.019196\n",
       "Name: violation, dtype: float64"
      ]
     },
     "execution_count": 910,
     "metadata": {},
     "output_type": "execute_result"
    }
   ],
   "source": [
    "# Compute the violations by African American drivers as portion\n",
    "black.violation.value_counts(normalize = True).head(8)"
   ]
  },
  {
   "cell_type": "code",
   "execution_count": 911,
   "metadata": {},
   "outputs": [
    {
     "data": {
      "text/plain": [
       "Speeding                                                0.475875\n",
       "Others                                                  0.144750\n",
       "Failed to Obey Signal Lights                            0.091737\n",
       "Failed to Present Evidence of Insurance Upon Request    0.074757\n",
       "Disregarded Stop Sign                                   0.057362\n",
       "Failed to Obey Seat Belt Requirements                   0.041624\n",
       "License/Registration Violation                          0.029406\n",
       "Made U Turn Where Prohibited (Muni Statute 603(1)       0.023814\n",
       "Name: violation, dtype: float64"
      ]
     },
     "execution_count": 911,
     "metadata": {},
     "output_type": "execute_result"
    }
   ],
   "source": [
    "# Compute the violations by Asian drivers as portion\n",
    "asian_pacific.violation.value_counts(normalize=True).head(8)"
   ]
  },
  {
   "cell_type": "code",
   "execution_count": 912,
   "metadata": {},
   "outputs": [
    {
     "data": {
      "text/plain": [
       "Speeding                                                0.484058\n",
       "Others                                                  0.142029\n",
       "License/Registration Violation                          0.105797\n",
       "Failed to Obey Seat Belt Requirements                   0.092029\n",
       "Failed to Present Evidence of Insurance Upon Request    0.062319\n",
       "Failed to Obey Signal Lights                            0.039130\n",
       "Disregarded Stop Sign                                   0.027536\n",
       "Made U Turn Where Prohibited (Muni Statute 603(1)       0.015217\n",
       "Name: violation, dtype: float64"
      ]
     },
     "execution_count": 912,
     "metadata": {},
     "output_type": "execute_result"
    }
   ],
   "source": [
    "# Compute the violations by all the other race drivers\n",
    "other.violation.value_counts(normalize=True).head(8)"
   ]
  },
  {
   "cell_type": "markdown",
   "metadata": {},
   "source": [
    "White driver are more likely to speed than the other race, but all drivers' main resson to get citation is \"Speeding\"."
   ]
  },
  {
   "cell_type": "markdown",
   "metadata": {},
   "source": [
    "## Does driver age affect the speeding violation?\n",
    "The question I am trying to answer is whether age of driver tend to commit different types of traffic violations."
   ]
  },
  {
   "cell_type": "code",
   "execution_count": 913,
   "metadata": {},
   "outputs": [],
   "source": [
    "# Defining bins as 0 to 18, 18 to 25, 25 to 35, 35 to 55, 55 to 75, 75 to 150\n",
    "bins = [0,18,25,35,55,75,100]"
   ]
  },
  {
   "cell_type": "code",
   "execution_count": 914,
   "metadata": {},
   "outputs": [],
   "source": [
    "# Names the age group\n",
    "group_names = ['Teen','Young','Adult','Mid Adult','Old','Senior']"
   ]
  },
  {
   "cell_type": "code",
   "execution_count": 915,
   "metadata": {},
   "outputs": [],
   "source": [
    "# Add 'Age_group' column to get categorical age value.\n",
    "police_weather_data['age_group'] = pd.cut(police_weather_data.subject_age,bins,labels=group_names)"
   ]
  },
  {
   "cell_type": "code",
   "execution_count": 916,
   "metadata": {},
   "outputs": [
    {
     "data": {
      "text/html": [
       "<div>\n",
       "<style scoped>\n",
       "    .dataframe tbody tr th:only-of-type {\n",
       "        vertical-align: middle;\n",
       "    }\n",
       "\n",
       "    .dataframe tbody tr th {\n",
       "        vertical-align: top;\n",
       "    }\n",
       "\n",
       "    .dataframe thead th {\n",
       "        text-align: right;\n",
       "    }\n",
       "</style>\n",
       "<table border=\"1\" class=\"dataframe\">\n",
       "  <thead>\n",
       "    <tr style=\"text-align: right;\">\n",
       "      <th></th>\n",
       "      <th>subject_age</th>\n",
       "      <th>subject_race</th>\n",
       "      <th>subject_sex</th>\n",
       "      <th>violation</th>\n",
       "      <th>count_violation(%)</th>\n",
       "      <th>weather_rating</th>\n",
       "      <th>age_group</th>\n",
       "    </tr>\n",
       "    <tr>\n",
       "      <th>datetime</th>\n",
       "      <th></th>\n",
       "      <th></th>\n",
       "      <th></th>\n",
       "      <th></th>\n",
       "      <th></th>\n",
       "      <th></th>\n",
       "      <th></th>\n",
       "    </tr>\n",
       "  </thead>\n",
       "  <tbody>\n",
       "    <tr>\n",
       "      <th>2012-01-01 09:14:00</th>\n",
       "      <td>27</td>\n",
       "      <td>white</td>\n",
       "      <td>male</td>\n",
       "      <td>Speeding</td>\n",
       "      <td>0.485253</td>\n",
       "      <td>Good</td>\n",
       "      <td>Adult</td>\n",
       "    </tr>\n",
       "    <tr>\n",
       "      <th>2012-01-01 09:30:00</th>\n",
       "      <td>24</td>\n",
       "      <td>black</td>\n",
       "      <td>female</td>\n",
       "      <td>Speeding</td>\n",
       "      <td>0.485253</td>\n",
       "      <td>Good</td>\n",
       "      <td>Young</td>\n",
       "    </tr>\n",
       "    <tr>\n",
       "      <th>2012-01-01 09:36:00</th>\n",
       "      <td>23</td>\n",
       "      <td>white</td>\n",
       "      <td>male</td>\n",
       "      <td>Speeding</td>\n",
       "      <td>0.485253</td>\n",
       "      <td>Good</td>\n",
       "      <td>Young</td>\n",
       "    </tr>\n",
       "    <tr>\n",
       "      <th>2012-01-01 09:40:00</th>\n",
       "      <td>39</td>\n",
       "      <td>white</td>\n",
       "      <td>female</td>\n",
       "      <td>Speeding</td>\n",
       "      <td>0.485253</td>\n",
       "      <td>Good</td>\n",
       "      <td>Mid Adult</td>\n",
       "    </tr>\n",
       "    <tr>\n",
       "      <th>2012-01-01 09:46:00</th>\n",
       "      <td>75</td>\n",
       "      <td>white</td>\n",
       "      <td>male</td>\n",
       "      <td>Failed to Present Evidence of Insurance Upon R...</td>\n",
       "      <td>0.083805</td>\n",
       "      <td>Good</td>\n",
       "      <td>Old</td>\n",
       "    </tr>\n",
       "  </tbody>\n",
       "</table>\n",
       "</div>"
      ],
      "text/plain": [
       "                     subject_age subject_race subject_sex  \\\n",
       "datetime                                                    \n",
       "2012-01-01 09:14:00           27        white        male   \n",
       "2012-01-01 09:30:00           24        black      female   \n",
       "2012-01-01 09:36:00           23        white        male   \n",
       "2012-01-01 09:40:00           39        white      female   \n",
       "2012-01-01 09:46:00           75        white        male   \n",
       "\n",
       "                                                             violation  \\\n",
       "datetime                                                                 \n",
       "2012-01-01 09:14:00                                           Speeding   \n",
       "2012-01-01 09:30:00                                           Speeding   \n",
       "2012-01-01 09:36:00                                           Speeding   \n",
       "2012-01-01 09:40:00                                           Speeding   \n",
       "2012-01-01 09:46:00  Failed to Present Evidence of Insurance Upon R...   \n",
       "\n",
       "                     count_violation(%) weather_rating  age_group  \n",
       "datetime                                                           \n",
       "2012-01-01 09:14:00            0.485253           Good      Adult  \n",
       "2012-01-01 09:30:00            0.485253           Good      Young  \n",
       "2012-01-01 09:36:00            0.485253           Good      Young  \n",
       "2012-01-01 09:40:00            0.485253           Good  Mid Adult  \n",
       "2012-01-01 09:46:00            0.083805           Good        Old  "
      ]
     },
     "execution_count": 916,
     "metadata": {},
     "output_type": "execute_result"
    }
   ],
   "source": [
    "police_weather_data.head()"
   ]
  },
  {
   "cell_type": "code",
   "execution_count": 917,
   "metadata": {},
   "outputs": [],
   "source": [
    "violation_by_age = police_weather_data.groupby(police_weather_data.age_group).violation.value_counts(normalize=True)"
   ]
  },
  {
   "cell_type": "code",
   "execution_count": 918,
   "metadata": {},
   "outputs": [
    {
     "data": {
      "text/plain": [
       "age_group  violation                                              \n",
       "Teen       Speeding                                                   0.488078\n",
       "           Others                                                     0.173230\n",
       "           Failed to Present Evidence of Insurance Upon Request       0.100072\n",
       "           License/Registration Violation                             0.055094\n",
       "           Disregarded Stop Sign                                      0.044798\n",
       "           Failed to Obey Signal Lights                               0.037934\n",
       "           Failed to Obey Seat Belt Requirements                      0.035405\n",
       "           Failed to Observe or Disregarded Traffic Control Device    0.014812\n",
       "           Vehicle With Defective/Improper or No Tail Lamps           0.014090\n",
       "           Vehicle with one headlight (Muni 205(1))                   0.011019\n",
       "           Tinted Windows - Muni Statute 227(1)                       0.008851\n",
       "           Glass in Vehicle Did Not Permit Norman Vision              0.008490\n",
       "           Made U Turn Where Prohibited (Muni Statute 603(1)          0.008129\n",
       "Young      Speeding                                                   0.489458\n",
       "           Others                                                     0.144886\n",
       "           Failed to Present Evidence of Insurance Upon Request       0.097881\n",
       "           Failed to Obey Seat Belt Requirements                      0.059281\n",
       "           License/Registration Violation                             0.058395\n",
       "           Disregarded Stop Sign                                      0.037512\n",
       "           Failed to Obey Signal Lights                               0.036348\n",
       "           Tinted Windows - Muni Statute 227(1)                       0.014048\n",
       "           Vehicle with one headlight (Muni 205(1))                   0.013947\n",
       "           Vehicle With Defective/Improper or No Tail Lamps           0.013466\n",
       "           Failed to Observe or Disregarded Traffic Control Device    0.013086\n",
       "           Made U Turn Where Prohibited (Muni Statute 603(1)          0.012757\n",
       "           Glass in Vehicle Did Not Permit Norman Vision              0.008935\n",
       "Adult      Speeding                                                   0.484751\n",
       "           Others                                                     0.146973\n",
       "           Failed to Present Evidence of Insurance Upon Request       0.087047\n",
       "           License/Registration Violation                             0.060503\n",
       "                                                                        ...   \n",
       "Mid Adult  Glass in Vehicle Did Not Permit Norman Vision              0.012980\n",
       "           Vehicle With Defective/Improper or No Tail Lamps           0.010228\n",
       "           Vehicle with one headlight (Muni 205(1))                   0.009830\n",
       "           Tinted Windows - Muni Statute 227(1)                       0.009015\n",
       "Old        Speeding                                                   0.487681\n",
       "           Others                                                     0.152734\n",
       "           Failed to Obey Signal Lights                               0.070396\n",
       "           Failed to Obey Seat Belt Requirements                      0.066185\n",
       "           Failed to Present Evidence of Insurance Upon Request       0.062791\n",
       "           Disregarded Stop Sign                                      0.049466\n",
       "           License/Registration Violation                             0.033690\n",
       "           Failed to Observe or Disregarded Traffic Control Device    0.024513\n",
       "           Made U Turn Where Prohibited (Muni Statute 603(1)          0.018228\n",
       "           Glass in Vehicle Did Not Permit Norman Vision              0.011691\n",
       "           Vehicle With Defective/Improper or No Tail Lamps           0.011125\n",
       "           Vehicle with one headlight (Muni 205(1))                   0.007165\n",
       "           Tinted Windows - Muni Statute 227(1)                       0.004337\n",
       "Senior     Speeding                                                   0.406728\n",
       "           Others                                                     0.176351\n",
       "           Failed to Obey Seat Belt Requirements                      0.095821\n",
       "           Disregarded Stop Sign                                      0.075433\n",
       "           Failed to Obey Signal Lights                               0.074414\n",
       "           Failed to Present Evidence of Insurance Upon Request       0.057085\n",
       "           License/Registration Violation                             0.035678\n",
       "           Failed to Observe or Disregarded Traffic Control Device    0.033639\n",
       "           Made U Turn Where Prohibited (Muni Statute 603(1)          0.018349\n",
       "           Glass in Vehicle Did Not Permit Norman Vision              0.013252\n",
       "           Vehicle With Defective/Improper or No Tail Lamps           0.008155\n",
       "           Vehicle with one headlight (Muni 205(1))                   0.004077\n",
       "           Tinted Windows - Muni Statute 227(1)                       0.001019\n",
       "Name: violation, Length: 78, dtype: float64"
      ]
     },
     "execution_count": 918,
     "metadata": {},
     "output_type": "execute_result"
    }
   ],
   "source": [
    "violation_by_age"
   ]
  },
  {
   "cell_type": "code",
   "execution_count": 919,
   "metadata": {},
   "outputs": [],
   "source": [
    "%matplotlib inline"
   ]
  },
  {
   "cell_type": "code",
   "execution_count": 920,
   "metadata": {},
   "outputs": [
    {
     "data": {
      "image/png": "[encoded data removed]",
      "text/plain": [
       "<Figure size 432x288 with 1 Axes>"
      ]
     },
     "metadata": {
      "needs_background": "light"
     },
     "output_type": "display_data"
    }
   ],
   "source": [
    "# Stacked bar chart by age group\n",
    "violation_by_age.unstack().plot(kind = 'bar', stacked = True)\n",
    "plt.ylabel('violation(%)')\n",
    "plt.title('Violation type Rate by Age Group')\n",
    "plt.legend(loc = 'center left' , bbox_to_anchor = (1,0.5))\n",
    "plt.show()"
   ]
  },
  {
   "cell_type": "code",
   "execution_count": 921,
   "metadata": {},
   "outputs": [
    {
     "data": {
      "image/png": "[encoded data removed]",
      "text/plain": [
       "<Figure size 720x1800 with 1 Axes>"
      ]
     },
     "metadata": {
      "needs_background": "light"
     },
     "output_type": "display_data"
    }
   ],
   "source": [
    "pd.crosstab(police_weather_data.violation,police_weather_data.age_group).plot(kind = 'barh', figsize=(10,25))\n",
    "plt.xlabel('violation counts')\n",
    "plt.title('Violation type counts by age group')\n",
    "plt.show()"
   ]
  },
  {
   "cell_type": "markdown",
   "metadata": {},
   "source": [
    "It seems \"Age\" is big factor to \"Speeding\" in senior group but not in the other age group."
   ]
  },
  {
   "cell_type": "markdown",
   "metadata": {},
   "source": [
    "## Does time of day affect speeding violation?"
   ]
  },
  {
   "cell_type": "code",
   "execution_count": 922,
   "metadata": {},
   "outputs": [],
   "source": [
    " hourly_violation_rate = police_weather_data.groupby(police_weather_data.index.hour).violation.value_counts(normalize = True).unstack()"
   ]
  },
  {
   "cell_type": "code",
   "execution_count": 923,
   "metadata": {},
   "outputs": [
    {
     "name": "stdout",
     "output_type": "stream",
     "text": [
      "datetime\n",
      "0.0     0.492114\n",
      "1.0     0.470673\n",
      "2.0     0.475451\n",
      "3.0     0.487319\n",
      "4.0     0.473805\n",
      "5.0     0.488925\n",
      "6.0     0.518420\n",
      "7.0     0.474156\n",
      "8.0     0.488406\n",
      "9.0     0.483875\n",
      "10.0    0.498438\n",
      "11.0    0.485816\n",
      "12.0    0.472033\n",
      "13.0    0.482976\n",
      "14.0    0.480516\n",
      "15.0    0.480921\n",
      "16.0    0.470117\n",
      "17.0    0.468949\n",
      "18.0    0.464521\n",
      "19.0    0.472642\n",
      "20.0    0.480565\n",
      "21.0    0.482159\n",
      "22.0    0.485453\n",
      "23.0    0.489460\n",
      "Name: Speeding, dtype: float64\n"
     ]
    }
   ],
   "source": [
    "print(hourly_violation_rate['Speeding'])"
   ]
  },
  {
   "cell_type": "code",
   "execution_count": 924,
   "metadata": {},
   "outputs": [],
   "source": [
    "# Change data type to Pandas Series\n",
    "speed_violation_hour = pd.Series(hourly_violation_rate['Speeding'])"
   ]
  },
  {
   "cell_type": "code",
   "execution_count": 925,
   "metadata": {},
   "outputs": [
    {
     "data": {
      "text/plain": [
       "count    24.000000\n",
       "mean      0.481988\n",
       "std       0.011444\n",
       "min       0.464521\n",
       "25%       0.473514\n",
       "50%       0.481540\n",
       "75%       0.487591\n",
       "max       0.518420\n",
       "Name: Speeding, dtype: float64"
      ]
     },
     "execution_count": 925,
     "metadata": {},
     "output_type": "execute_result"
    }
   ],
   "source": [
    "speed_violation_hour.describe()"
   ]
  },
  {
   "cell_type": "code",
   "execution_count": 926,
   "metadata": {},
   "outputs": [
    {
     "name": "stdout",
     "output_type": "stream",
     "text": [
      "datetime\n",
      "6.0     0.518420\n",
      "10.0    0.498438\n",
      "0.0     0.492114\n",
      "23.0    0.489460\n",
      "5.0     0.488925\n",
      "8.0     0.488406\n",
      "3.0     0.487319\n",
      "11.0    0.485816\n",
      "22.0    0.485453\n",
      "9.0     0.483875\n",
      "13.0    0.482976\n",
      "21.0    0.482159\n",
      "15.0    0.480921\n",
      "20.0    0.480565\n",
      "14.0    0.480516\n",
      "2.0     0.475451\n",
      "7.0     0.474156\n",
      "4.0     0.473805\n",
      "19.0    0.472642\n",
      "12.0    0.472033\n",
      "1.0     0.470673\n",
      "16.0    0.470117\n",
      "17.0    0.468949\n",
      "18.0    0.464521\n",
      "Name: Speeding, dtype: float64\n"
     ]
    }
   ],
   "source": [
    "print(speed_violation_hour.sort_values(ascending=False))"
   ]
  },
  {
   "cell_type": "code",
   "execution_count": 927,
   "metadata": {},
   "outputs": [
    {
     "data": {
      "image/png": "[encoded data removed]",
      "text/plain": [
       "<Figure size 432x288 with 1 Axes>"
      ]
     },
     "metadata": {
      "needs_background": "light"
     },
     "output_type": "display_data"
    }
   ],
   "source": [
    "speed_violation_hour.plot(xticks = [0,1,2,3,4,5,6,7,8,9,10,11,12,13,14,15,16,17,18,19,20,21,22,23])\n",
    "plt.ylabel('Speeding Violation Rate')\n",
    "plt.xlabel('time')\n",
    "plt.show()"
   ]
  },
  {
   "cell_type": "markdown",
   "metadata": {},
   "source": [
    "Speeding violation rate is slighly high around 6am (right before the rush hour) and slightly low around 4 to 6 (rush hour)."
   ]
  },
  {
   "cell_type": "markdown",
   "metadata": {},
   "source": [
    "## Do weekday or weekend  affect speeding violation?"
   ]
  },
  {
   "cell_type": "code",
   "execution_count": 928,
   "metadata": {},
   "outputs": [
    {
     "data": {
      "text/html": [
       "<div>\n",
       "<style scoped>\n",
       "    .dataframe tbody tr th:only-of-type {\n",
       "        vertical-align: middle;\n",
       "    }\n",
       "\n",
       "    .dataframe tbody tr th {\n",
       "        vertical-align: top;\n",
       "    }\n",
       "\n",
       "    .dataframe thead th {\n",
       "        text-align: right;\n",
       "    }\n",
       "</style>\n",
       "<table border=\"1\" class=\"dataframe\">\n",
       "  <thead>\n",
       "    <tr style=\"text-align: right;\">\n",
       "      <th></th>\n",
       "      <th>subject_age</th>\n",
       "      <th>subject_race</th>\n",
       "      <th>subject_sex</th>\n",
       "      <th>violation</th>\n",
       "      <th>count_violation(%)</th>\n",
       "      <th>weather_rating</th>\n",
       "      <th>age_group</th>\n",
       "    </tr>\n",
       "    <tr>\n",
       "      <th>datetime</th>\n",
       "      <th></th>\n",
       "      <th></th>\n",
       "      <th></th>\n",
       "      <th></th>\n",
       "      <th></th>\n",
       "      <th></th>\n",
       "      <th></th>\n",
       "    </tr>\n",
       "  </thead>\n",
       "  <tbody>\n",
       "    <tr>\n",
       "      <th>2012-01-01 09:14:00</th>\n",
       "      <td>27</td>\n",
       "      <td>white</td>\n",
       "      <td>male</td>\n",
       "      <td>Speeding</td>\n",
       "      <td>0.485253</td>\n",
       "      <td>Good</td>\n",
       "      <td>Adult</td>\n",
       "    </tr>\n",
       "    <tr>\n",
       "      <th>2012-01-01 09:30:00</th>\n",
       "      <td>24</td>\n",
       "      <td>black</td>\n",
       "      <td>female</td>\n",
       "      <td>Speeding</td>\n",
       "      <td>0.485253</td>\n",
       "      <td>Good</td>\n",
       "      <td>Young</td>\n",
       "    </tr>\n",
       "    <tr>\n",
       "      <th>2012-01-01 09:36:00</th>\n",
       "      <td>23</td>\n",
       "      <td>white</td>\n",
       "      <td>male</td>\n",
       "      <td>Speeding</td>\n",
       "      <td>0.485253</td>\n",
       "      <td>Good</td>\n",
       "      <td>Young</td>\n",
       "    </tr>\n",
       "    <tr>\n",
       "      <th>2012-01-01 09:40:00</th>\n",
       "      <td>39</td>\n",
       "      <td>white</td>\n",
       "      <td>female</td>\n",
       "      <td>Speeding</td>\n",
       "      <td>0.485253</td>\n",
       "      <td>Good</td>\n",
       "      <td>Mid Adult</td>\n",
       "    </tr>\n",
       "    <tr>\n",
       "      <th>2012-01-01 09:46:00</th>\n",
       "      <td>75</td>\n",
       "      <td>white</td>\n",
       "      <td>male</td>\n",
       "      <td>Failed to Present Evidence of Insurance Upon R...</td>\n",
       "      <td>0.083805</td>\n",
       "      <td>Good</td>\n",
       "      <td>Old</td>\n",
       "    </tr>\n",
       "  </tbody>\n",
       "</table>\n",
       "</div>"
      ],
      "text/plain": [
       "                     subject_age subject_race subject_sex  \\\n",
       "datetime                                                    \n",
       "2012-01-01 09:14:00           27        white        male   \n",
       "2012-01-01 09:30:00           24        black      female   \n",
       "2012-01-01 09:36:00           23        white        male   \n",
       "2012-01-01 09:40:00           39        white      female   \n",
       "2012-01-01 09:46:00           75        white        male   \n",
       "\n",
       "                                                             violation  \\\n",
       "datetime                                                                 \n",
       "2012-01-01 09:14:00                                           Speeding   \n",
       "2012-01-01 09:30:00                                           Speeding   \n",
       "2012-01-01 09:36:00                                           Speeding   \n",
       "2012-01-01 09:40:00                                           Speeding   \n",
       "2012-01-01 09:46:00  Failed to Present Evidence of Insurance Upon R...   \n",
       "\n",
       "                     count_violation(%) weather_rating  age_group  \n",
       "datetime                                                           \n",
       "2012-01-01 09:14:00            0.485253           Good      Adult  \n",
       "2012-01-01 09:30:00            0.485253           Good      Young  \n",
       "2012-01-01 09:36:00            0.485253           Good      Young  \n",
       "2012-01-01 09:40:00            0.485253           Good  Mid Adult  \n",
       "2012-01-01 09:46:00            0.083805           Good        Old  "
      ]
     },
     "execution_count": 928,
     "metadata": {},
     "output_type": "execute_result"
    }
   ],
   "source": [
    "police_weather_data.head()"
   ]
  },
  {
   "cell_type": "code",
   "execution_count": 929,
   "metadata": {},
   "outputs": [],
   "source": [
    "# Add 'weekday_name' column  to analyze by weekday or by weekend\n",
    "police_weather_data['weekday_name'] = police_weather_data.index.weekday_name"
   ]
  },
  {
   "cell_type": "code",
   "execution_count": 930,
   "metadata": {},
   "outputs": [
    {
     "data": {
      "text/html": [
       "<div>\n",
       "<style scoped>\n",
       "    .dataframe tbody tr th:only-of-type {\n",
       "        vertical-align: middle;\n",
       "    }\n",
       "\n",
       "    .dataframe tbody tr th {\n",
       "        vertical-align: top;\n",
       "    }\n",
       "\n",
       "    .dataframe thead th {\n",
       "        text-align: right;\n",
       "    }\n",
       "</style>\n",
       "<table border=\"1\" class=\"dataframe\">\n",
       "  <thead>\n",
       "    <tr style=\"text-align: right;\">\n",
       "      <th></th>\n",
       "      <th>subject_age</th>\n",
       "      <th>subject_race</th>\n",
       "      <th>subject_sex</th>\n",
       "      <th>violation</th>\n",
       "      <th>count_violation(%)</th>\n",
       "      <th>weather_rating</th>\n",
       "      <th>age_group</th>\n",
       "      <th>weekday_name</th>\n",
       "    </tr>\n",
       "    <tr>\n",
       "      <th>datetime</th>\n",
       "      <th></th>\n",
       "      <th></th>\n",
       "      <th></th>\n",
       "      <th></th>\n",
       "      <th></th>\n",
       "      <th></th>\n",
       "      <th></th>\n",
       "      <th></th>\n",
       "    </tr>\n",
       "  </thead>\n",
       "  <tbody>\n",
       "    <tr>\n",
       "      <th>2012-01-01 09:14:00</th>\n",
       "      <td>27</td>\n",
       "      <td>white</td>\n",
       "      <td>male</td>\n",
       "      <td>Speeding</td>\n",
       "      <td>0.485253</td>\n",
       "      <td>Good</td>\n",
       "      <td>Adult</td>\n",
       "      <td>Sunday</td>\n",
       "    </tr>\n",
       "    <tr>\n",
       "      <th>2012-01-01 09:30:00</th>\n",
       "      <td>24</td>\n",
       "      <td>black</td>\n",
       "      <td>female</td>\n",
       "      <td>Speeding</td>\n",
       "      <td>0.485253</td>\n",
       "      <td>Good</td>\n",
       "      <td>Young</td>\n",
       "      <td>Sunday</td>\n",
       "    </tr>\n",
       "    <tr>\n",
       "      <th>2012-01-01 09:36:00</th>\n",
       "      <td>23</td>\n",
       "      <td>white</td>\n",
       "      <td>male</td>\n",
       "      <td>Speeding</td>\n",
       "      <td>0.485253</td>\n",
       "      <td>Good</td>\n",
       "      <td>Young</td>\n",
       "      <td>Sunday</td>\n",
       "    </tr>\n",
       "    <tr>\n",
       "      <th>2012-01-01 09:40:00</th>\n",
       "      <td>39</td>\n",
       "      <td>white</td>\n",
       "      <td>female</td>\n",
       "      <td>Speeding</td>\n",
       "      <td>0.485253</td>\n",
       "      <td>Good</td>\n",
       "      <td>Mid Adult</td>\n",
       "      <td>Sunday</td>\n",
       "    </tr>\n",
       "    <tr>\n",
       "      <th>2012-01-01 09:46:00</th>\n",
       "      <td>75</td>\n",
       "      <td>white</td>\n",
       "      <td>male</td>\n",
       "      <td>Failed to Present Evidence of Insurance Upon R...</td>\n",
       "      <td>0.083805</td>\n",
       "      <td>Good</td>\n",
       "      <td>Old</td>\n",
       "      <td>Sunday</td>\n",
       "    </tr>\n",
       "  </tbody>\n",
       "</table>\n",
       "</div>"
      ],
      "text/plain": [
       "                     subject_age subject_race subject_sex  \\\n",
       "datetime                                                    \n",
       "2012-01-01 09:14:00           27        white        male   \n",
       "2012-01-01 09:30:00           24        black      female   \n",
       "2012-01-01 09:36:00           23        white        male   \n",
       "2012-01-01 09:40:00           39        white      female   \n",
       "2012-01-01 09:46:00           75        white        male   \n",
       "\n",
       "                                                             violation  \\\n",
       "datetime                                                                 \n",
       "2012-01-01 09:14:00                                           Speeding   \n",
       "2012-01-01 09:30:00                                           Speeding   \n",
       "2012-01-01 09:36:00                                           Speeding   \n",
       "2012-01-01 09:40:00                                           Speeding   \n",
       "2012-01-01 09:46:00  Failed to Present Evidence of Insurance Upon R...   \n",
       "\n",
       "                     count_violation(%) weather_rating  age_group weekday_name  \n",
       "datetime                                                                        \n",
       "2012-01-01 09:14:00            0.485253           Good      Adult       Sunday  \n",
       "2012-01-01 09:30:00            0.485253           Good      Young       Sunday  \n",
       "2012-01-01 09:36:00            0.485253           Good      Young       Sunday  \n",
       "2012-01-01 09:40:00            0.485253           Good  Mid Adult       Sunday  \n",
       "2012-01-01 09:46:00            0.083805           Good        Old       Sunday  "
      ]
     },
     "execution_count": 930,
     "metadata": {},
     "output_type": "execute_result"
    }
   ],
   "source": [
    "police_weather_data.head()"
   ]
  },
  {
   "cell_type": "code",
   "execution_count": 931,
   "metadata": {},
   "outputs": [],
   "source": [
    "week_violation = police_weather_data.groupby('weekday_name').violation.value_counts(normalize=True)"
   ]
  },
  {
   "cell_type": "code",
   "execution_count": 932,
   "metadata": {},
   "outputs": [
    {
     "data": {
      "text/plain": [
       "weekday_name  violation                                              \n",
       "Friday        Speeding                                                   0.470389\n",
       "              Others                                                     0.151366\n",
       "              Failed to Present Evidence of Insurance Upon Request       0.090452\n",
       "              Failed to Obey Seat Belt Requirements                      0.059995\n",
       "              License/Registration Violation                             0.058351\n",
       "              Failed to Obey Signal Lights                               0.043606\n",
       "              Disregarded Stop Sign                                      0.043413\n",
       "              Failed to Observe or Disregarded Traffic Control Device    0.018758\n",
       "              Made U Turn Where Prohibited (Muni Statute 603(1)          0.016244\n",
       "              Vehicle With Defective/Improper or No Tail Lamps           0.012763\n",
       "              Glass in Vehicle Did Not Permit Norman Vision              0.011748\n",
       "              Vehicle with one headlight (Muni 205(1))                   0.011699\n",
       "              Tinted Windows - Muni Statute 227(1)                       0.011216\n",
       "Monday        Speeding                                                   0.479110\n",
       "              Others                                                     0.155862\n",
       "              Failed to Present Evidence of Insurance Upon Request       0.084484\n",
       "              Failed to Obey Seat Belt Requirements                      0.063902\n",
       "              License/Registration Violation                             0.050136\n",
       "              Failed to Obey Signal Lights                               0.049213\n",
       "              Disregarded Stop Sign                                      0.037822\n",
       "              Failed to Observe or Disregarded Traffic Control Device    0.017064\n",
       "              Made U Turn Where Prohibited (Muni Statute 603(1)          0.014953\n",
       "              Vehicle with one headlight (Muni 205(1))                   0.012402\n",
       "              Glass in Vehicle Did Not Permit Norman Vision              0.012182\n",
       "              Vehicle With Defective/Improper or No Tail Lamps           0.011567\n",
       "              Tinted Windows - Muni Statute 227(1)                       0.011303\n",
       "Saturday      Speeding                                                   0.496948\n",
       "              Others                                                     0.141718\n",
       "              Failed to Present Evidence of Insurance Upon Request       0.082894\n",
       "              License/Registration Violation                             0.053135\n",
       "                                                                           ...   \n",
       "Thursday      Vehicle With Defective/Improper or No Tail Lamps           0.011622\n",
       "              Glass in Vehicle Did Not Permit Norman Vision              0.011361\n",
       "              Tinted Windows - Muni Statute 227(1)                       0.011249\n",
       "              Vehicle with one headlight (Muni 205(1))                   0.010244\n",
       "Tuesday       Speeding                                                   0.491336\n",
       "              Others                                                     0.152583\n",
       "              Failed to Present Evidence of Insurance Upon Request       0.080559\n",
       "              Failed to Obey Seat Belt Requirements                      0.057736\n",
       "              License/Registration Violation                             0.052014\n",
       "              Failed to Obey Signal Lights                               0.048070\n",
       "              Disregarded Stop Sign                                      0.040344\n",
       "              Failed to Observe or Disregarded Traffic Control Device    0.018879\n",
       "              Made U Turn Where Prohibited (Muni Statute 603(1)          0.015711\n",
       "              Vehicle With Defective/Improper or No Tail Lamps           0.011120\n",
       "              Tinted Windows - Muni Statute 227(1)                       0.010894\n",
       "              Glass in Vehicle Did Not Permit Norman Vision              0.010474\n",
       "              Vehicle with one headlight (Muni 205(1))                   0.010280\n",
       "Wednesday     Speeding                                                   0.473144\n",
       "              Others                                                     0.150139\n",
       "              Failed to Present Evidence of Insurance Upon Request       0.086346\n",
       "              Failed to Obey Seat Belt Requirements                      0.057365\n",
       "              License/Registration Violation                             0.057119\n",
       "              Failed to Obey Signal Lights                               0.050058\n",
       "              Disregarded Stop Sign                                      0.041697\n",
       "              Failed to Observe or Disregarded Traffic Control Device    0.018969\n",
       "              Made U Turn Where Prohibited (Muni Statute 603(1)          0.016335\n",
       "              Tinted Windows - Muni Statute 227(1)                       0.013805\n",
       "              Glass in Vehicle Did Not Permit Norman Vision              0.012295\n",
       "              Vehicle with one headlight (Muni 205(1))                   0.011698\n",
       "              Vehicle With Defective/Improper or No Tail Lamps           0.011030\n",
       "Name: violation, Length: 91, dtype: float64"
      ]
     },
     "execution_count": 932,
     "metadata": {},
     "output_type": "execute_result"
    }
   ],
   "source": [
    "week_violation"
   ]
  },
  {
   "cell_type": "code",
   "execution_count": 950,
   "metadata": {},
   "outputs": [],
   "source": [
    "week_violation = week_violation.unstack()"
   ]
  },
  {
   "cell_type": "code",
   "execution_count": 953,
   "metadata": {},
   "outputs": [
    {
     "data": {
      "text/html": [
       "<div>\n",
       "<style scoped>\n",
       "    .dataframe tbody tr th:only-of-type {\n",
       "        vertical-align: middle;\n",
       "    }\n",
       "\n",
       "    .dataframe tbody tr th {\n",
       "        vertical-align: top;\n",
       "    }\n",
       "\n",
       "    .dataframe thead th {\n",
       "        text-align: right;\n",
       "    }\n",
       "</style>\n",
       "<table border=\"1\" class=\"dataframe\">\n",
       "  <thead>\n",
       "    <tr style=\"text-align: right;\">\n",
       "      <th>weekday_name</th>\n",
       "      <th>Friday</th>\n",
       "      <th>Monday</th>\n",
       "      <th>Saturday</th>\n",
       "      <th>Sunday</th>\n",
       "      <th>Thursday</th>\n",
       "      <th>Tuesday</th>\n",
       "      <th>Wednesday</th>\n",
       "    </tr>\n",
       "    <tr>\n",
       "      <th>violation</th>\n",
       "      <th></th>\n",
       "      <th></th>\n",
       "      <th></th>\n",
       "      <th></th>\n",
       "      <th></th>\n",
       "      <th></th>\n",
       "      <th></th>\n",
       "    </tr>\n",
       "  </thead>\n",
       "  <tbody>\n",
       "    <tr>\n",
       "      <th>Disregarded Stop Sign</th>\n",
       "      <td>0.043413</td>\n",
       "      <td>0.037822</td>\n",
       "      <td>0.040996</td>\n",
       "      <td>0.034657</td>\n",
       "      <td>0.041533</td>\n",
       "      <td>0.040344</td>\n",
       "      <td>0.041697</td>\n",
       "    </tr>\n",
       "    <tr>\n",
       "      <th>Failed to Obey Seat Belt Requirements</th>\n",
       "      <td>0.059995</td>\n",
       "      <td>0.063902</td>\n",
       "      <td>0.052372</td>\n",
       "      <td>0.059881</td>\n",
       "      <td>0.060232</td>\n",
       "      <td>0.057736</td>\n",
       "      <td>0.057365</td>\n",
       "    </tr>\n",
       "    <tr>\n",
       "      <th>Failed to Obey Signal Lights</th>\n",
       "      <td>0.043606</td>\n",
       "      <td>0.049213</td>\n",
       "      <td>0.050985</td>\n",
       "      <td>0.045184</td>\n",
       "      <td>0.049691</td>\n",
       "      <td>0.048070</td>\n",
       "      <td>0.050058</td>\n",
       "    </tr>\n",
       "    <tr>\n",
       "      <th>Failed to Observe or Disregarded Traffic Control Device</th>\n",
       "      <td>0.018758</td>\n",
       "      <td>0.017064</td>\n",
       "      <td>0.019492</td>\n",
       "      <td>0.016286</td>\n",
       "      <td>0.016725</td>\n",
       "      <td>0.018879</td>\n",
       "      <td>0.018969</td>\n",
       "    </tr>\n",
       "    <tr>\n",
       "      <th>Failed to Present Evidence of Insurance Upon Request</th>\n",
       "      <td>0.090452</td>\n",
       "      <td>0.084484</td>\n",
       "      <td>0.082894</td>\n",
       "      <td>0.079940</td>\n",
       "      <td>0.085227</td>\n",
       "      <td>0.080559</td>\n",
       "      <td>0.086346</td>\n",
       "    </tr>\n",
       "    <tr>\n",
       "      <th>Glass in Vehicle Did Not Permit Norman Vision</th>\n",
       "      <td>0.011748</td>\n",
       "      <td>0.012182</td>\n",
       "      <td>0.010613</td>\n",
       "      <td>0.013108</td>\n",
       "      <td>0.011361</td>\n",
       "      <td>0.010474</td>\n",
       "      <td>0.012295</td>\n",
       "    </tr>\n",
       "    <tr>\n",
       "      <th>License/Registration Violation</th>\n",
       "      <td>0.058351</td>\n",
       "      <td>0.050136</td>\n",
       "      <td>0.053135</td>\n",
       "      <td>0.050348</td>\n",
       "      <td>0.055800</td>\n",
       "      <td>0.052014</td>\n",
       "      <td>0.057119</td>\n",
       "    </tr>\n",
       "    <tr>\n",
       "      <th>Made U Turn Where Prohibited (Muni Statute 603(1)</th>\n",
       "      <td>0.016244</td>\n",
       "      <td>0.014953</td>\n",
       "      <td>0.016509</td>\n",
       "      <td>0.018073</td>\n",
       "      <td>0.017135</td>\n",
       "      <td>0.015711</td>\n",
       "      <td>0.016335</td>\n",
       "    </tr>\n",
       "    <tr>\n",
       "      <th>Others</th>\n",
       "      <td>0.151366</td>\n",
       "      <td>0.155862</td>\n",
       "      <td>0.141718</td>\n",
       "      <td>0.146475</td>\n",
       "      <td>0.150711</td>\n",
       "      <td>0.152583</td>\n",
       "      <td>0.150139</td>\n",
       "    </tr>\n",
       "    <tr>\n",
       "      <th>Speeding</th>\n",
       "      <td>0.470389</td>\n",
       "      <td>0.479110</td>\n",
       "      <td>0.496948</td>\n",
       "      <td>0.504270</td>\n",
       "      <td>0.478470</td>\n",
       "      <td>0.491336</td>\n",
       "      <td>0.473144</td>\n",
       "    </tr>\n",
       "    <tr>\n",
       "      <th>Tinted Windows - Muni Statute 227(1)</th>\n",
       "      <td>0.011216</td>\n",
       "      <td>0.011303</td>\n",
       "      <td>0.012278</td>\n",
       "      <td>0.009235</td>\n",
       "      <td>0.011249</td>\n",
       "      <td>0.010894</td>\n",
       "      <td>0.013805</td>\n",
       "    </tr>\n",
       "    <tr>\n",
       "      <th>Vehicle With Defective/Improper or No Tail Lamps</th>\n",
       "      <td>0.012763</td>\n",
       "      <td>0.011567</td>\n",
       "      <td>0.010683</td>\n",
       "      <td>0.012314</td>\n",
       "      <td>0.011622</td>\n",
       "      <td>0.011120</td>\n",
       "      <td>0.011030</td>\n",
       "    </tr>\n",
       "    <tr>\n",
       "      <th>Vehicle with one headlight (Muni 205(1))</th>\n",
       "      <td>0.011699</td>\n",
       "      <td>0.012402</td>\n",
       "      <td>0.011376</td>\n",
       "      <td>0.010228</td>\n",
       "      <td>0.010244</td>\n",
       "      <td>0.010280</td>\n",
       "      <td>0.011698</td>\n",
       "    </tr>\n",
       "  </tbody>\n",
       "</table>\n",
       "</div>"
      ],
      "text/plain": [
       "weekday_name                                          Friday    Monday  \\\n",
       "violation                                                                \n",
       "Disregarded Stop Sign                               0.043413  0.037822   \n",
       "Failed to Obey Seat Belt Requirements               0.059995  0.063902   \n",
       "Failed to Obey Signal Lights                        0.043606  0.049213   \n",
       "Failed to Observe or Disregarded Traffic Contro...  0.018758  0.017064   \n",
       "Failed to Present Evidence of Insurance Upon Re...  0.090452  0.084484   \n",
       "Glass in Vehicle Did Not Permit Norman Vision       0.011748  0.012182   \n",
       "License/Registration Violation                      0.058351  0.050136   \n",
       "Made U Turn Where Prohibited (Muni Statute 603(1)   0.016244  0.014953   \n",
       "Others                                              0.151366  0.155862   \n",
       "Speeding                                            0.470389  0.479110   \n",
       "Tinted Windows - Muni Statute 227(1)                0.011216  0.011303   \n",
       "Vehicle With Defective/Improper or No Tail Lamps    0.012763  0.011567   \n",
       "Vehicle with one headlight (Muni 205(1))            0.011699  0.012402   \n",
       "\n",
       "weekday_name                                        Saturday    Sunday  \\\n",
       "violation                                                                \n",
       "Disregarded Stop Sign                               0.040996  0.034657   \n",
       "Failed to Obey Seat Belt Requirements               0.052372  0.059881   \n",
       "Failed to Obey Signal Lights                        0.050985  0.045184   \n",
       "Failed to Observe or Disregarded Traffic Contro...  0.019492  0.016286   \n",
       "Failed to Present Evidence of Insurance Upon Re...  0.082894  0.079940   \n",
       "Glass in Vehicle Did Not Permit Norman Vision       0.010613  0.013108   \n",
       "License/Registration Violation                      0.053135  0.050348   \n",
       "Made U Turn Where Prohibited (Muni Statute 603(1)   0.016509  0.018073   \n",
       "Others                                              0.141718  0.146475   \n",
       "Speeding                                            0.496948  0.504270   \n",
       "Tinted Windows - Muni Statute 227(1)                0.012278  0.009235   \n",
       "Vehicle With Defective/Improper or No Tail Lamps    0.010683  0.012314   \n",
       "Vehicle with one headlight (Muni 205(1))            0.011376  0.010228   \n",
       "\n",
       "weekday_name                                        Thursday   Tuesday  \\\n",
       "violation                                                                \n",
       "Disregarded Stop Sign                               0.041533  0.040344   \n",
       "Failed to Obey Seat Belt Requirements               0.060232  0.057736   \n",
       "Failed to Obey Signal Lights                        0.049691  0.048070   \n",
       "Failed to Observe or Disregarded Traffic Contro...  0.016725  0.018879   \n",
       "Failed to Present Evidence of Insurance Upon Re...  0.085227  0.080559   \n",
       "Glass in Vehicle Did Not Permit Norman Vision       0.011361  0.010474   \n",
       "License/Registration Violation                      0.055800  0.052014   \n",
       "Made U Turn Where Prohibited (Muni Statute 603(1)   0.017135  0.015711   \n",
       "Others                                              0.150711  0.152583   \n",
       "Speeding                                            0.478470  0.491336   \n",
       "Tinted Windows - Muni Statute 227(1)                0.011249  0.010894   \n",
       "Vehicle With Defective/Improper or No Tail Lamps    0.011622  0.011120   \n",
       "Vehicle with one headlight (Muni 205(1))            0.010244  0.010280   \n",
       "\n",
       "weekday_name                                        Wednesday  \n",
       "violation                                                      \n",
       "Disregarded Stop Sign                                0.041697  \n",
       "Failed to Obey Seat Belt Requirements                0.057365  \n",
       "Failed to Obey Signal Lights                         0.050058  \n",
       "Failed to Observe or Disregarded Traffic Contro...   0.018969  \n",
       "Failed to Present Evidence of Insurance Upon Re...   0.086346  \n",
       "Glass in Vehicle Did Not Permit Norman Vision        0.012295  \n",
       "License/Registration Violation                       0.057119  \n",
       "Made U Turn Where Prohibited (Muni Statute 603(1)    0.016335  \n",
       "Others                                               0.150139  \n",
       "Speeding                                             0.473144  \n",
       "Tinted Windows - Muni Statute 227(1)                 0.013805  \n",
       "Vehicle With Defective/Improper or No Tail Lamps     0.011030  \n",
       "Vehicle with one headlight (Muni 205(1))             0.011698  "
      ]
     },
     "execution_count": 953,
     "metadata": {},
     "output_type": "execute_result"
    }
   ],
   "source": [
    "week_violation"
   ]
  },
  {
   "cell_type": "code",
   "execution_count": 959,
   "metadata": {},
   "outputs": [],
   "source": [
    "# Change the order of day\n",
    "week_violation = week_violation[['Monday', 'Tuesday', 'Wednesday', 'Thursday', 'Friday', 'Saturday', 'Sunday']]"
   ]
  },
  {
   "cell_type": "code",
   "execution_count": 960,
   "metadata": {},
   "outputs": [
    {
     "data": {
      "text/html": [
       "<div>\n",
       "<style scoped>\n",
       "    .dataframe tbody tr th:only-of-type {\n",
       "        vertical-align: middle;\n",
       "    }\n",
       "\n",
       "    .dataframe tbody tr th {\n",
       "        vertical-align: top;\n",
       "    }\n",
       "\n",
       "    .dataframe thead th {\n",
       "        text-align: right;\n",
       "    }\n",
       "</style>\n",
       "<table border=\"1\" class=\"dataframe\">\n",
       "  <thead>\n",
       "    <tr style=\"text-align: right;\">\n",
       "      <th>weekday_name</th>\n",
       "      <th>Monday</th>\n",
       "      <th>Tuesday</th>\n",
       "      <th>Wednesday</th>\n",
       "      <th>Thursday</th>\n",
       "      <th>Friday</th>\n",
       "      <th>Saturday</th>\n",
       "      <th>Sunday</th>\n",
       "    </tr>\n",
       "    <tr>\n",
       "      <th>violation</th>\n",
       "      <th></th>\n",
       "      <th></th>\n",
       "      <th></th>\n",
       "      <th></th>\n",
       "      <th></th>\n",
       "      <th></th>\n",
       "      <th></th>\n",
       "    </tr>\n",
       "  </thead>\n",
       "  <tbody>\n",
       "    <tr>\n",
       "      <th>Disregarded Stop Sign</th>\n",
       "      <td>0.037822</td>\n",
       "      <td>0.040344</td>\n",
       "      <td>0.041697</td>\n",
       "      <td>0.041533</td>\n",
       "      <td>0.043413</td>\n",
       "      <td>0.040996</td>\n",
       "      <td>0.034657</td>\n",
       "    </tr>\n",
       "    <tr>\n",
       "      <th>Failed to Obey Seat Belt Requirements</th>\n",
       "      <td>0.063902</td>\n",
       "      <td>0.057736</td>\n",
       "      <td>0.057365</td>\n",
       "      <td>0.060232</td>\n",
       "      <td>0.059995</td>\n",
       "      <td>0.052372</td>\n",
       "      <td>0.059881</td>\n",
       "    </tr>\n",
       "    <tr>\n",
       "      <th>Failed to Obey Signal Lights</th>\n",
       "      <td>0.049213</td>\n",
       "      <td>0.048070</td>\n",
       "      <td>0.050058</td>\n",
       "      <td>0.049691</td>\n",
       "      <td>0.043606</td>\n",
       "      <td>0.050985</td>\n",
       "      <td>0.045184</td>\n",
       "    </tr>\n",
       "    <tr>\n",
       "      <th>Failed to Observe or Disregarded Traffic Control Device</th>\n",
       "      <td>0.017064</td>\n",
       "      <td>0.018879</td>\n",
       "      <td>0.018969</td>\n",
       "      <td>0.016725</td>\n",
       "      <td>0.018758</td>\n",
       "      <td>0.019492</td>\n",
       "      <td>0.016286</td>\n",
       "    </tr>\n",
       "    <tr>\n",
       "      <th>Failed to Present Evidence of Insurance Upon Request</th>\n",
       "      <td>0.084484</td>\n",
       "      <td>0.080559</td>\n",
       "      <td>0.086346</td>\n",
       "      <td>0.085227</td>\n",
       "      <td>0.090452</td>\n",
       "      <td>0.082894</td>\n",
       "      <td>0.079940</td>\n",
       "    </tr>\n",
       "    <tr>\n",
       "      <th>Glass in Vehicle Did Not Permit Norman Vision</th>\n",
       "      <td>0.012182</td>\n",
       "      <td>0.010474</td>\n",
       "      <td>0.012295</td>\n",
       "      <td>0.011361</td>\n",
       "      <td>0.011748</td>\n",
       "      <td>0.010613</td>\n",
       "      <td>0.013108</td>\n",
       "    </tr>\n",
       "    <tr>\n",
       "      <th>License/Registration Violation</th>\n",
       "      <td>0.050136</td>\n",
       "      <td>0.052014</td>\n",
       "      <td>0.057119</td>\n",
       "      <td>0.055800</td>\n",
       "      <td>0.058351</td>\n",
       "      <td>0.053135</td>\n",
       "      <td>0.050348</td>\n",
       "    </tr>\n",
       "    <tr>\n",
       "      <th>Made U Turn Where Prohibited (Muni Statute 603(1)</th>\n",
       "      <td>0.014953</td>\n",
       "      <td>0.015711</td>\n",
       "      <td>0.016335</td>\n",
       "      <td>0.017135</td>\n",
       "      <td>0.016244</td>\n",
       "      <td>0.016509</td>\n",
       "      <td>0.018073</td>\n",
       "    </tr>\n",
       "    <tr>\n",
       "      <th>Others</th>\n",
       "      <td>0.155862</td>\n",
       "      <td>0.152583</td>\n",
       "      <td>0.150139</td>\n",
       "      <td>0.150711</td>\n",
       "      <td>0.151366</td>\n",
       "      <td>0.141718</td>\n",
       "      <td>0.146475</td>\n",
       "    </tr>\n",
       "    <tr>\n",
       "      <th>Speeding</th>\n",
       "      <td>0.479110</td>\n",
       "      <td>0.491336</td>\n",
       "      <td>0.473144</td>\n",
       "      <td>0.478470</td>\n",
       "      <td>0.470389</td>\n",
       "      <td>0.496948</td>\n",
       "      <td>0.504270</td>\n",
       "    </tr>\n",
       "    <tr>\n",
       "      <th>Tinted Windows - Muni Statute 227(1)</th>\n",
       "      <td>0.011303</td>\n",
       "      <td>0.010894</td>\n",
       "      <td>0.013805</td>\n",
       "      <td>0.011249</td>\n",
       "      <td>0.011216</td>\n",
       "      <td>0.012278</td>\n",
       "      <td>0.009235</td>\n",
       "    </tr>\n",
       "    <tr>\n",
       "      <th>Vehicle With Defective/Improper or No Tail Lamps</th>\n",
       "      <td>0.011567</td>\n",
       "      <td>0.011120</td>\n",
       "      <td>0.011030</td>\n",
       "      <td>0.011622</td>\n",
       "      <td>0.012763</td>\n",
       "      <td>0.010683</td>\n",
       "      <td>0.012314</td>\n",
       "    </tr>\n",
       "    <tr>\n",
       "      <th>Vehicle with one headlight (Muni 205(1))</th>\n",
       "      <td>0.012402</td>\n",
       "      <td>0.010280</td>\n",
       "      <td>0.011698</td>\n",
       "      <td>0.010244</td>\n",
       "      <td>0.011699</td>\n",
       "      <td>0.011376</td>\n",
       "      <td>0.010228</td>\n",
       "    </tr>\n",
       "  </tbody>\n",
       "</table>\n",
       "</div>"
      ],
      "text/plain": [
       "weekday_name                                          Monday   Tuesday  \\\n",
       "violation                                                                \n",
       "Disregarded Stop Sign                               0.037822  0.040344   \n",
       "Failed to Obey Seat Belt Requirements               0.063902  0.057736   \n",
       "Failed to Obey Signal Lights                        0.049213  0.048070   \n",
       "Failed to Observe or Disregarded Traffic Contro...  0.017064  0.018879   \n",
       "Failed to Present Evidence of Insurance Upon Re...  0.084484  0.080559   \n",
       "Glass in Vehicle Did Not Permit Norman Vision       0.012182  0.010474   \n",
       "License/Registration Violation                      0.050136  0.052014   \n",
       "Made U Turn Where Prohibited (Muni Statute 603(1)   0.014953  0.015711   \n",
       "Others                                              0.155862  0.152583   \n",
       "Speeding                                            0.479110  0.491336   \n",
       "Tinted Windows - Muni Statute 227(1)                0.011303  0.010894   \n",
       "Vehicle With Defective/Improper or No Tail Lamps    0.011567  0.011120   \n",
       "Vehicle with one headlight (Muni 205(1))            0.012402  0.010280   \n",
       "\n",
       "weekday_name                                        Wednesday  Thursday  \\\n",
       "violation                                                                 \n",
       "Disregarded Stop Sign                                0.041697  0.041533   \n",
       "Failed to Obey Seat Belt Requirements                0.057365  0.060232   \n",
       "Failed to Obey Signal Lights                         0.050058  0.049691   \n",
       "Failed to Observe or Disregarded Traffic Contro...   0.018969  0.016725   \n",
       "Failed to Present Evidence of Insurance Upon Re...   0.086346  0.085227   \n",
       "Glass in Vehicle Did Not Permit Norman Vision        0.012295  0.011361   \n",
       "License/Registration Violation                       0.057119  0.055800   \n",
       "Made U Turn Where Prohibited (Muni Statute 603(1)    0.016335  0.017135   \n",
       "Others                                               0.150139  0.150711   \n",
       "Speeding                                             0.473144  0.478470   \n",
       "Tinted Windows - Muni Statute 227(1)                 0.013805  0.011249   \n",
       "Vehicle With Defective/Improper or No Tail Lamps     0.011030  0.011622   \n",
       "Vehicle with one headlight (Muni 205(1))             0.011698  0.010244   \n",
       "\n",
       "weekday_name                                          Friday  Saturday  \\\n",
       "violation                                                                \n",
       "Disregarded Stop Sign                               0.043413  0.040996   \n",
       "Failed to Obey Seat Belt Requirements               0.059995  0.052372   \n",
       "Failed to Obey Signal Lights                        0.043606  0.050985   \n",
       "Failed to Observe or Disregarded Traffic Contro...  0.018758  0.019492   \n",
       "Failed to Present Evidence of Insurance Upon Re...  0.090452  0.082894   \n",
       "Glass in Vehicle Did Not Permit Norman Vision       0.011748  0.010613   \n",
       "License/Registration Violation                      0.058351  0.053135   \n",
       "Made U Turn Where Prohibited (Muni Statute 603(1)   0.016244  0.016509   \n",
       "Others                                              0.151366  0.141718   \n",
       "Speeding                                            0.470389  0.496948   \n",
       "Tinted Windows - Muni Statute 227(1)                0.011216  0.012278   \n",
       "Vehicle With Defective/Improper or No Tail Lamps    0.012763  0.010683   \n",
       "Vehicle with one headlight (Muni 205(1))            0.011699  0.011376   \n",
       "\n",
       "weekday_name                                          Sunday  \n",
       "violation                                                     \n",
       "Disregarded Stop Sign                               0.034657  \n",
       "Failed to Obey Seat Belt Requirements               0.059881  \n",
       "Failed to Obey Signal Lights                        0.045184  \n",
       "Failed to Observe or Disregarded Traffic Contro...  0.016286  \n",
       "Failed to Present Evidence of Insurance Upon Re...  0.079940  \n",
       "Glass in Vehicle Did Not Permit Norman Vision       0.013108  \n",
       "License/Registration Violation                      0.050348  \n",
       "Made U Turn Where Prohibited (Muni Statute 603(1)   0.018073  \n",
       "Others                                              0.146475  \n",
       "Speeding                                            0.504270  \n",
       "Tinted Windows - Muni Statute 227(1)                0.009235  \n",
       "Vehicle With Defective/Improper or No Tail Lamps    0.012314  \n",
       "Vehicle with one headlight (Muni 205(1))            0.010228  "
      ]
     },
     "execution_count": 960,
     "metadata": {},
     "output_type": "execute_result"
    }
   ],
   "source": [
    "week_violation"
   ]
  },
  {
   "cell_type": "code",
   "execution_count": 968,
   "metadata": {},
   "outputs": [
    {
     "data": {
      "image/png": "[encoded data removed]",
      "text/plain": [
       "<Figure size 432x288 with 1 Axes>"
      ]
     },
     "metadata": {
      "needs_background": "light"
     },
     "output_type": "display_data"
    }
   ],
   "source": [
    "week_violation.loc['Speeding',:].plot()\n",
    "plt.ylabel('Speeding violation rate')\n",
    "plt.show()"
   ]
  },
  {
   "cell_type": "markdown",
   "metadata": {},
   "source": [
    "Speeding violation rate is slightly high on weekend than weekday."
   ]
  },
  {
   "cell_type": "markdown",
   "metadata": {},
   "source": [
    "## Does weather affect the violation rate?"
   ]
  },
  {
   "cell_type": "code",
   "execution_count": 985,
   "metadata": {},
   "outputs": [],
   "source": [
    "weather_violation = police_weather_data.loc[:,['violation','count_violation(%)', 'weather_rating']]"
   ]
  },
  {
   "cell_type": "code",
   "execution_count": 986,
   "metadata": {},
   "outputs": [
    {
     "data": {
      "text/html": [
       "<div>\n",
       "<style scoped>\n",
       "    .dataframe tbody tr th:only-of-type {\n",
       "        vertical-align: middle;\n",
       "    }\n",
       "\n",
       "    .dataframe tbody tr th {\n",
       "        vertical-align: top;\n",
       "    }\n",
       "\n",
       "    .dataframe thead th {\n",
       "        text-align: right;\n",
       "    }\n",
       "</style>\n",
       "<table border=\"1\" class=\"dataframe\">\n",
       "  <thead>\n",
       "    <tr style=\"text-align: right;\">\n",
       "      <th></th>\n",
       "      <th>violation</th>\n",
       "      <th>count_violation(%)</th>\n",
       "      <th>weather_rating</th>\n",
       "    </tr>\n",
       "    <tr>\n",
       "      <th>datetime</th>\n",
       "      <th></th>\n",
       "      <th></th>\n",
       "      <th></th>\n",
       "    </tr>\n",
       "  </thead>\n",
       "  <tbody>\n",
       "    <tr>\n",
       "      <th>2012-01-01 09:14:00</th>\n",
       "      <td>Speeding</td>\n",
       "      <td>0.485253</td>\n",
       "      <td>Good</td>\n",
       "    </tr>\n",
       "    <tr>\n",
       "      <th>2012-01-01 09:30:00</th>\n",
       "      <td>Speeding</td>\n",
       "      <td>0.485253</td>\n",
       "      <td>Good</td>\n",
       "    </tr>\n",
       "    <tr>\n",
       "      <th>2012-01-01 09:36:00</th>\n",
       "      <td>Speeding</td>\n",
       "      <td>0.485253</td>\n",
       "      <td>Good</td>\n",
       "    </tr>\n",
       "    <tr>\n",
       "      <th>2012-01-01 09:40:00</th>\n",
       "      <td>Speeding</td>\n",
       "      <td>0.485253</td>\n",
       "      <td>Good</td>\n",
       "    </tr>\n",
       "    <tr>\n",
       "      <th>2012-01-01 09:46:00</th>\n",
       "      <td>Failed to Present Evidence of Insurance Upon R...</td>\n",
       "      <td>0.083805</td>\n",
       "      <td>Good</td>\n",
       "    </tr>\n",
       "  </tbody>\n",
       "</table>\n",
       "</div>"
      ],
      "text/plain": [
       "                                                             violation  \\\n",
       "datetime                                                                 \n",
       "2012-01-01 09:14:00                                           Speeding   \n",
       "2012-01-01 09:30:00                                           Speeding   \n",
       "2012-01-01 09:36:00                                           Speeding   \n",
       "2012-01-01 09:40:00                                           Speeding   \n",
       "2012-01-01 09:46:00  Failed to Present Evidence of Insurance Upon R...   \n",
       "\n",
       "                     count_violation(%) weather_rating  \n",
       "datetime                                                \n",
       "2012-01-01 09:14:00            0.485253           Good  \n",
       "2012-01-01 09:30:00            0.485253           Good  \n",
       "2012-01-01 09:36:00            0.485253           Good  \n",
       "2012-01-01 09:40:00            0.485253           Good  \n",
       "2012-01-01 09:46:00            0.083805           Good  "
      ]
     },
     "execution_count": 986,
     "metadata": {},
     "output_type": "execute_result"
    }
   ],
   "source": [
    "weather_violation.head()"
   ]
  },
  {
   "cell_type": "code",
   "execution_count": null,
   "metadata": {},
   "outputs": [],
   "source": []
  },
  {
   "cell_type": "code",
   "execution_count": null,
   "metadata": {},
   "outputs": [],
   "source": []
  }
 ],
 "metadata": {
  "kernelspec": {
   "display_name": "Python 3",
   "language": "python",
   "name": "python3"
  },
  "language_info": {
   "codemirror_mode": {
    "name": "ipython",
    "version": 3
   },
   "file_extension": ".py",
   "mimetype": "text/x-python",
   "name": "python",
   "nbconvert_exporter": "python",
   "pygments_lexer": "ipython3",
   "version": "3.7.3"
  }
 },
 "nbformat": 4,
 "nbformat_minor": 2
}
