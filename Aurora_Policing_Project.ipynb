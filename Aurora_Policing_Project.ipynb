{
 "cells": [
  {
   "cell_type": "markdown",
   "metadata": {},
   "source": [
    "# Aurora Policing Project"
   ]
  },
  {
   "cell_type": "markdown",
   "metadata": {},
   "source": [
    "## About the policing data\n",
    "\n",
    "Throughout this project, I will be analyzing a dataset of traffic stops in Aurora Colorado that was collected by the \"Stanford Open Policing Project\". [Stanford Open Policing Project Data](https://openpolicing.stanford.edu/data/)\n",
    "\n",
    "\n",
    "\n",
    "<table>\n",
    "  <tr>\n",
    "    <td>Column name</td>\n",
    "    <td>Column meaning</td>\n",
    "    <td>Example value</td>\n",
    "  </tr>\n",
    "  <tr>\n",
    "    <td>raw_row_number</td>\n",
    "    <td>An number used to join clean data back to the raw data</td>\n",
    "    <td>38299</td>\n",
    "  </tr>\n",
    "  <tr>\n",
    "    <td>date</td>\n",
    "    <td>The date of the stop, in YYYY-MM-DD format. Some states do not provide\n",
    "    the exact stop date: for example, they only provide the year or quarter in\n",
    "    which the stop occurred. For these states, stop_date is set to the date at\n",
    "    the beginning of the period: for example, January 1 if only year is\n",
    "    provided.</td>\n",
    "    <td>\"2017-02-02\"</td>\n",
    "  </tr>\n",
    "  <tr>\n",
    "    <td>time</td>\n",
    "    <td>The 24-hour time of the stop, in HH:MM format.</td>\n",
    "    <td>20:15</td>\n",
    "  </tr>\n",
    "  <tr>\n",
    "    <td>location</td>\n",
    "    <td>The freeform text of the location. Occasionally, this represents the\n",
    "    concatenation of several raw fields, i.e. street_number, street_name</td>\n",
    "    <td>\"248 Stockton Rd.\"</td>\n",
    "  </tr>\n",
    "  <tr>\n",
    "    <td>lat</td>\n",
    "    <td>The latitude of the stop. If not provided by the department, we\n",
    "    attempt to geocode any provided address or location using\n",
    "    Google Maps. Google Maps returns a \"best effort\" response, which may not\n",
    "    be completely accurate if the provided location was malformed or\n",
    "    underspecified. To protect against suprious responses, geocodes more than\n",
    "    4 standard deviations from the median stop lat/lng are set to NA.\n",
    "    <td>72.23545</td>\n",
    "  </tr>\n",
    "  <tr>\n",
    "    <td>lng</td>\n",
    "    <td>The longitude of the stop. If not provided by the department, we\n",
    "    attempt to geocode any provided address or location using\n",
    "    Google Maps. Google Maps returns a \"best effort\" response, which may not\n",
    "    be completely accurate if the provided location was malformed or\n",
    "    underspecified. To protect against suprious responses, geocodes more than\n",
    "    4 standard deviations from the median stop lat/lng are set to NA.\n",
    "    </td>\n",
    "    <td>115.2808</td>\n",
    "  </tr>\n",
    "  \n",
    "  <tr>\n",
    "    <td>district</td>\n",
    "    <td>Police district. If not provided, but we have retrieved police\n",
    "    department shapfiles and the location of the stop, we geocode the stop and\n",
    "    find the district using the shapefiles.</td>\n",
    "    <td>8</td>\n",
    "  </tr>\n",
    "  \n",
    "  <tr>\n",
    "    <td>subject_age</td>\n",
    "    <td>The age of the stopped subject. When date of birth is given, we\n",
    "    calculate the age based on the stop date. Values outside the range of\n",
    "    10-110 are coerced to NA.</td>\n",
    "    <td>54.23</td>\n",
    "  </tr>\n",
    "  <tr>\n",
    "    <td>subject_race</td>\n",
    "    <td>The race of the stopped subject. Values are standardized to white,\n",
    "    black, hispanic, asian/pacific islander, and other/unknown</td>\n",
    "    <td>\"hispanic\"</td>\n",
    "  </tr>\n",
    "  <tr>\n",
    "    <td>subject_sex</td>\n",
    "    <td>The recorded sex of the stopped subject.</td>\n",
    "    <td>\"female\"</td>\n",
    "  </tr>\n",
    " \n",
    "  <tr>\n",
    "    <td>type</td>\n",
    "    <td>Type of stop: vehicular or pedestrian.</td>\n",
    "    <td>\"vehicular\"</td>\n",
    "  </tr>\n",
    "  \n",
    "  <tr>\n",
    "    <td>violation</td>\n",
    "    <td>Specific violation of stop where provided. What is recorded here varies\n",
    "    widely across police departments.</td>\n",
    "    <td>\"SPEEDING 15-20 OVER\"</td>\n",
    "  </tr>\n",
    "  <tr>\n",
    "    <td>citation_issued</td>\n",
    "    <td>Indicates whether a citation was issued.</td>\n",
    "    <td>TRUE</td>\n",
    "  </tr>\n",
    "  \n",
    "  <tr>\n",
    "    <td>outcome</td>\n",
    "    <td>The strictest action taken among arrest, citation, warning, and\n",
    "    summons.</td>\n",
    "    <td>\"citation\"</td>\n",
    "  </tr>\n",
    "  \n",
    "</table>\n",
    "\n"
   ]
  },
  {
   "cell_type": "markdown",
   "metadata": {},
   "source": [
    "## Preparing the Aurora policing data for analysis"
   ]
  },
  {
   "cell_type": "code",
   "execution_count": 502,
   "metadata": {},
   "outputs": [],
   "source": [
    "# Import numpy library\n",
    "import numpy as np"
   ]
  },
  {
   "cell_type": "code",
   "execution_count": 503,
   "metadata": {},
   "outputs": [],
   "source": [
    "# Import pandas library \n",
    "import pandas as pd"
   ]
  },
  {
   "cell_type": "code",
   "execution_count": 504,
   "metadata": {},
   "outputs": [],
   "source": [
    "# Import matplotlib.pyplot library \n",
    "import matplotlib.pyplot as plt"
   ]
  },
  {
   "cell_type": "code",
   "execution_count": 505,
   "metadata": {},
   "outputs": [],
   "source": [
    "# Read file into dataframe named data \n",
    "data = pd.read_csv(\"co_aurora_2019_02_25 copy.csv\")"
   ]
  },
  {
   "cell_type": "markdown",
   "metadata": {},
   "source": [
    "### Examing the dataset"
   ]
  },
  {
   "cell_type": "code",
   "execution_count": 506,
   "metadata": {
    "scrolled": true
   },
   "outputs": [
    {
     "data": {
      "text/html": [
       "<div>\n",
       "<style scoped>\n",
       "    .dataframe tbody tr th:only-of-type {\n",
       "        vertical-align: middle;\n",
       "    }\n",
       "\n",
       "    .dataframe tbody tr th {\n",
       "        vertical-align: top;\n",
       "    }\n",
       "\n",
       "    .dataframe thead th {\n",
       "        text-align: right;\n",
       "    }\n",
       "</style>\n",
       "<table border=\"1\" class=\"dataframe\">\n",
       "  <thead>\n",
       "    <tr style=\"text-align: right;\">\n",
       "      <th></th>\n",
       "      <th>raw_row_number</th>\n",
       "      <th>date</th>\n",
       "      <th>time</th>\n",
       "      <th>location</th>\n",
       "      <th>lat</th>\n",
       "      <th>lng</th>\n",
       "      <th>district</th>\n",
       "      <th>subject_age</th>\n",
       "      <th>subject_race</th>\n",
       "      <th>subject_sex</th>\n",
       "      <th>type</th>\n",
       "      <th>violation</th>\n",
       "      <th>citation_issued</th>\n",
       "      <th>outcome</th>\n",
       "    </tr>\n",
       "  </thead>\n",
       "  <tbody>\n",
       "    <tr>\n",
       "      <th>0</th>\n",
       "      <td>1</td>\n",
       "      <td>2012-01-01</td>\n",
       "      <td>09:14:00</td>\n",
       "      <td>S I225 NB HWY AT E ALAMEDA AVE</td>\n",
       "      <td>NaN</td>\n",
       "      <td>NaN</td>\n",
       "      <td>NaN</td>\n",
       "      <td>27.376370</td>\n",
       "      <td>white</td>\n",
       "      <td>male</td>\n",
       "      <td>vehicular</td>\n",
       "      <td>Speeding (20+ Over) - Muni Statue 1101</td>\n",
       "      <td>True</td>\n",
       "      <td>citation</td>\n",
       "    </tr>\n",
       "    <tr>\n",
       "      <th>1</th>\n",
       "      <td>2</td>\n",
       "      <td>2012-01-01</td>\n",
       "      <td>09:30:00</td>\n",
       "      <td>2600 S I225 NB HWY</td>\n",
       "      <td>NaN</td>\n",
       "      <td>NaN</td>\n",
       "      <td>NaN</td>\n",
       "      <td>23.658287</td>\n",
       "      <td>black</td>\n",
       "      <td>female</td>\n",
       "      <td>vehicular</td>\n",
       "      <td>Speeding (20+ Over) - Muni Statue 1101</td>\n",
       "      <td>True</td>\n",
       "      <td>citation</td>\n",
       "    </tr>\n",
       "    <tr>\n",
       "      <th>2</th>\n",
       "      <td>3</td>\n",
       "      <td>2012-01-01</td>\n",
       "      <td>09:36:00</td>\n",
       "      <td>N I225 SB HWY AT E 6TH AVE</td>\n",
       "      <td>39.725279</td>\n",
       "      <td>-104.821160</td>\n",
       "      <td>2.0</td>\n",
       "      <td>23.088801</td>\n",
       "      <td>white</td>\n",
       "      <td>male</td>\n",
       "      <td>vehicular</td>\n",
       "      <td>Speeding (20+ Over) - Muni Statue 1101</td>\n",
       "      <td>True</td>\n",
       "      <td>citation</td>\n",
       "    </tr>\n",
       "    <tr>\n",
       "      <th>3</th>\n",
       "      <td>4</td>\n",
       "      <td>2012-01-01</td>\n",
       "      <td>09:40:00</td>\n",
       "      <td>2300 BLOCK S I225 NB HWY</td>\n",
       "      <td>NaN</td>\n",
       "      <td>NaN</td>\n",
       "      <td>NaN</td>\n",
       "      <td>38.503239</td>\n",
       "      <td>white</td>\n",
       "      <td>female</td>\n",
       "      <td>vehicular</td>\n",
       "      <td>Speeding (20+ Over) - Muni Statue 1101</td>\n",
       "      <td>True</td>\n",
       "      <td>citation</td>\n",
       "    </tr>\n",
       "    <tr>\n",
       "      <th>4</th>\n",
       "      <td>5</td>\n",
       "      <td>2012-01-01</td>\n",
       "      <td>09:46:00</td>\n",
       "      <td>E VIRGINIA PL AT S PEORIA ST</td>\n",
       "      <td>39.706912</td>\n",
       "      <td>-104.847213</td>\n",
       "      <td>1.0</td>\n",
       "      <td>75.429441</td>\n",
       "      <td>white</td>\n",
       "      <td>male</td>\n",
       "      <td>vehicular</td>\n",
       "      <td>Failed to Present Evidence of Insurance Upon R...</td>\n",
       "      <td>True</td>\n",
       "      <td>citation</td>\n",
       "    </tr>\n",
       "  </tbody>\n",
       "</table>\n",
       "</div>"
      ],
      "text/plain": [
       "   raw_row_number        date      time                        location  \\\n",
       "0               1  2012-01-01  09:14:00  S I225 NB HWY AT E ALAMEDA AVE   \n",
       "1               2  2012-01-01  09:30:00              2600 S I225 NB HWY   \n",
       "2               3  2012-01-01  09:36:00      N I225 SB HWY AT E 6TH AVE   \n",
       "3               4  2012-01-01  09:40:00        2300 BLOCK S I225 NB HWY   \n",
       "4               5  2012-01-01  09:46:00    E VIRGINIA PL AT S PEORIA ST   \n",
       "\n",
       "         lat         lng  district  subject_age subject_race subject_sex  \\\n",
       "0        NaN         NaN       NaN    27.376370        white        male   \n",
       "1        NaN         NaN       NaN    23.658287        black      female   \n",
       "2  39.725279 -104.821160       2.0    23.088801        white        male   \n",
       "3        NaN         NaN       NaN    38.503239        white      female   \n",
       "4  39.706912 -104.847213       1.0    75.429441        white        male   \n",
       "\n",
       "        type                                          violation  \\\n",
       "0  vehicular             Speeding (20+ Over) - Muni Statue 1101   \n",
       "1  vehicular             Speeding (20+ Over) - Muni Statue 1101   \n",
       "2  vehicular             Speeding (20+ Over) - Muni Statue 1101   \n",
       "3  vehicular             Speeding (20+ Over) - Muni Statue 1101   \n",
       "4  vehicular  Failed to Present Evidence of Insurance Upon R...   \n",
       "\n",
       "   citation_issued   outcome  \n",
       "0             True  citation  \n",
       "1             True  citation  \n",
       "2             True  citation  \n",
       "3             True  citation  \n",
       "4             True  citation  "
      ]
     },
     "execution_count": 506,
     "metadata": {},
     "output_type": "execute_result"
    }
   ],
   "source": [
    "# Examine the head of dataframe \n",
    "data.head()"
   ]
  },
  {
   "cell_type": "markdown",
   "metadata": {},
   "source": [
    "#### Aurora District information \n",
    "[Aurora District (1,2,3) Map](https://wiki.radioreference.com/images/3/3b/Aurora_Beat_Map.pdf)"
   ]
  },
  {
   "cell_type": "markdown",
   "metadata": {},
   "source": [
    "## Dropping columns\n",
    "Dropping the columns which are not useful to analysis. "
   ]
  },
  {
   "cell_type": "code",
   "execution_count": 507,
   "metadata": {
    "scrolled": true
   },
   "outputs": [
    {
     "name": "stdout",
     "output_type": "stream",
     "text": [
      "raw_row_number         0\n",
      "date                   0\n",
      "time                 943\n",
      "location              12\n",
      "lat                31629\n",
      "lng                31629\n",
      "district           33838\n",
      "subject_age         5863\n",
      "subject_race           4\n",
      "subject_sex         2006\n",
      "type                4278\n",
      "violation           3571\n",
      "citation_issued        0\n",
      "outcome                0\n",
      "dtype: int64\n"
     ]
    }
   ],
   "source": [
    "# Count the number of missing values in each column\n",
    "print(data.isnull().sum())"
   ]
  },
  {
   "cell_type": "code",
   "execution_count": 508,
   "metadata": {},
   "outputs": [
    {
     "data": {
      "text/plain": [
       "(174363, 14)"
      ]
     },
     "execution_count": 508,
     "metadata": {},
     "output_type": "execute_result"
    }
   ],
   "source": [
    "data.shape"
   ]
  },
  {
   "cell_type": "markdown",
   "metadata": {},
   "source": [
    "#### Dropping raw_row_number, because I will not use this number as reference number"
   ]
  },
  {
   "cell_type": "code",
   "execution_count": 509,
   "metadata": {},
   "outputs": [
    {
     "name": "stdout",
     "output_type": "stream",
     "text": [
      "(174363, 13)\n"
     ]
    }
   ],
   "source": [
    "data.drop(['raw_row_number'], axis = 'columns', inplace = True)\n",
    "print(data.shape)"
   ]
  },
  {
   "cell_type": "markdown",
   "metadata": {},
   "source": [
    "#### Dropping lat, lng, and district columns\n",
    "I will use 'location' instead using 'lat' and 'lng'. I will not use police district column."
   ]
  },
  {
   "cell_type": "code",
   "execution_count": 510,
   "metadata": {},
   "outputs": [
    {
     "name": "stdout",
     "output_type": "stream",
     "text": [
      "(174363, 10)\n"
     ]
    }
   ],
   "source": [
    "# Drop 'lat', and 'lng' columns\n",
    "data.drop(['lat','lng', 'district'], axis = 'columns', inplace = True)\n",
    "print(data.shape)"
   ]
  },
  {
   "cell_type": "markdown",
   "metadata": {},
   "source": [
    "I will drop 'type' column because type pedestrian only has 24 rows out of 163803. "
   ]
  },
  {
   "cell_type": "code",
   "execution_count": 511,
   "metadata": {},
   "outputs": [
    {
     "data": {
      "text/plain": [
       "vehicular     170061\n",
       "pedestrian        24\n",
       "Name: type, dtype: int64"
      ]
     },
     "execution_count": 511,
     "metadata": {},
     "output_type": "execute_result"
    }
   ],
   "source": [
    "data.type.value_counts()"
   ]
  },
  {
   "cell_type": "code",
   "execution_count": 512,
   "metadata": {},
   "outputs": [],
   "source": [
    "# Drop 'type' column\n",
    "data.drop(['type'], axis = 'columns', inplace = True)"
   ]
  },
  {
   "cell_type": "markdown",
   "metadata": {},
   "source": [
    "#### Dropping rows\n",
    "I will drop the rows which contain any missing values if the fraction of missing row is small. (less than 5%)"
   ]
  },
  {
   "cell_type": "code",
   "execution_count": 513,
   "metadata": {},
   "outputs": [
    {
     "name": "stdout",
     "output_type": "stream",
     "text": [
      "date               0.000000\n",
      "time               0.005408\n",
      "location           0.000069\n",
      "subject_age        0.033625\n",
      "subject_race       0.000023\n",
      "subject_sex        0.011505\n",
      "violation          0.020480\n",
      "citation_issued    0.000000\n",
      "outcome            0.000000\n",
      "dtype: float64\n"
     ]
    }
   ],
   "source": [
    "# Calculate the percentage of missing data \n",
    "print(data.isnull().sum()/data.shape[0])"
   ]
  },
  {
   "cell_type": "code",
   "execution_count": 514,
   "metadata": {},
   "outputs": [
    {
     "name": "stdout",
     "output_type": "stream",
     "text": [
      "(163978, 9)\n"
     ]
    }
   ],
   "source": [
    "data.dropna(subset=['location', 'time', 'subject_age', 'subject_race', 'subject_sex', 'violation'], inplace = True)\n",
    "print(data.shape)"
   ]
  },
  {
   "cell_type": "code",
   "execution_count": 515,
   "metadata": {},
   "outputs": [
    {
     "name": "stdout",
     "output_type": "stream",
     "text": [
      "date               0\n",
      "time               0\n",
      "location           0\n",
      "subject_age        0\n",
      "subject_race       0\n",
      "subject_sex        0\n",
      "violation          0\n",
      "citation_issued    0\n",
      "outcome            0\n",
      "dtype: int64\n"
     ]
    }
   ],
   "source": [
    "# Count the number of missing values in each column (again)\n",
    "print(data.isnull().sum())"
   ]
  },
  {
   "cell_type": "code",
   "execution_count": 516,
   "metadata": {},
   "outputs": [
    {
     "data": {
      "text/plain": [
       "(163978, 9)"
      ]
     },
     "execution_count": 516,
     "metadata": {},
     "output_type": "execute_result"
    }
   ],
   "source": [
    "# Examine the shape of the Dataframe\n",
    "data.shape"
   ]
  },
  {
   "cell_type": "code",
   "execution_count": 517,
   "metadata": {
    "scrolled": true
   },
   "outputs": [
    {
     "data": {
      "text/html": [
       "<div>\n",
       "<style scoped>\n",
       "    .dataframe tbody tr th:only-of-type {\n",
       "        vertical-align: middle;\n",
       "    }\n",
       "\n",
       "    .dataframe tbody tr th {\n",
       "        vertical-align: top;\n",
       "    }\n",
       "\n",
       "    .dataframe thead th {\n",
       "        text-align: right;\n",
       "    }\n",
       "</style>\n",
       "<table border=\"1\" class=\"dataframe\">\n",
       "  <thead>\n",
       "    <tr style=\"text-align: right;\">\n",
       "      <th></th>\n",
       "      <th>date</th>\n",
       "      <th>time</th>\n",
       "      <th>location</th>\n",
       "      <th>subject_age</th>\n",
       "      <th>subject_race</th>\n",
       "      <th>subject_sex</th>\n",
       "      <th>violation</th>\n",
       "      <th>citation_issued</th>\n",
       "      <th>outcome</th>\n",
       "    </tr>\n",
       "  </thead>\n",
       "  <tbody>\n",
       "    <tr>\n",
       "      <th>0</th>\n",
       "      <td>2012-01-01</td>\n",
       "      <td>09:14:00</td>\n",
       "      <td>S I225 NB HWY AT E ALAMEDA AVE</td>\n",
       "      <td>27.376370</td>\n",
       "      <td>white</td>\n",
       "      <td>male</td>\n",
       "      <td>Speeding (20+ Over) - Muni Statue 1101</td>\n",
       "      <td>True</td>\n",
       "      <td>citation</td>\n",
       "    </tr>\n",
       "    <tr>\n",
       "      <th>1</th>\n",
       "      <td>2012-01-01</td>\n",
       "      <td>09:30:00</td>\n",
       "      <td>2600 S I225 NB HWY</td>\n",
       "      <td>23.658287</td>\n",
       "      <td>black</td>\n",
       "      <td>female</td>\n",
       "      <td>Speeding (20+ Over) - Muni Statue 1101</td>\n",
       "      <td>True</td>\n",
       "      <td>citation</td>\n",
       "    </tr>\n",
       "    <tr>\n",
       "      <th>2</th>\n",
       "      <td>2012-01-01</td>\n",
       "      <td>09:36:00</td>\n",
       "      <td>N I225 SB HWY AT E 6TH AVE</td>\n",
       "      <td>23.088801</td>\n",
       "      <td>white</td>\n",
       "      <td>male</td>\n",
       "      <td>Speeding (20+ Over) - Muni Statue 1101</td>\n",
       "      <td>True</td>\n",
       "      <td>citation</td>\n",
       "    </tr>\n",
       "    <tr>\n",
       "      <th>3</th>\n",
       "      <td>2012-01-01</td>\n",
       "      <td>09:40:00</td>\n",
       "      <td>2300 BLOCK S I225 NB HWY</td>\n",
       "      <td>38.503239</td>\n",
       "      <td>white</td>\n",
       "      <td>female</td>\n",
       "      <td>Speeding (20+ Over) - Muni Statue 1101</td>\n",
       "      <td>True</td>\n",
       "      <td>citation</td>\n",
       "    </tr>\n",
       "    <tr>\n",
       "      <th>4</th>\n",
       "      <td>2012-01-01</td>\n",
       "      <td>09:46:00</td>\n",
       "      <td>E VIRGINIA PL AT S PEORIA ST</td>\n",
       "      <td>75.429441</td>\n",
       "      <td>white</td>\n",
       "      <td>male</td>\n",
       "      <td>Failed to Present Evidence of Insurance Upon R...</td>\n",
       "      <td>True</td>\n",
       "      <td>citation</td>\n",
       "    </tr>\n",
       "  </tbody>\n",
       "</table>\n",
       "</div>"
      ],
      "text/plain": [
       "         date      time                        location  subject_age  \\\n",
       "0  2012-01-01  09:14:00  S I225 NB HWY AT E ALAMEDA AVE    27.376370   \n",
       "1  2012-01-01  09:30:00              2600 S I225 NB HWY    23.658287   \n",
       "2  2012-01-01  09:36:00      N I225 SB HWY AT E 6TH AVE    23.088801   \n",
       "3  2012-01-01  09:40:00        2300 BLOCK S I225 NB HWY    38.503239   \n",
       "4  2012-01-01  09:46:00    E VIRGINIA PL AT S PEORIA ST    75.429441   \n",
       "\n",
       "  subject_race subject_sex                                          violation  \\\n",
       "0        white        male             Speeding (20+ Over) - Muni Statue 1101   \n",
       "1        black      female             Speeding (20+ Over) - Muni Statue 1101   \n",
       "2        white        male             Speeding (20+ Over) - Muni Statue 1101   \n",
       "3        white      female             Speeding (20+ Over) - Muni Statue 1101   \n",
       "4        white        male  Failed to Present Evidence of Insurance Upon R...   \n",
       "\n",
       "   citation_issued   outcome  \n",
       "0             True  citation  \n",
       "1             True  citation  \n",
       "2             True  citation  \n",
       "3             True  citation  \n",
       "4             True  citation  "
      ]
     },
     "execution_count": 517,
     "metadata": {},
     "output_type": "execute_result"
    }
   ],
   "source": [
    "data.head()"
   ]
  },
  {
   "cell_type": "code",
   "execution_count": 518,
   "metadata": {},
   "outputs": [
    {
     "data": {
      "text/plain": [
       "S PARKER RD AT S PEORIA ST             3920\n",
       "E I70 HWY EB AT N CHAMBERS RD          2097\n",
       "15300 BLOCK E I70 EB HWY               1608\n",
       "S PARKER RD AT E LEHIGH AVE            1018\n",
       "E COLFAX AVE AT N ALTON ST              962\n",
       "E 10TH AVE AT N AIRPORT BLVD            956\n",
       "3400 BLOCK S PARKER RD                  929\n",
       "E QUINCY AVE AT S GUN CLUB SH 30 RD     903\n",
       "N AIRPORT BLVD AT E 10TH AVE            848\n",
       "S PARKER RD AT E HAMPDEN AVE            803\n",
       "Name: location, dtype: int64"
      ]
     },
     "execution_count": 518,
     "metadata": {},
     "output_type": "execute_result"
    }
   ],
   "source": [
    "data.location.value_counts().head(10)"
   ]
  },
  {
   "cell_type": "markdown",
   "metadata": {},
   "source": [
    "## About the aurora weather data\n",
    "[NOAA](https://www.ncdc.noaa.gov/cdo-web/)"
   ]
  },
  {
   "cell_type": "markdown",
   "metadata": {},
   "source": [
    "<p style='text-align: justify;'> \n",
    "I added new weather data to determind if whether conditions have impact on police behavior. The weather data was collected by the National Centers for Environmental Information , and the duration of the weather data is from 01/01/2012 to 12/31/2016.\n",
    "One possible hypothesis is that weather conditions impact on police behavior during traffic stop. Even though dataset has specific stop locatioin, I would use the data from one station(\"Centennial International Airpot Station\") near Aurora. This is not ideal, but Aurora is a small city and airport weather statation tends to have more weather dataset than the others, it will give me a general idea of the weather condition thourghout the city. </p> "
   ]
  },
  {
   "cell_type": "markdown",
   "metadata": {},
   "source": [
    "## Preparing Aurora weather data for analysis"
   ]
  },
  {
   "cell_type": "markdown",
   "metadata": {},
   "source": [
    "### Examing the dataset"
   ]
  },
  {
   "cell_type": "code",
   "execution_count": 519,
   "metadata": {},
   "outputs": [],
   "source": [
    "weather = pd.read_csv('weather.csv')"
   ]
  },
  {
   "cell_type": "code",
   "execution_count": 520,
   "metadata": {},
   "outputs": [
    {
     "data": {
      "text/html": [
       "<div>\n",
       "<style scoped>\n",
       "    .dataframe tbody tr th:only-of-type {\n",
       "        vertical-align: middle;\n",
       "    }\n",
       "\n",
       "    .dataframe tbody tr th {\n",
       "        vertical-align: top;\n",
       "    }\n",
       "\n",
       "    .dataframe thead th {\n",
       "        text-align: right;\n",
       "    }\n",
       "</style>\n",
       "<table border=\"1\" class=\"dataframe\">\n",
       "  <thead>\n",
       "    <tr style=\"text-align: right;\">\n",
       "      <th></th>\n",
       "      <th>STATION</th>\n",
       "      <th>NAME</th>\n",
       "      <th>DATE</th>\n",
       "      <th>AWND</th>\n",
       "      <th>PRCP</th>\n",
       "      <th>SNOW</th>\n",
       "      <th>SNWD</th>\n",
       "      <th>TAVG</th>\n",
       "      <th>TMAX</th>\n",
       "      <th>TMIN</th>\n",
       "      <th>WT01</th>\n",
       "      <th>WT02</th>\n",
       "      <th>WT03</th>\n",
       "      <th>WT04</th>\n",
       "      <th>WT05</th>\n",
       "      <th>WT06</th>\n",
       "      <th>WT08</th>\n",
       "      <th>WT09</th>\n",
       "    </tr>\n",
       "  </thead>\n",
       "  <tbody>\n",
       "    <tr>\n",
       "      <th>0</th>\n",
       "      <td>USW00093067</td>\n",
       "      <td>DENVER CENTENNIAL AIRPORT, CO US</td>\n",
       "      <td>2012-01-01</td>\n",
       "      <td>6.04</td>\n",
       "      <td>0.0</td>\n",
       "      <td>NaN</td>\n",
       "      <td>NaN</td>\n",
       "      <td>NaN</td>\n",
       "      <td>38.0</td>\n",
       "      <td>18.0</td>\n",
       "      <td>NaN</td>\n",
       "      <td>NaN</td>\n",
       "      <td>NaN</td>\n",
       "      <td>NaN</td>\n",
       "      <td>NaN</td>\n",
       "      <td>NaN</td>\n",
       "      <td>NaN</td>\n",
       "      <td>NaN</td>\n",
       "    </tr>\n",
       "    <tr>\n",
       "      <th>1</th>\n",
       "      <td>USW00093067</td>\n",
       "      <td>DENVER CENTENNIAL AIRPORT, CO US</td>\n",
       "      <td>2012-01-02</td>\n",
       "      <td>6.71</td>\n",
       "      <td>0.0</td>\n",
       "      <td>NaN</td>\n",
       "      <td>NaN</td>\n",
       "      <td>NaN</td>\n",
       "      <td>50.0</td>\n",
       "      <td>16.0</td>\n",
       "      <td>NaN</td>\n",
       "      <td>NaN</td>\n",
       "      <td>NaN</td>\n",
       "      <td>NaN</td>\n",
       "      <td>NaN</td>\n",
       "      <td>NaN</td>\n",
       "      <td>NaN</td>\n",
       "      <td>NaN</td>\n",
       "    </tr>\n",
       "    <tr>\n",
       "      <th>2</th>\n",
       "      <td>USW00093067</td>\n",
       "      <td>DENVER CENTENNIAL AIRPORT, CO US</td>\n",
       "      <td>2012-01-03</td>\n",
       "      <td>6.26</td>\n",
       "      <td>0.0</td>\n",
       "      <td>NaN</td>\n",
       "      <td>NaN</td>\n",
       "      <td>NaN</td>\n",
       "      <td>55.0</td>\n",
       "      <td>31.0</td>\n",
       "      <td>NaN</td>\n",
       "      <td>NaN</td>\n",
       "      <td>NaN</td>\n",
       "      <td>NaN</td>\n",
       "      <td>NaN</td>\n",
       "      <td>NaN</td>\n",
       "      <td>NaN</td>\n",
       "      <td>NaN</td>\n",
       "    </tr>\n",
       "    <tr>\n",
       "      <th>3</th>\n",
       "      <td>USW00093067</td>\n",
       "      <td>DENVER CENTENNIAL AIRPORT, CO US</td>\n",
       "      <td>2012-01-04</td>\n",
       "      <td>6.04</td>\n",
       "      <td>0.0</td>\n",
       "      <td>NaN</td>\n",
       "      <td>NaN</td>\n",
       "      <td>NaN</td>\n",
       "      <td>58.0</td>\n",
       "      <td>27.0</td>\n",
       "      <td>NaN</td>\n",
       "      <td>NaN</td>\n",
       "      <td>NaN</td>\n",
       "      <td>NaN</td>\n",
       "      <td>NaN</td>\n",
       "      <td>NaN</td>\n",
       "      <td>NaN</td>\n",
       "      <td>NaN</td>\n",
       "    </tr>\n",
       "    <tr>\n",
       "      <th>4</th>\n",
       "      <td>USW00093067</td>\n",
       "      <td>DENVER CENTENNIAL AIRPORT, CO US</td>\n",
       "      <td>2012-01-05</td>\n",
       "      <td>4.92</td>\n",
       "      <td>0.0</td>\n",
       "      <td>NaN</td>\n",
       "      <td>NaN</td>\n",
       "      <td>NaN</td>\n",
       "      <td>66.0</td>\n",
       "      <td>35.0</td>\n",
       "      <td>NaN</td>\n",
       "      <td>NaN</td>\n",
       "      <td>NaN</td>\n",
       "      <td>NaN</td>\n",
       "      <td>NaN</td>\n",
       "      <td>NaN</td>\n",
       "      <td>NaN</td>\n",
       "      <td>NaN</td>\n",
       "    </tr>\n",
       "  </tbody>\n",
       "</table>\n",
       "</div>"
      ],
      "text/plain": [
       "       STATION                              NAME        DATE  AWND  PRCP  \\\n",
       "0  USW00093067  DENVER CENTENNIAL AIRPORT, CO US  2012-01-01  6.04   0.0   \n",
       "1  USW00093067  DENVER CENTENNIAL AIRPORT, CO US  2012-01-02  6.71   0.0   \n",
       "2  USW00093067  DENVER CENTENNIAL AIRPORT, CO US  2012-01-03  6.26   0.0   \n",
       "3  USW00093067  DENVER CENTENNIAL AIRPORT, CO US  2012-01-04  6.04   0.0   \n",
       "4  USW00093067  DENVER CENTENNIAL AIRPORT, CO US  2012-01-05  4.92   0.0   \n",
       "\n",
       "   SNOW  SNWD  TAVG  TMAX  TMIN  WT01  WT02  WT03  WT04  WT05  WT06  WT08  \\\n",
       "0   NaN   NaN   NaN  38.0  18.0   NaN   NaN   NaN   NaN   NaN   NaN   NaN   \n",
       "1   NaN   NaN   NaN  50.0  16.0   NaN   NaN   NaN   NaN   NaN   NaN   NaN   \n",
       "2   NaN   NaN   NaN  55.0  31.0   NaN   NaN   NaN   NaN   NaN   NaN   NaN   \n",
       "3   NaN   NaN   NaN  58.0  27.0   NaN   NaN   NaN   NaN   NaN   NaN   NaN   \n",
       "4   NaN   NaN   NaN  66.0  35.0   NaN   NaN   NaN   NaN   NaN   NaN   NaN   \n",
       "\n",
       "   WT09  \n",
       "0   NaN  \n",
       "1   NaN  \n",
       "2   NaN  \n",
       "3   NaN  \n",
       "4   NaN  "
      ]
     },
     "execution_count": 520,
     "metadata": {},
     "output_type": "execute_result"
    }
   ],
   "source": [
    "weather.head()"
   ]
  },
  {
   "cell_type": "markdown",
   "metadata": {},
   "source": [
    "* PRCP :  Precipitation\n",
    "* AWND :  Wind speed\n",
    "* SNOW, SNWD :  Snowfall, Snow depth\n",
    "* TAVG, TAX, TMIN :  Temperature\n",
    "* WT01,WT02, ..., WT09 :  Bad weather conditions \n",
    "  \n",
    "     * 01 = Fog, ice fog, or freezing fog \n",
    "     * 02 = Heavy fog or heaving freezing fog \n",
    "     * 03 = Thunder\n",
    "     * 04 = Ice pellets, sleet, snow pellets, or small hail\n",
    "     * 05 = Hail \n",
    "     * 06 = Glaze or rime\n",
    "     * 08 = Smoke or haze\n",
    "     * 09 = Blowing or drifting snow\n",
    " "
   ]
  },
  {
   "cell_type": "code",
   "execution_count": 521,
   "metadata": {},
   "outputs": [
    {
     "data": {
      "text/plain": [
       "(1826, 18)"
      ]
     },
     "execution_count": 521,
     "metadata": {},
     "output_type": "execute_result"
    }
   ],
   "source": [
    "weather.shape"
   ]
  },
  {
   "cell_type": "code",
   "execution_count": 522,
   "metadata": {},
   "outputs": [
    {
     "data": {
      "text/plain": [
       "STATION       0\n",
       "NAME          0\n",
       "DATE          0\n",
       "AWND          0\n",
       "PRCP          0\n",
       "SNOW       1826\n",
       "SNWD       1826\n",
       "TAVG       1826\n",
       "TMAX          1\n",
       "TMIN          1\n",
       "WT01       1381\n",
       "WT02       1759\n",
       "WT03       1513\n",
       "WT04       1824\n",
       "WT05       1804\n",
       "WT06       1816\n",
       "WT08       1631\n",
       "WT09       1808\n",
       "dtype: int64"
      ]
     },
     "execution_count": 522,
     "metadata": {},
     "output_type": "execute_result"
    }
   ],
   "source": [
    "weather.isnull().sum()"
   ]
  },
  {
   "cell_type": "markdown",
   "metadata": {},
   "source": [
    "#### Dropping columns 'STATION' , 'NAME', 'SNOW', 'SNOWD'"
   ]
  },
  {
   "cell_type": "code",
   "execution_count": 523,
   "metadata": {},
   "outputs": [
    {
     "data": {
      "text/plain": [
       "USW00093067    1826\n",
       "Name: STATION, dtype: int64"
      ]
     },
     "execution_count": 523,
     "metadata": {},
     "output_type": "execute_result"
    }
   ],
   "source": [
    "weather.STATION.value_counts()"
   ]
  },
  {
   "cell_type": "code",
   "execution_count": 524,
   "metadata": {},
   "outputs": [
    {
     "data": {
      "text/plain": [
       "DENVER CENTENNIAL AIRPORT, CO US    1826\n",
       "Name: NAME, dtype: int64"
      ]
     },
     "execution_count": 524,
     "metadata": {},
     "output_type": "execute_result"
    }
   ],
   "source": [
    "weather.NAME.value_counts()"
   ]
  },
  {
   "cell_type": "markdown",
   "metadata": {},
   "source": [
    "Since columns 'STATION' and 'NAME' have only one value 'USW00093067' and 'CENTENNIAL AIRPORT' each, I will drop those two columns. Columns 'SNOW' and 'SNOWD' only have null values, I will also drop those columns."
   ]
  },
  {
   "cell_type": "code",
   "execution_count": 525,
   "metadata": {},
   "outputs": [],
   "source": [
    "# Drop 'STATION' and 'NAME' columns\n",
    "weather.drop(['STATION','NAME'], axis = 'columns', inplace = True)"
   ]
  },
  {
   "cell_type": "code",
   "execution_count": 526,
   "metadata": {},
   "outputs": [
    {
     "data": {
      "text/plain": [
       "(1826, 16)"
      ]
     },
     "execution_count": 526,
     "metadata": {},
     "output_type": "execute_result"
    }
   ],
   "source": [
    "weather.shape"
   ]
  },
  {
   "cell_type": "code",
   "execution_count": 527,
   "metadata": {},
   "outputs": [],
   "source": [
    "weather.drop(['SNOW','SNWD'], axis = 1, inplace = True )"
   ]
  },
  {
   "cell_type": "code",
   "execution_count": 528,
   "metadata": {},
   "outputs": [
    {
     "data": {
      "text/plain": [
       "(1826, 14)"
      ]
     },
     "execution_count": 528,
     "metadata": {},
     "output_type": "execute_result"
    }
   ],
   "source": [
    "weather.shape"
   ]
  },
  {
   "cell_type": "markdown",
   "metadata": {},
   "source": [
    "<p style =  'text-align: justify; '>\n",
    "Columns 'TMAX' and 'TMIN'  have to be filled in because everyday has to have max and min temperature. I will caculate the min and max temperature by using 7 consecutive days excluding the day which has null value. </p>"
   ]
  },
  {
   "cell_type": "code",
   "execution_count": 529,
   "metadata": {},
   "outputs": [
    {
     "data": {
      "text/html": [
       "<div>\n",
       "<style scoped>\n",
       "    .dataframe tbody tr th:only-of-type {\n",
       "        vertical-align: middle;\n",
       "    }\n",
       "\n",
       "    .dataframe tbody tr th {\n",
       "        vertical-align: top;\n",
       "    }\n",
       "\n",
       "    .dataframe thead th {\n",
       "        text-align: right;\n",
       "    }\n",
       "</style>\n",
       "<table border=\"1\" class=\"dataframe\">\n",
       "  <thead>\n",
       "    <tr style=\"text-align: right;\">\n",
       "      <th></th>\n",
       "      <th>DATE</th>\n",
       "      <th>AWND</th>\n",
       "      <th>PRCP</th>\n",
       "      <th>TAVG</th>\n",
       "      <th>TMAX</th>\n",
       "      <th>TMIN</th>\n",
       "      <th>WT01</th>\n",
       "      <th>WT02</th>\n",
       "      <th>WT03</th>\n",
       "      <th>WT04</th>\n",
       "      <th>WT05</th>\n",
       "      <th>WT06</th>\n",
       "      <th>WT08</th>\n",
       "      <th>WT09</th>\n",
       "    </tr>\n",
       "  </thead>\n",
       "  <tbody>\n",
       "    <tr>\n",
       "      <th>1369</th>\n",
       "      <td>2015-10-02</td>\n",
       "      <td>12.08</td>\n",
       "      <td>0.0</td>\n",
       "      <td>NaN</td>\n",
       "      <td>NaN</td>\n",
       "      <td>NaN</td>\n",
       "      <td>1.0</td>\n",
       "      <td>1.0</td>\n",
       "      <td>NaN</td>\n",
       "      <td>NaN</td>\n",
       "      <td>NaN</td>\n",
       "      <td>NaN</td>\n",
       "      <td>NaN</td>\n",
       "      <td>NaN</td>\n",
       "    </tr>\n",
       "  </tbody>\n",
       "</table>\n",
       "</div>"
      ],
      "text/plain": [
       "            DATE   AWND  PRCP  TAVG  TMAX  TMIN  WT01  WT02  WT03  WT04  WT05  \\\n",
       "1369  2015-10-02  12.08   0.0   NaN   NaN   NaN   1.0   1.0   NaN   NaN   NaN   \n",
       "\n",
       "      WT06  WT08  WT09  \n",
       "1369   NaN   NaN   NaN  "
      ]
     },
     "execution_count": 529,
     "metadata": {},
     "output_type": "execute_result"
    }
   ],
   "source": [
    "weather[weather['TMIN'].isna()]"
   ]
  },
  {
   "cell_type": "code",
   "execution_count": 530,
   "metadata": {},
   "outputs": [
    {
     "data": {
      "text/html": [
       "<div>\n",
       "<style scoped>\n",
       "    .dataframe tbody tr th:only-of-type {\n",
       "        vertical-align: middle;\n",
       "    }\n",
       "\n",
       "    .dataframe tbody tr th {\n",
       "        vertical-align: top;\n",
       "    }\n",
       "\n",
       "    .dataframe thead th {\n",
       "        text-align: right;\n",
       "    }\n",
       "</style>\n",
       "<table border=\"1\" class=\"dataframe\">\n",
       "  <thead>\n",
       "    <tr style=\"text-align: right;\">\n",
       "      <th></th>\n",
       "      <th>DATE</th>\n",
       "      <th>AWND</th>\n",
       "      <th>PRCP</th>\n",
       "      <th>TAVG</th>\n",
       "      <th>TMAX</th>\n",
       "      <th>TMIN</th>\n",
       "      <th>WT01</th>\n",
       "      <th>WT02</th>\n",
       "      <th>WT03</th>\n",
       "      <th>WT04</th>\n",
       "      <th>WT05</th>\n",
       "      <th>WT06</th>\n",
       "      <th>WT08</th>\n",
       "      <th>WT09</th>\n",
       "    </tr>\n",
       "  </thead>\n",
       "  <tbody>\n",
       "    <tr>\n",
       "      <th>1369</th>\n",
       "      <td>2015-10-02</td>\n",
       "      <td>12.08</td>\n",
       "      <td>0.0</td>\n",
       "      <td>NaN</td>\n",
       "      <td>NaN</td>\n",
       "      <td>NaN</td>\n",
       "      <td>1.0</td>\n",
       "      <td>1.0</td>\n",
       "      <td>NaN</td>\n",
       "      <td>NaN</td>\n",
       "      <td>NaN</td>\n",
       "      <td>NaN</td>\n",
       "      <td>NaN</td>\n",
       "      <td>NaN</td>\n",
       "    </tr>\n",
       "  </tbody>\n",
       "</table>\n",
       "</div>"
      ],
      "text/plain": [
       "            DATE   AWND  PRCP  TAVG  TMAX  TMIN  WT01  WT02  WT03  WT04  WT05  \\\n",
       "1369  2015-10-02  12.08   0.0   NaN   NaN   NaN   1.0   1.0   NaN   NaN   NaN   \n",
       "\n",
       "      WT06  WT08  WT09  \n",
       "1369   NaN   NaN   NaN  "
      ]
     },
     "execution_count": 530,
     "metadata": {},
     "output_type": "execute_result"
    }
   ],
   "source": [
    "weather[weather['TMAX'].isna()]"
   ]
  },
  {
   "cell_type": "markdown",
   "metadata": {},
   "source": [
    "Since null values of 'TMAX' and 'TMIN' are in the same row, I will use the same 7 consecutive days to calculate min and max temperatuer on 2015-10-02. (2015-09-29 ~ 2015-10-05) "
   ]
  },
  {
   "cell_type": "code",
   "execution_count": 531,
   "metadata": {},
   "outputs": [
    {
     "data": {
      "text/html": [
       "<div>\n",
       "<style scoped>\n",
       "    .dataframe tbody tr th:only-of-type {\n",
       "        vertical-align: middle;\n",
       "    }\n",
       "\n",
       "    .dataframe tbody tr th {\n",
       "        vertical-align: top;\n",
       "    }\n",
       "\n",
       "    .dataframe thead th {\n",
       "        text-align: right;\n",
       "    }\n",
       "</style>\n",
       "<table border=\"1\" class=\"dataframe\">\n",
       "  <thead>\n",
       "    <tr style=\"text-align: right;\">\n",
       "      <th></th>\n",
       "      <th>DATE</th>\n",
       "      <th>AWND</th>\n",
       "      <th>PRCP</th>\n",
       "      <th>TAVG</th>\n",
       "      <th>TMAX</th>\n",
       "      <th>TMIN</th>\n",
       "      <th>WT01</th>\n",
       "      <th>WT02</th>\n",
       "      <th>WT03</th>\n",
       "      <th>WT04</th>\n",
       "      <th>WT05</th>\n",
       "      <th>WT06</th>\n",
       "      <th>WT08</th>\n",
       "      <th>WT09</th>\n",
       "    </tr>\n",
       "  </thead>\n",
       "  <tbody>\n",
       "    <tr>\n",
       "      <th>1366</th>\n",
       "      <td>2015-09-29</td>\n",
       "      <td>10.51</td>\n",
       "      <td>0.10</td>\n",
       "      <td>NaN</td>\n",
       "      <td>78.0</td>\n",
       "      <td>53.0</td>\n",
       "      <td>NaN</td>\n",
       "      <td>NaN</td>\n",
       "      <td>1.0</td>\n",
       "      <td>NaN</td>\n",
       "      <td>NaN</td>\n",
       "      <td>NaN</td>\n",
       "      <td>NaN</td>\n",
       "      <td>NaN</td>\n",
       "    </tr>\n",
       "    <tr>\n",
       "      <th>1367</th>\n",
       "      <td>2015-09-30</td>\n",
       "      <td>5.82</td>\n",
       "      <td>0.00</td>\n",
       "      <td>NaN</td>\n",
       "      <td>79.0</td>\n",
       "      <td>55.0</td>\n",
       "      <td>NaN</td>\n",
       "      <td>NaN</td>\n",
       "      <td>NaN</td>\n",
       "      <td>NaN</td>\n",
       "      <td>NaN</td>\n",
       "      <td>NaN</td>\n",
       "      <td>NaN</td>\n",
       "      <td>NaN</td>\n",
       "    </tr>\n",
       "    <tr>\n",
       "      <th>1368</th>\n",
       "      <td>2015-10-01</td>\n",
       "      <td>8.28</td>\n",
       "      <td>0.00</td>\n",
       "      <td>NaN</td>\n",
       "      <td>83.0</td>\n",
       "      <td>55.0</td>\n",
       "      <td>NaN</td>\n",
       "      <td>NaN</td>\n",
       "      <td>NaN</td>\n",
       "      <td>NaN</td>\n",
       "      <td>NaN</td>\n",
       "      <td>NaN</td>\n",
       "      <td>NaN</td>\n",
       "      <td>NaN</td>\n",
       "    </tr>\n",
       "    <tr>\n",
       "      <th>1369</th>\n",
       "      <td>2015-10-02</td>\n",
       "      <td>12.08</td>\n",
       "      <td>0.00</td>\n",
       "      <td>NaN</td>\n",
       "      <td>NaN</td>\n",
       "      <td>NaN</td>\n",
       "      <td>1.0</td>\n",
       "      <td>1.0</td>\n",
       "      <td>NaN</td>\n",
       "      <td>NaN</td>\n",
       "      <td>NaN</td>\n",
       "      <td>NaN</td>\n",
       "      <td>NaN</td>\n",
       "      <td>NaN</td>\n",
       "    </tr>\n",
       "    <tr>\n",
       "      <th>1370</th>\n",
       "      <td>2015-10-03</td>\n",
       "      <td>9.17</td>\n",
       "      <td>0.00</td>\n",
       "      <td>NaN</td>\n",
       "      <td>69.0</td>\n",
       "      <td>49.0</td>\n",
       "      <td>NaN</td>\n",
       "      <td>NaN</td>\n",
       "      <td>1.0</td>\n",
       "      <td>NaN</td>\n",
       "      <td>NaN</td>\n",
       "      <td>NaN</td>\n",
       "      <td>NaN</td>\n",
       "      <td>NaN</td>\n",
       "    </tr>\n",
       "    <tr>\n",
       "      <th>1371</th>\n",
       "      <td>2015-10-04</td>\n",
       "      <td>6.93</td>\n",
       "      <td>0.00</td>\n",
       "      <td>NaN</td>\n",
       "      <td>65.0</td>\n",
       "      <td>46.0</td>\n",
       "      <td>1.0</td>\n",
       "      <td>NaN</td>\n",
       "      <td>1.0</td>\n",
       "      <td>NaN</td>\n",
       "      <td>NaN</td>\n",
       "      <td>NaN</td>\n",
       "      <td>NaN</td>\n",
       "      <td>NaN</td>\n",
       "    </tr>\n",
       "    <tr>\n",
       "      <th>1372</th>\n",
       "      <td>2015-10-05</td>\n",
       "      <td>4.92</td>\n",
       "      <td>0.14</td>\n",
       "      <td>NaN</td>\n",
       "      <td>73.0</td>\n",
       "      <td>43.0</td>\n",
       "      <td>1.0</td>\n",
       "      <td>NaN</td>\n",
       "      <td>1.0</td>\n",
       "      <td>NaN</td>\n",
       "      <td>NaN</td>\n",
       "      <td>NaN</td>\n",
       "      <td>1.0</td>\n",
       "      <td>NaN</td>\n",
       "    </tr>\n",
       "  </tbody>\n",
       "</table>\n",
       "</div>"
      ],
      "text/plain": [
       "            DATE   AWND  PRCP  TAVG  TMAX  TMIN  WT01  WT02  WT03  WT04  WT05  \\\n",
       "1366  2015-09-29  10.51  0.10   NaN  78.0  53.0   NaN   NaN   1.0   NaN   NaN   \n",
       "1367  2015-09-30   5.82  0.00   NaN  79.0  55.0   NaN   NaN   NaN   NaN   NaN   \n",
       "1368  2015-10-01   8.28  0.00   NaN  83.0  55.0   NaN   NaN   NaN   NaN   NaN   \n",
       "1369  2015-10-02  12.08  0.00   NaN   NaN   NaN   1.0   1.0   NaN   NaN   NaN   \n",
       "1370  2015-10-03   9.17  0.00   NaN  69.0  49.0   NaN   NaN   1.0   NaN   NaN   \n",
       "1371  2015-10-04   6.93  0.00   NaN  65.0  46.0   1.0   NaN   1.0   NaN   NaN   \n",
       "1372  2015-10-05   4.92  0.14   NaN  73.0  43.0   1.0   NaN   1.0   NaN   NaN   \n",
       "\n",
       "      WT06  WT08  WT09  \n",
       "1366   NaN   NaN   NaN  \n",
       "1367   NaN   NaN   NaN  \n",
       "1368   NaN   NaN   NaN  \n",
       "1369   NaN   NaN   NaN  \n",
       "1370   NaN   NaN   NaN  \n",
       "1371   NaN   NaN   NaN  \n",
       "1372   NaN   1.0   NaN  "
      ]
     },
     "execution_count": 531,
     "metadata": {},
     "output_type": "execute_result"
    }
   ],
   "source": [
    "weather.iloc[1366:1373, :]"
   ]
  },
  {
   "cell_type": "code",
   "execution_count": 532,
   "metadata": {},
   "outputs": [],
   "source": [
    "max_temp_for_calculation = weather.iloc[1366:1373,4]"
   ]
  },
  {
   "cell_type": "code",
   "execution_count": 533,
   "metadata": {},
   "outputs": [
    {
     "data": {
      "text/plain": [
       "1366    78.0\n",
       "1367    79.0\n",
       "1368    83.0\n",
       "1369     NaN\n",
       "1370    69.0\n",
       "1371    65.0\n",
       "1372    73.0\n",
       "Name: TMAX, dtype: float64"
      ]
     },
     "execution_count": 533,
     "metadata": {},
     "output_type": "execute_result"
    }
   ],
   "source": [
    "max_temp_for_calculation"
   ]
  },
  {
   "cell_type": "code",
   "execution_count": 534,
   "metadata": {},
   "outputs": [],
   "source": [
    "weather.iloc[1369,4] = max_temp_for_calculation.mean(skipna = True)"
   ]
  },
  {
   "cell_type": "code",
   "execution_count": 535,
   "metadata": {},
   "outputs": [],
   "source": [
    "min_temp_for_calculation = weather.iloc[1366:1373,5]"
   ]
  },
  {
   "cell_type": "code",
   "execution_count": 536,
   "metadata": {},
   "outputs": [
    {
     "data": {
      "text/plain": [
       "1366    53.0\n",
       "1367    55.0\n",
       "1368    55.0\n",
       "1369     NaN\n",
       "1370    49.0\n",
       "1371    46.0\n",
       "1372    43.0\n",
       "Name: TMIN, dtype: float64"
      ]
     },
     "execution_count": 536,
     "metadata": {},
     "output_type": "execute_result"
    }
   ],
   "source": [
    "min_temp_for_calculation"
   ]
  },
  {
   "cell_type": "code",
   "execution_count": 537,
   "metadata": {},
   "outputs": [],
   "source": [
    "weather.iloc[1369,5] = min_temp_for_calculation.mean(skipna = True)"
   ]
  },
  {
   "cell_type": "code",
   "execution_count": 538,
   "metadata": {},
   "outputs": [
    {
     "data": {
      "text/html": [
       "<div>\n",
       "<style scoped>\n",
       "    .dataframe tbody tr th:only-of-type {\n",
       "        vertical-align: middle;\n",
       "    }\n",
       "\n",
       "    .dataframe tbody tr th {\n",
       "        vertical-align: top;\n",
       "    }\n",
       "\n",
       "    .dataframe thead th {\n",
       "        text-align: right;\n",
       "    }\n",
       "</style>\n",
       "<table border=\"1\" class=\"dataframe\">\n",
       "  <thead>\n",
       "    <tr style=\"text-align: right;\">\n",
       "      <th></th>\n",
       "      <th>DATE</th>\n",
       "      <th>AWND</th>\n",
       "      <th>PRCP</th>\n",
       "      <th>TAVG</th>\n",
       "      <th>TMAX</th>\n",
       "      <th>TMIN</th>\n",
       "      <th>WT01</th>\n",
       "      <th>WT02</th>\n",
       "      <th>WT03</th>\n",
       "      <th>WT04</th>\n",
       "      <th>WT05</th>\n",
       "      <th>WT06</th>\n",
       "      <th>WT08</th>\n",
       "      <th>WT09</th>\n",
       "    </tr>\n",
       "  </thead>\n",
       "  <tbody>\n",
       "    <tr>\n",
       "      <th>1366</th>\n",
       "      <td>2015-09-29</td>\n",
       "      <td>10.51</td>\n",
       "      <td>0.10</td>\n",
       "      <td>NaN</td>\n",
       "      <td>78.0</td>\n",
       "      <td>53.000000</td>\n",
       "      <td>NaN</td>\n",
       "      <td>NaN</td>\n",
       "      <td>1.0</td>\n",
       "      <td>NaN</td>\n",
       "      <td>NaN</td>\n",
       "      <td>NaN</td>\n",
       "      <td>NaN</td>\n",
       "      <td>NaN</td>\n",
       "    </tr>\n",
       "    <tr>\n",
       "      <th>1367</th>\n",
       "      <td>2015-09-30</td>\n",
       "      <td>5.82</td>\n",
       "      <td>0.00</td>\n",
       "      <td>NaN</td>\n",
       "      <td>79.0</td>\n",
       "      <td>55.000000</td>\n",
       "      <td>NaN</td>\n",
       "      <td>NaN</td>\n",
       "      <td>NaN</td>\n",
       "      <td>NaN</td>\n",
       "      <td>NaN</td>\n",
       "      <td>NaN</td>\n",
       "      <td>NaN</td>\n",
       "      <td>NaN</td>\n",
       "    </tr>\n",
       "    <tr>\n",
       "      <th>1368</th>\n",
       "      <td>2015-10-01</td>\n",
       "      <td>8.28</td>\n",
       "      <td>0.00</td>\n",
       "      <td>NaN</td>\n",
       "      <td>83.0</td>\n",
       "      <td>55.000000</td>\n",
       "      <td>NaN</td>\n",
       "      <td>NaN</td>\n",
       "      <td>NaN</td>\n",
       "      <td>NaN</td>\n",
       "      <td>NaN</td>\n",
       "      <td>NaN</td>\n",
       "      <td>NaN</td>\n",
       "      <td>NaN</td>\n",
       "    </tr>\n",
       "    <tr>\n",
       "      <th>1369</th>\n",
       "      <td>2015-10-02</td>\n",
       "      <td>12.08</td>\n",
       "      <td>0.00</td>\n",
       "      <td>NaN</td>\n",
       "      <td>74.5</td>\n",
       "      <td>50.166667</td>\n",
       "      <td>1.0</td>\n",
       "      <td>1.0</td>\n",
       "      <td>NaN</td>\n",
       "      <td>NaN</td>\n",
       "      <td>NaN</td>\n",
       "      <td>NaN</td>\n",
       "      <td>NaN</td>\n",
       "      <td>NaN</td>\n",
       "    </tr>\n",
       "    <tr>\n",
       "      <th>1370</th>\n",
       "      <td>2015-10-03</td>\n",
       "      <td>9.17</td>\n",
       "      <td>0.00</td>\n",
       "      <td>NaN</td>\n",
       "      <td>69.0</td>\n",
       "      <td>49.000000</td>\n",
       "      <td>NaN</td>\n",
       "      <td>NaN</td>\n",
       "      <td>1.0</td>\n",
       "      <td>NaN</td>\n",
       "      <td>NaN</td>\n",
       "      <td>NaN</td>\n",
       "      <td>NaN</td>\n",
       "      <td>NaN</td>\n",
       "    </tr>\n",
       "    <tr>\n",
       "      <th>1371</th>\n",
       "      <td>2015-10-04</td>\n",
       "      <td>6.93</td>\n",
       "      <td>0.00</td>\n",
       "      <td>NaN</td>\n",
       "      <td>65.0</td>\n",
       "      <td>46.000000</td>\n",
       "      <td>1.0</td>\n",
       "      <td>NaN</td>\n",
       "      <td>1.0</td>\n",
       "      <td>NaN</td>\n",
       "      <td>NaN</td>\n",
       "      <td>NaN</td>\n",
       "      <td>NaN</td>\n",
       "      <td>NaN</td>\n",
       "    </tr>\n",
       "    <tr>\n",
       "      <th>1372</th>\n",
       "      <td>2015-10-05</td>\n",
       "      <td>4.92</td>\n",
       "      <td>0.14</td>\n",
       "      <td>NaN</td>\n",
       "      <td>73.0</td>\n",
       "      <td>43.000000</td>\n",
       "      <td>1.0</td>\n",
       "      <td>NaN</td>\n",
       "      <td>1.0</td>\n",
       "      <td>NaN</td>\n",
       "      <td>NaN</td>\n",
       "      <td>NaN</td>\n",
       "      <td>1.0</td>\n",
       "      <td>NaN</td>\n",
       "    </tr>\n",
       "  </tbody>\n",
       "</table>\n",
       "</div>"
      ],
      "text/plain": [
       "            DATE   AWND  PRCP  TAVG  TMAX       TMIN  WT01  WT02  WT03  WT04  \\\n",
       "1366  2015-09-29  10.51  0.10   NaN  78.0  53.000000   NaN   NaN   1.0   NaN   \n",
       "1367  2015-09-30   5.82  0.00   NaN  79.0  55.000000   NaN   NaN   NaN   NaN   \n",
       "1368  2015-10-01   8.28  0.00   NaN  83.0  55.000000   NaN   NaN   NaN   NaN   \n",
       "1369  2015-10-02  12.08  0.00   NaN  74.5  50.166667   1.0   1.0   NaN   NaN   \n",
       "1370  2015-10-03   9.17  0.00   NaN  69.0  49.000000   NaN   NaN   1.0   NaN   \n",
       "1371  2015-10-04   6.93  0.00   NaN  65.0  46.000000   1.0   NaN   1.0   NaN   \n",
       "1372  2015-10-05   4.92  0.14   NaN  73.0  43.000000   1.0   NaN   1.0   NaN   \n",
       "\n",
       "      WT05  WT06  WT08  WT09  \n",
       "1366   NaN   NaN   NaN   NaN  \n",
       "1367   NaN   NaN   NaN   NaN  \n",
       "1368   NaN   NaN   NaN   NaN  \n",
       "1369   NaN   NaN   NaN   NaN  \n",
       "1370   NaN   NaN   NaN   NaN  \n",
       "1371   NaN   NaN   NaN   NaN  \n",
       "1372   NaN   NaN   1.0   NaN  "
      ]
     },
     "execution_count": 538,
     "metadata": {},
     "output_type": "execute_result"
    }
   ],
   "source": [
    "weather.iloc[1366:1373,:]"
   ]
  },
  {
   "cell_type": "markdown",
   "metadata": {},
   "source": [
    "'TMAX' and 'TMIN' on 2015-10-12 are filled in now."
   ]
  },
  {
   "cell_type": "markdown",
   "metadata": {},
   "source": [
    "#### Filliing in average temperature 'TAVG'\n",
    "I will calculate the values of average temperature ('TAVG') column by calculating the mean of min and max temperature."
   ]
  },
  {
   "cell_type": "code",
   "execution_count": 539,
   "metadata": {},
   "outputs": [],
   "source": [
    "weather['TAVG'] = weather[['TMAX','TMIN']].mean(axis=1)"
   ]
  },
  {
   "cell_type": "code",
   "execution_count": 540,
   "metadata": {},
   "outputs": [
    {
     "data": {
      "text/html": [
       "<div>\n",
       "<style scoped>\n",
       "    .dataframe tbody tr th:only-of-type {\n",
       "        vertical-align: middle;\n",
       "    }\n",
       "\n",
       "    .dataframe tbody tr th {\n",
       "        vertical-align: top;\n",
       "    }\n",
       "\n",
       "    .dataframe thead th {\n",
       "        text-align: right;\n",
       "    }\n",
       "</style>\n",
       "<table border=\"1\" class=\"dataframe\">\n",
       "  <thead>\n",
       "    <tr style=\"text-align: right;\">\n",
       "      <th></th>\n",
       "      <th>DATE</th>\n",
       "      <th>AWND</th>\n",
       "      <th>PRCP</th>\n",
       "      <th>TAVG</th>\n",
       "      <th>TMAX</th>\n",
       "      <th>TMIN</th>\n",
       "      <th>WT01</th>\n",
       "      <th>WT02</th>\n",
       "      <th>WT03</th>\n",
       "      <th>WT04</th>\n",
       "      <th>WT05</th>\n",
       "      <th>WT06</th>\n",
       "      <th>WT08</th>\n",
       "      <th>WT09</th>\n",
       "    </tr>\n",
       "  </thead>\n",
       "  <tbody>\n",
       "    <tr>\n",
       "      <th>0</th>\n",
       "      <td>2012-01-01</td>\n",
       "      <td>6.04</td>\n",
       "      <td>0.0</td>\n",
       "      <td>28.0</td>\n",
       "      <td>38.0</td>\n",
       "      <td>18.0</td>\n",
       "      <td>NaN</td>\n",
       "      <td>NaN</td>\n",
       "      <td>NaN</td>\n",
       "      <td>NaN</td>\n",
       "      <td>NaN</td>\n",
       "      <td>NaN</td>\n",
       "      <td>NaN</td>\n",
       "      <td>NaN</td>\n",
       "    </tr>\n",
       "    <tr>\n",
       "      <th>1</th>\n",
       "      <td>2012-01-02</td>\n",
       "      <td>6.71</td>\n",
       "      <td>0.0</td>\n",
       "      <td>33.0</td>\n",
       "      <td>50.0</td>\n",
       "      <td>16.0</td>\n",
       "      <td>NaN</td>\n",
       "      <td>NaN</td>\n",
       "      <td>NaN</td>\n",
       "      <td>NaN</td>\n",
       "      <td>NaN</td>\n",
       "      <td>NaN</td>\n",
       "      <td>NaN</td>\n",
       "      <td>NaN</td>\n",
       "    </tr>\n",
       "    <tr>\n",
       "      <th>2</th>\n",
       "      <td>2012-01-03</td>\n",
       "      <td>6.26</td>\n",
       "      <td>0.0</td>\n",
       "      <td>43.0</td>\n",
       "      <td>55.0</td>\n",
       "      <td>31.0</td>\n",
       "      <td>NaN</td>\n",
       "      <td>NaN</td>\n",
       "      <td>NaN</td>\n",
       "      <td>NaN</td>\n",
       "      <td>NaN</td>\n",
       "      <td>NaN</td>\n",
       "      <td>NaN</td>\n",
       "      <td>NaN</td>\n",
       "    </tr>\n",
       "    <tr>\n",
       "      <th>3</th>\n",
       "      <td>2012-01-04</td>\n",
       "      <td>6.04</td>\n",
       "      <td>0.0</td>\n",
       "      <td>42.5</td>\n",
       "      <td>58.0</td>\n",
       "      <td>27.0</td>\n",
       "      <td>NaN</td>\n",
       "      <td>NaN</td>\n",
       "      <td>NaN</td>\n",
       "      <td>NaN</td>\n",
       "      <td>NaN</td>\n",
       "      <td>NaN</td>\n",
       "      <td>NaN</td>\n",
       "      <td>NaN</td>\n",
       "    </tr>\n",
       "    <tr>\n",
       "      <th>4</th>\n",
       "      <td>2012-01-05</td>\n",
       "      <td>4.92</td>\n",
       "      <td>0.0</td>\n",
       "      <td>50.5</td>\n",
       "      <td>66.0</td>\n",
       "      <td>35.0</td>\n",
       "      <td>NaN</td>\n",
       "      <td>NaN</td>\n",
       "      <td>NaN</td>\n",
       "      <td>NaN</td>\n",
       "      <td>NaN</td>\n",
       "      <td>NaN</td>\n",
       "      <td>NaN</td>\n",
       "      <td>NaN</td>\n",
       "    </tr>\n",
       "  </tbody>\n",
       "</table>\n",
       "</div>"
      ],
      "text/plain": [
       "         DATE  AWND  PRCP  TAVG  TMAX  TMIN  WT01  WT02  WT03  WT04  WT05  \\\n",
       "0  2012-01-01  6.04   0.0  28.0  38.0  18.0   NaN   NaN   NaN   NaN   NaN   \n",
       "1  2012-01-02  6.71   0.0  33.0  50.0  16.0   NaN   NaN   NaN   NaN   NaN   \n",
       "2  2012-01-03  6.26   0.0  43.0  55.0  31.0   NaN   NaN   NaN   NaN   NaN   \n",
       "3  2012-01-04  6.04   0.0  42.5  58.0  27.0   NaN   NaN   NaN   NaN   NaN   \n",
       "4  2012-01-05  4.92   0.0  50.5  66.0  35.0   NaN   NaN   NaN   NaN   NaN   \n",
       "\n",
       "   WT06  WT08  WT09  \n",
       "0   NaN   NaN   NaN  \n",
       "1   NaN   NaN   NaN  \n",
       "2   NaN   NaN   NaN  \n",
       "3   NaN   NaN   NaN  \n",
       "4   NaN   NaN   NaN  "
      ]
     },
     "execution_count": 540,
     "metadata": {},
     "output_type": "execute_result"
    }
   ],
   "source": [
    "weather.head()"
   ]
  },
  {
   "cell_type": "code",
   "execution_count": 541,
   "metadata": {},
   "outputs": [
    {
     "data": {
      "text/plain": [
       "DATE       0\n",
       "AWND       0\n",
       "PRCP       0\n",
       "TAVG       0\n",
       "TMAX       0\n",
       "TMIN       0\n",
       "WT01    1381\n",
       "WT02    1759\n",
       "WT03    1513\n",
       "WT04    1824\n",
       "WT05    1804\n",
       "WT06    1816\n",
       "WT08    1631\n",
       "WT09    1808\n",
       "dtype: int64"
      ]
     },
     "execution_count": 541,
     "metadata": {},
     "output_type": "execute_result"
    }
   ],
   "source": [
    "weather.isnull().sum()"
   ]
  },
  {
   "cell_type": "code",
   "execution_count": null,
   "metadata": {},
   "outputs": [],
   "source": []
  },
  {
   "cell_type": "code",
   "execution_count": null,
   "metadata": {},
   "outputs": [],
   "source": []
  },
  {
   "cell_type": "code",
   "execution_count": null,
   "metadata": {},
   "outputs": [],
   "source": []
  },
  {
   "cell_type": "markdown",
   "metadata": {},
   "source": [
    "### Examing wind speed\n",
    "Explore the wind data to check for reliability."
   ]
  },
  {
   "cell_type": "code",
   "execution_count": 542,
   "metadata": {},
   "outputs": [
    {
     "data": {
      "text/plain": [
       "0    6.04\n",
       "1    6.71\n",
       "2    6.26\n",
       "3    6.04\n",
       "4    4.92\n",
       "Name: AWND, dtype: float64"
      ]
     },
     "execution_count": 542,
     "metadata": {},
     "output_type": "execute_result"
    }
   ],
   "source": [
    "weather['AWND'].head()"
   ]
  },
  {
   "cell_type": "code",
   "execution_count": 543,
   "metadata": {},
   "outputs": [
    {
     "name": "stdout",
     "output_type": "stream",
     "text": [
      "count    1826.000000\n",
      "mean        7.847306\n",
      "std         2.735757\n",
      "min         0.670000\n",
      "25%         6.040000\n",
      "50%         7.380000\n",
      "75%         9.170000\n",
      "max        22.820000\n",
      "Name: AWND, dtype: float64\n"
     ]
    }
   ],
   "source": [
    "print(weather['AWND'].describe())"
   ]
  },
  {
   "cell_type": "markdown",
   "metadata": {},
   "source": [
    "Minimum value is above zero, and average value is greter than min and less than max. Also, the numbers are reasonable miles per hour value."
   ]
  },
  {
   "cell_type": "markdown",
   "metadata": {},
   "source": [
    "#### Creating a box plot"
   ]
  },
  {
   "cell_type": "code",
   "execution_count": 544,
   "metadata": {},
   "outputs": [
    {
     "data": {
      "image/png": "[encoded data removed]",
      "text/plain": [
       "<Figure size 432x288 with 1 Axes>"
      ]
     },
     "metadata": {
      "needs_background": "light"
     },
     "output_type": "display_data"
    }
   ],
   "source": [
    "weather['AWND'].plot(kind='box')\n",
    "plt.show()"
   ]
  },
  {
   "cell_type": "code",
   "execution_count": 545,
   "metadata": {},
   "outputs": [
    {
     "data": {
      "image/png": "[encoded data removed]",
      "text/plain": [
       "<Figure size 432x288 with 1 Axes>"
      ]
     },
     "metadata": {
      "needs_background": "light"
     },
     "output_type": "display_data"
    }
   ],
   "source": [
    "weather['AWND'].plot(kind = 'hist', bins=30)\n",
    "plt.show()"
   ]
  },
  {
   "cell_type": "markdown",
   "metadata": {},
   "source": [
    "### Examing temperature\n",
    "Explore the temperature data to check for reliability. Temperature is measured in degrees Fahrenheit."
   ]
  },
  {
   "cell_type": "code",
   "execution_count": 546,
   "metadata": {},
   "outputs": [
    {
     "name": "stdout",
     "output_type": "stream",
     "text": [
      "   TAVG  TMAX  TMIN\n",
      "0  28.0  38.0  18.0\n",
      "1  33.0  50.0  16.0\n",
      "2  43.0  55.0  31.0\n",
      "3  42.5  58.0  27.0\n",
      "4  50.5  66.0  35.0\n"
     ]
    }
   ],
   "source": [
    "print(weather[['TAVG','TMAX','TMIN']].head())"
   ]
  },
  {
   "cell_type": "code",
   "execution_count": 547,
   "metadata": {},
   "outputs": [],
   "source": [
    "# Create data frame 'weather_temp' only contains temperature data.\n",
    "weather_temp = weather[['TAVG','TMAX', 'TMIN']]"
   ]
  },
  {
   "cell_type": "code",
   "execution_count": 548,
   "metadata": {},
   "outputs": [
    {
     "data": {
      "text/html": [
       "<div>\n",
       "<style scoped>\n",
       "    .dataframe tbody tr th:only-of-type {\n",
       "        vertical-align: middle;\n",
       "    }\n",
       "\n",
       "    .dataframe tbody tr th {\n",
       "        vertical-align: top;\n",
       "    }\n",
       "\n",
       "    .dataframe thead th {\n",
       "        text-align: right;\n",
       "    }\n",
       "</style>\n",
       "<table border=\"1\" class=\"dataframe\">\n",
       "  <thead>\n",
       "    <tr style=\"text-align: right;\">\n",
       "      <th></th>\n",
       "      <th>TAVG</th>\n",
       "      <th>TMAX</th>\n",
       "      <th>TMIN</th>\n",
       "    </tr>\n",
       "  </thead>\n",
       "  <tbody>\n",
       "    <tr>\n",
       "      <th>0</th>\n",
       "      <td>28.0</td>\n",
       "      <td>38.0</td>\n",
       "      <td>18.0</td>\n",
       "    </tr>\n",
       "    <tr>\n",
       "      <th>1</th>\n",
       "      <td>33.0</td>\n",
       "      <td>50.0</td>\n",
       "      <td>16.0</td>\n",
       "    </tr>\n",
       "    <tr>\n",
       "      <th>2</th>\n",
       "      <td>43.0</td>\n",
       "      <td>55.0</td>\n",
       "      <td>31.0</td>\n",
       "    </tr>\n",
       "    <tr>\n",
       "      <th>3</th>\n",
       "      <td>42.5</td>\n",
       "      <td>58.0</td>\n",
       "      <td>27.0</td>\n",
       "    </tr>\n",
       "    <tr>\n",
       "      <th>4</th>\n",
       "      <td>50.5</td>\n",
       "      <td>66.0</td>\n",
       "      <td>35.0</td>\n",
       "    </tr>\n",
       "  </tbody>\n",
       "</table>\n",
       "</div>"
      ],
      "text/plain": [
       "   TAVG  TMAX  TMIN\n",
       "0  28.0  38.0  18.0\n",
       "1  33.0  50.0  16.0\n",
       "2  43.0  55.0  31.0\n",
       "3  42.5  58.0  27.0\n",
       "4  50.5  66.0  35.0"
      ]
     },
     "execution_count": 548,
     "metadata": {},
     "output_type": "execute_result"
    }
   ],
   "source": [
    "weather_temp.head()"
   ]
  },
  {
   "cell_type": "code",
   "execution_count": 549,
   "metadata": {},
   "outputs": [
    {
     "data": {
      "text/plain": [
       "(1826, 3)"
      ]
     },
     "execution_count": 549,
     "metadata": {},
     "output_type": "execute_result"
    }
   ],
   "source": [
    "weather_temp.shape"
   ]
  },
  {
   "cell_type": "code",
   "execution_count": 550,
   "metadata": {},
   "outputs": [
    {
     "name": "stdout",
     "output_type": "stream",
     "text": [
      "              TAVG         TMAX         TMIN\n",
      "count  1826.000000  1826.000000  1826.000000\n",
      "mean     50.930632    64.488226    37.373038\n",
      "std      17.798633    19.335963    17.032978\n",
      "min      -7.500000     0.000000   -17.000000\n",
      "25%      38.000000    51.000000    25.000000\n",
      "50%      51.500000    66.000000    37.000000\n",
      "75%      66.500000    81.000000    53.000000\n",
      "max      82.000000   100.000000    67.000000\n"
     ]
    }
   ],
   "source": [
    "print(weather[['TAVG','TMAX','TMIN']].describe())"
   ]
  },
  {
   "cell_type": "code",
   "execution_count": 552,
   "metadata": {},
   "outputs": [
    {
     "data": {
      "image/png": "[encoded data removed]",
      "text/plain": [
       "<Figure size 432x288 with 1 Axes>"
      ]
     },
     "metadata": {
      "needs_background": "light"
     },
     "output_type": "display_data"
    }
   ],
   "source": [
    "weather[['TAVG', 'TMAX', 'TMIN']].plot(kind = 'box')\n",
    "plt.show()"
   ]
  },
  {
   "cell_type": "markdown",
   "metadata": {},
   "source": [
    "### Counting bad weather conditions\n",
    "The weather dataframe contains 8 columns that start with 'WT'. Each of those represents a bad weather condition. All the entries of those are either 0 or 1."
   ]
  },
  {
   "cell_type": "code",
   "execution_count": null,
   "metadata": {},
   "outputs": [],
   "source": []
  },
  {
   "cell_type": "code",
   "execution_count": null,
   "metadata": {},
   "outputs": [],
   "source": []
  },
  {
   "cell_type": "code",
   "execution_count": null,
   "metadata": {},
   "outputs": [],
   "source": []
  },
  {
   "cell_type": "code",
   "execution_count": null,
   "metadata": {},
   "outputs": [],
   "source": []
  }
 ],
 "metadata": {
  "kernelspec": {
   "display_name": "Python 3",
   "language": "python",
   "name": "python3"
  },
  "language_info": {
   "codemirror_mode": {
    "name": "ipython",
    "version": 3
   },
   "file_extension": ".py",
   "mimetype": "text/x-python",
   "name": "python",
   "nbconvert_exporter": "python",
   "pygments_lexer": "ipython3",
   "version": "3.7.3"
  }
 },
 "nbformat": 4,
 "nbformat_minor": 2
}
